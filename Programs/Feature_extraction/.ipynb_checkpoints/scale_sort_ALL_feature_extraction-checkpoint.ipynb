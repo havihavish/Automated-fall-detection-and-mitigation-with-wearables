{
 "cells": [
  {
   "cell_type": "markdown",
   "metadata": {},
   "source": [
    "## Imports"
   ]
  },
  {
   "cell_type": "code",
   "execution_count": 7,
   "metadata": {},
   "outputs": [],
   "source": [
    "import pandas as pd\n",
    "import numpy as np\n",
    "import matplotlib.pyplot as plt\n",
    "from sklearn.preprocessing import MinMaxScaler, StandardScaler"
   ]
  },
  {
   "cell_type": "markdown",
   "metadata": {},
   "source": [
    "## Global Variables"
   ]
  },
  {
   "cell_type": "code",
   "execution_count": 77,
   "metadata": {},
   "outputs": [],
   "source": [
    "raw_data = \"../../../Raw_data/\"\n",
    "lead_time = \"10\""
   ]
  },
  {
   "cell_type": "markdown",
   "metadata": {},
   "source": [
    "## Reading CSV"
   ]
  },
  {
   "cell_type": "code",
   "execution_count": 78,
   "metadata": {},
   "outputs": [],
   "source": [
    "## Read in Raw Data\n",
    "S1 = pd.read_csv(raw_data + lead_time + \"_1.csv\") # 1601594\n",
    "S2 = pd.read_csv(raw_data + lead_time + \"_2.csv\") # 1462598\n",
    "S3 = pd.read_csv(raw_data + lead_time + \"_3.csv\") # 1048576\n",
    "C1 = pd.read_csv(raw_data + lead_time + \"_4.csv\") # 1395756\n",
    "C2 = pd.read_csv(raw_data + lead_time + \"_5.csv\") # 928948\n",
    "C3 = pd.read_csv(raw_data + lead_time + \"_6.csv\") # 949888"
   ]
  },
  {
   "cell_type": "markdown",
   "metadata": {},
   "source": [
    "## Remove outliers "
   ]
  },
  {
   "cell_type": "code",
   "execution_count": 79,
   "metadata": {},
   "outputs": [],
   "source": [
    "# removing one second radius of window which look like a fall \n",
    "# at 801934 msec in C3 subject \n",
    "# and at 1268349 msec in S2 subject\n",
    "S2.drop(S2.loc[(S2.time_counter >= 1267349) & (S2.time_counter <= 1269349)].index, inplace = True)\n",
    "C3.drop(C3.loc[(C3.time_counter >= 800934) & (C3.time_counter <= 802934)].index, inplace = True)\n"
   ]
  },
  {
   "cell_type": "code",
   "execution_count": 80,
   "metadata": {},
   "outputs": [
    {
     "data": {
      "text/html": [
       "<div>\n",
       "<style scoped>\n",
       "    .dataframe tbody tr th:only-of-type {\n",
       "        vertical-align: middle;\n",
       "    }\n",
       "\n",
       "    .dataframe tbody tr th {\n",
       "        vertical-align: top;\n",
       "    }\n",
       "\n",
       "    .dataframe thead th {\n",
       "        text-align: right;\n",
       "    }\n",
       "</style>\n",
       "<table border=\"1\" class=\"dataframe\">\n",
       "  <thead>\n",
       "    <tr style=\"text-align: right;\">\n",
       "      <th></th>\n",
       "      <th>time_counter</th>\n",
       "      <th>accel_base_X</th>\n",
       "      <th>fall_value</th>\n",
       "      <th>accel_base_Y</th>\n",
       "      <th>accel_base_Z</th>\n",
       "      <th>accel_base_mag</th>\n",
       "    </tr>\n",
       "  </thead>\n",
       "  <tbody>\n",
       "  </tbody>\n",
       "</table>\n",
       "</div>"
      ],
      "text/plain": [
       "Empty DataFrame\n",
       "Columns: [time_counter, accel_base_X, fall_value, accel_base_Y, accel_base_Z, accel_base_mag]\n",
       "Index: []"
      ]
     },
     "execution_count": 80,
     "metadata": {},
     "output_type": "execute_result"
    }
   ],
   "source": [
    "C3.loc[(C3.time_counter >= 801824) & (S2.time_counter <= 801840)]"
   ]
  },
  {
   "cell_type": "markdown",
   "metadata": {},
   "source": [
    "## Convert Data to Numpy Arrays"
   ]
  },
  {
   "cell_type": "code",
   "execution_count": 81,
   "metadata": {},
   "outputs": [],
   "source": [
    "X = []\n",
    "X.append(S1[['accel_base_X', 'accel_base_Y', 'accel_base_Z','accel_base_mag']].values)\n",
    "X.append(S2[['accel_base_X', 'accel_base_Y', 'accel_base_Z','accel_base_mag']].values)\n",
    "X.append(S3[['accel_base_X', 'accel_base_Y', 'accel_base_Z','accel_base_mag']].values)\n",
    "X.append(C1[['accel_base_X', 'accel_base_Y', 'accel_base_Z','accel_base_mag']].values)\n",
    "X.append(C2[['accel_base_X', 'accel_base_Y', 'accel_base_Z','accel_base_mag']].values)\n",
    "\n",
    "X_test = C3[['accel_base_X', 'accel_base_Y', 'accel_base_Z','accel_base_mag']].values\n",
    "X = np.vstack(X) # Concatenate all the arrays"
   ]
  },
  {
   "cell_type": "markdown",
   "metadata": {},
   "source": [
    "## Scale Data and Recombine"
   ]
  },
  {
   "cell_type": "code",
   "execution_count": 82,
   "metadata": {},
   "outputs": [],
   "source": [
    "def featureScale(X_train, X_test): # Normalizes NP Array of Features\n",
    "    sc = StandardScaler()\n",
    "    sc.fit(X_train)\n",
    "    X_train = sc.transform(X_train)\n",
    "    X_test = sc.transform(X_test)\n",
    "    return X_train, X_test"
   ]
  },
  {
   "cell_type": "code",
   "execution_count": 83,
   "metadata": {},
   "outputs": [],
   "source": [
    "X, X_test = featureScale(X, X_test)\n",
    "X = np.vstack((X, X_test)) # Recombine after scaling train and test data with the same mean and variance"
   ]
  },
  {
   "cell_type": "markdown",
   "metadata": {},
   "source": [
    "## Separate Data into Subjects after Scaling"
   ]
  },
  {
   "cell_type": "code",
   "execution_count": 84,
   "metadata": {},
   "outputs": [],
   "source": [
    "start_idx = 0\n",
    "end_idx = 0\n",
    "lst = [S1,S2,S3,C1,C2,C3]\n",
    "for sub in lst:\n",
    "    end_idx += len(sub)\n",
    "    sub['accel_base_X'] = X[start_idx:end_idx, 0] \n",
    "    sub['accel_base_Y'] = X[start_idx:end_idx, 1]\n",
    "    sub['accel_base_Z'] = X[start_idx:end_idx, 2]\n",
    "    sub['accel_base_mag'] = X[start_idx:end_idx, 3]\n",
    "    start_idx = end_idx"
   ]
  },
  {
   "cell_type": "markdown",
   "metadata": {},
   "source": [
    "## Extract Features to numpy file"
   ]
  },
  {
   "cell_type": "code",
   "execution_count": 91,
   "metadata": {},
   "outputs": [],
   "source": [
    "def new_create_df(dataset, look_back, fall_buffer, features, rem_range, skip):\n",
    "\n",
    "  fall_sec = dataset[dataset['fall_value']==1].index.values.tolist()\n",
    "  dataset = dataset[features]\n",
    "  print(dataset.head())\n",
    "  data_df = pd.DataFrame(columns=['sec','X','Y'])\n",
    "  feat_count = len(features) -1\n",
    "  print('Fall_sec: ',fall_sec)\n",
    "  sec = []\n",
    "  A = []\n",
    "  B = []\n",
    "  end_list = []  #edge condition for non-fall values\n",
    "  start_list = [0]\n",
    "  #prepare window frame \n",
    "  for i in range(len(fall_sec)):\n",
    "      end_list.append(fall_sec[i] - rem_range)\n",
    "      start_list.append(fall_sec[i] + rem_range)\n",
    "  end_list.append(dataset.shape[0]-look_back-1)  \n",
    "  \n",
    "  #add fall values\n",
    "  fall_count = 0\n",
    "  for i,fall in enumerate(fall_sec):\n",
    "        for j in range(fall-fall_buffer,fall+1,skip):  \n",
    "            print(j)\n",
    "            a = dataset.iloc[j-look_back:j, :feat_count].values\n",
    "            a = np.reshape(a,(look_back,1,feat_count)).tolist()\n",
    "            b = 1\n",
    "            sec.append(j)\n",
    "            A.append(a)\n",
    "            B.append(b)\n",
    "            fall_count += 1\n",
    "  print(\"Added total falls of \",str(fall_count))\n",
    "  #add non-fall values\n",
    "  track = 100000\n",
    "  for start,end in zip(start_list,end_list):\n",
    "      for i in range(start,end,skip):\n",
    "        a = dataset.iloc[i:i+look_back, :feat_count].values\n",
    "        a = np.reshape(a,(look_back,1,feat_count)).tolist()\n",
    "        b = dataset.iloc[i + look_back, feat_count]\n",
    "        sec.append(i)\n",
    "        A.append(a)\n",
    "        B.append(b)\n",
    "        if(i>track):\n",
    "          print('row claculating',i)\n",
    "          track += 100000 \n",
    "  data_df['sec'] = sec\n",
    "  data_df['X'] = A\n",
    "  data_df['Y'] = B\n",
    "  data_df = data_df.sort_values(by=['sec'])\n",
    "  data_df = data_df.reset_index(drop = True)\n",
    "  val = data_df.values\n",
    "  X = np.reshape(val[:,1].tolist(),(val.shape[0],look_back,feat_count))\n",
    "  Y = np.reshape(val[:,2].tolist(),(val.shape[0],1))\n",
    "  return data_df,X,Y"
   ]
  },
  {
   "cell_type": "code",
   "execution_count": null,
   "metadata": {},
   "outputs": [],
   "source": []
  },
  {
   "cell_type": "markdown",
   "metadata": {},
   "source": [
    "## Extract Features, Save to File"
   ]
  },
  {
   "cell_type": "code",
   "execution_count": 48,
   "metadata": {},
   "outputs": [],
   "source": [
    "features = {\n",
    "    'mag' : ['accel_base_mag','fall_value'],\n",
    "    'XYZ' : ['accel_base_X','accel_base_Y','accel_base_Z','fall_value'],\n",
    "    'XYZ_mag' : ['accel_base_X','accel_base_Y','accel_base_Z','accel_base_mag','fall_value']\n",
    "}"
   ]
  },
  {
   "cell_type": "code",
   "execution_count": 86,
   "metadata": {},
   "outputs": [],
   "source": [
    "feat = \"../../../Features/Lead_Times/100ms/Mag/\" # Where to output features\n",
    "\n",
    "lead_time = 100 # Declared at the top\n",
    "lb = 2\n",
    "rem_range = 500\n",
    "skip_val = 25\n",
    "feat_type = \"mag\"\n",
    "fall_buffer = 75\n",
    "\n",
    "meta = \"_\" + str(feat_type) + \"_\" + str(lead_time) + \"ms_\" + str(lb) + \"lb\"\n",
    "\n",
    "subjects = [S1, S2, S3, C1, C2, C3]\n",
    "subject_names = [\"S1\", \"S2\", \"S3\", \"C1\", \"C2\", \"C3\"]"
   ]
  },
  {
   "cell_type": "code",
   "execution_count": 92,
   "metadata": {
    "scrolled": true
   },
   "outputs": [
    {
     "name": "stdout",
     "output_type": "stream",
     "text": [
      "Extracting for Subject: S1\n",
      "   accel_base_mag  fall_value\n",
      "0       -0.023937         0.0\n",
      "1        0.153095         0.0\n",
      "2        0.144104         0.0\n",
      "3        0.400913         0.0\n",
      "4        0.368061         0.0\n",
      "Fall_sec:  [341142, 361610, 386616, 406763, 422715, 458007, 470839, 483596, 504220, 516433, 589180, 610956, 623122, 654806, 671763, 684596, 699324, 869473, 882263, 899021, 918115, 986697, 998396, 1014138, 1029507]\n",
      "341067\n",
      "341092\n",
      "341117\n",
      "341142\n",
      "361535\n",
      "361560\n",
      "361585\n",
      "361610\n",
      "386541\n",
      "386566\n",
      "386591\n",
      "386616\n",
      "406688\n",
      "406713\n",
      "406738\n",
      "406763\n",
      "422640\n",
      "422665\n",
      "422690\n",
      "422715\n",
      "457932\n",
      "457957\n",
      "457982\n",
      "458007\n",
      "470764\n",
      "470789\n",
      "470814\n",
      "470839\n",
      "483521\n",
      "483546\n",
      "483571\n",
      "483596\n",
      "504145\n",
      "504170\n",
      "504195\n",
      "504220\n",
      "516358\n",
      "516383\n",
      "516408\n",
      "516433\n",
      "589105\n",
      "589130\n",
      "589155\n",
      "589180\n",
      "610881\n",
      "610906\n",
      "610931\n",
      "610956\n",
      "623047\n",
      "623072\n",
      "623097\n",
      "623122\n",
      "654731\n",
      "654756\n",
      "654781\n",
      "654806\n",
      "671688\n",
      "671713\n",
      "671738\n",
      "671763\n",
      "684521\n",
      "684546\n",
      "684571\n",
      "684596\n",
      "699249\n",
      "699274\n",
      "699299\n",
      "699324\n",
      "869398\n",
      "869423\n",
      "869448\n",
      "869473\n",
      "882188\n",
      "882213\n",
      "882238\n",
      "882263\n",
      "898946\n",
      "898971\n",
      "898996\n",
      "899021\n",
      "918040\n",
      "918065\n",
      "918090\n",
      "918115\n",
      "986622\n",
      "986647\n",
      "986672\n",
      "986697\n",
      "998321\n",
      "998346\n",
      "998371\n",
      "998396\n",
      "1014063\n",
      "1014088\n",
      "1014113\n",
      "1014138\n",
      "1029432\n",
      "1029457\n",
      "1029482\n",
      "1029507\n",
      "Added total falls of  100\n",
      "row claculating 100025\n",
      "row claculating 200025\n",
      "row claculating 300025\n",
      "row claculating 400016\n",
      "row claculating 500021\n",
      "row claculating 600005\n",
      "row claculating 700024\n",
      "row claculating 800024\n",
      "row claculating 900021\n",
      "row claculating 1000021\n",
      "row claculating 1100007\n",
      "row claculating 1200007\n",
      "row claculating 1300007\n",
      "row claculating 1400007\n",
      "row claculating 1500007\n",
      "row claculating 1600007\n",
      "CPU times: user 31.7 s, sys: 941 ms, total: 32.6 s\n",
      "Wall time: 34.4 s\n"
     ]
    }
   ],
   "source": [
    "%%time\n",
    "for i in range(len(subjects)):\n",
    "    print(\"Extracting for Subject:\", subject_names[i])\n",
    "    temp_df, temp_x, temp_y = new_create_df(subjects[i], lb, fall_buffer, features[feat_type], rem_range, skip_val)\n",
    "    \n",
    "    with open(feat + \"X_\" + subject_names[i] + meta + \".npy\", \"wb\") as f:\n",
    "        np.save(f, temp_x)\n",
    "    \n",
    "    with open(feat + \"Y_\" + subject_names[i] + meta + \".npy\", \"wb\") as f:\n",
    "        \n",
    "        np.save(f, temp_y)\n",
    "    "
   ]
  },
  {
   "cell_type": "code",
   "execution_count": 47,
   "metadata": {},
   "outputs": [
    {
     "name": "stdout",
     "output_type": "stream",
     "text": [
      "   accel_base_X  accel_base_Y  accel_base_Z  fall_value\n",
      "0          1372          1441          -674         0.0\n",
      "1          1403          1514          -695         0.0\n",
      "2          1414          1555          -556         0.0\n",
      "3          1460          1658          -588         0.0\n",
      "4          1440          1660          -576         0.0\n",
      "Fall_sec:  [341142, 361610, 386616, 406763, 422715, 458007, 470839, 483596, 504220, 516433, 589180, 610956, 623122, 654806, 671763, 684596, 699324, 869473, 882263, 899021, 918115, 986697, 998396, 1014138, 1029507]\n",
      "Added total falls of  25\n",
      "row claculating 100025\n",
      "row claculating 200025\n",
      "row claculating 300025\n",
      "row claculating 400016\n",
      "row claculating 500021\n",
      "row claculating 600005\n",
      "row claculating 700024\n",
      "row claculating 800024\n",
      "row claculating 900021\n",
      "row claculating 1000021\n",
      "row claculating 1100007\n",
      "row claculating 1200007\n",
      "row claculating 1300007\n",
      "row claculating 1400007\n",
      "row claculating 1500007\n",
      "row claculating 1600007\n",
      "CPU times: user 29 s, sys: 926 ms, total: 29.9 s\n",
      "Wall time: 30 s\n"
     ]
    }
   ],
   "source": [
    "%%time\n",
    "s1_df, s1x_ts, s1y_ts = new_create_df(S1, lb, features[feat_type], rem_range, skip_val)"
   ]
  },
  {
   "cell_type": "code",
   "execution_count": 54,
   "metadata": {},
   "outputs": [],
   "source": [
    "with open(feat + \"X_S1\" + meta +\".npy\", \"wb\") as f:\n",
    "    np.save(f, s1x_ts)\n",
    "    \n",
    "with open(feat + \"Y_S1\" + meta +\".npy\", \"wb\") as f:\n",
    "    np.save(f, s1y_ts)"
   ]
  },
  {
   "cell_type": "markdown",
   "metadata": {},
   "source": [
    "## Do the same for the following"
   ]
  },
  {
   "cell_type": "code",
   "execution_count": 56,
   "metadata": {},
   "outputs": [
    {
     "name": "stdout",
     "output_type": "stream",
     "text": [
      "   accel_base_X  accel_base_Y  accel_base_Z  fall_value\n",
      "0           -99          -121          2039         0.0\n",
      "1           -35          -171          2089         0.0\n",
      "2            52           -70          2075         0.0\n",
      "3            -6           -81          2046         0.0\n",
      "4           -15           -46          2008         0.0\n",
      "Fall_sec:  [197531, 220400, 253249, 268599, 379558, 400434, 421863, 438577, 461088, 472141, 572101, 584686, 599396, 612767, 625093, 633922, 757458, 772017, 784448, 794470, 834265, 859689, 880099, 892101, 964684, 979748, 1001820, 1017211, 1058638, 1072405]\n",
      "Added total falls of  30\n",
      "row claculating 100025\n",
      "row claculating 200006\n",
      "row claculating 300024\n",
      "row claculating 400934\n",
      "row claculating 500016\n",
      "row claculating 600021\n",
      "row claculating 700022\n",
      "row claculating 800020\n",
      "row claculating 900001\n",
      "row claculating 1000023\n",
      "row claculating 1100005\n",
      "row claculating 1200005\n",
      "row claculating 1300005\n",
      "row claculating 1400005\n",
      "CPU times: user 24.7 s, sys: 916 ms, total: 25.6 s\n",
      "Wall time: 25.6 s\n"
     ]
    }
   ],
   "source": [
    "%%time\n",
    "s2_df, s2x_ts, s2y_ts = new_create_df(S2, lb, features[feat_type], rem_range, skip_val)\n",
    "\n",
    "with open(feat + \"X_S2\" + meta +\".npy\", \"wb\") as f:\n",
    "    np.save(f, s2x_ts)\n",
    "    \n",
    "with open(feat + \"Y_S2\" + meta +\".npy\", \"wb\") as f:\n",
    "    np.save(f, s2y_ts)"
   ]
  },
  {
   "cell_type": "code",
   "execution_count": 57,
   "metadata": {},
   "outputs": [
    {
     "name": "stdout",
     "output_type": "stream",
     "text": [
      "   accel_base_X  accel_base_Y  accel_base_Z  fall_value\n",
      "0            18           271         -2114         0.0\n",
      "1            37           273         -2110         0.0\n",
      "2            -5           242         -2043         0.0\n",
      "3            17           248         -2071         0.0\n",
      "4           -14           345         -2094         0.0\n",
      "Fall_sec:  [332603, 346739, 418686, 435007, 459195, 473483, 576029, 594605, 617425, 632654, 653583, 668509, 682760, 694673, 813922, 824075, 866531, 879710, 888897, 906114, 922600, 940941, 1032045, 1048150]\n",
      "Added total falls of  24\n",
      "row claculating 100025\n",
      "row claculating 200025\n",
      "row claculating 300025\n",
      "row claculating 400014\n",
      "row claculating 500008\n",
      "row claculating 600005\n",
      "row claculating 700023\n",
      "row claculating 800023\n",
      "row claculating 900022\n",
      "row claculating 1000016\n",
      "CPU times: user 17 s, sys: 667 ms, total: 17.7 s\n",
      "Wall time: 17.7 s\n"
     ]
    }
   ],
   "source": [
    "%%time\n",
    "s3_df,s3x_ts, s3y_ts = new_create_df(S3, lb, features[feat_type], rem_range, skip_val)\n",
    "\n",
    "with open(feat + \"X_S3\" + meta +\".npy\", \"wb\") as f:\n",
    "    np.save(f, s3x_ts)\n",
    "    \n",
    "with open(feat + \"Y_S3\" + meta +\".npy\", \"wb\") as f:\n",
    "    np.save(f, s3y_ts)"
   ]
  },
  {
   "cell_type": "code",
   "execution_count": 59,
   "metadata": {},
   "outputs": [
    {
     "name": "stdout",
     "output_type": "stream",
     "text": [
      "   accel_base_X  accel_base_Y  accel_base_Z  fall_value\n",
      "0          -810           204         -1934         0.0\n",
      "1          -811           204         -1940         0.0\n",
      "2          -826           192         -1923         0.0\n",
      "3          -822           176         -1931         0.0\n",
      "4          -831           154         -1960         0.0\n",
      "Fall_sec:  [191517, 210042, 242337, 267074, 284942, 298835, 383287, 400936, 427912, 445043, 460709, 474754, 502905, 522758, 556495, 574443, 678167, 689743, 705021, 719363, 796781, 814226, 822053, 833958, 842991, 851854, 864474, 871887, 881461, 889972]\n",
      "Added total falls of  30\n",
      "row claculating 100025\n",
      "row claculating 200017\n",
      "row claculating 300010\n",
      "row claculating 400012\n",
      "row claculating 500004\n",
      "row claculating 600018\n",
      "row claculating 700018\n",
      "row claculating 800006\n",
      "row claculating 900022\n",
      "row claculating 1000022\n",
      "row claculating 1100022\n",
      "row claculating 1200022\n",
      "row claculating 1300022\n",
      "CPU times: user 24.7 s, sys: 933 ms, total: 25.6 s\n",
      "Wall time: 25.6 s\n"
     ]
    }
   ],
   "source": [
    "%%time\n",
    "c1_df, c1x_ts, c1y_ts = new_create_df(C1, lb, features[feat_type], rem_range, skip_val)\n",
    "\n",
    "with open(feat + \"X_C1\" + meta +\".npy\", \"wb\") as f:\n",
    "    np.save(f, c1x_ts)\n",
    "    \n",
    "with open(feat + \"Y_C1\" + meta +\".npy\", \"wb\") as f:\n",
    "    np.save(f, c1y_ts)"
   ]
  },
  {
   "cell_type": "code",
   "execution_count": 60,
   "metadata": {},
   "outputs": [
    {
     "name": "stdout",
     "output_type": "stream",
     "text": [
      "   accel_base_X  accel_base_Y  accel_base_Z  fall_value\n",
      "0          -121           578         -2008         0.0\n",
      "1          -113           580         -2024         0.0\n",
      "2          -116           574         -2033         0.0\n",
      "3          -117           574         -2027         0.0\n",
      "4          -135           574         -2041         0.0\n",
      "Fall_sec:  [133663, 150152, 170667, 183794, 194943, 204523, 218243, 228233, 241367, 250249, 304765, 313490, 323617, 332523, 364748, 373795, 382644, 393285, 402012, 410297, 427381, 436056, 445802, 456106, 514146, 523196, 532739, 543132, 561261, 570017]\n",
      "Added total falls of  30\n",
      "row claculating 100025\n",
      "row claculating 200018\n",
      "row claculating 300024\n",
      "row claculating 400010\n",
      "row claculating 500006\n",
      "row claculating 600017\n",
      "row claculating 700017\n",
      "row claculating 800017\n",
      "row claculating 900017\n",
      "CPU times: user 15.4 s, sys: 746 ms, total: 16.2 s\n",
      "Wall time: 16.4 s\n"
     ]
    }
   ],
   "source": [
    "%%time\n",
    "c2_df,c2x_ts, c2y_ts = new_create_df(C2, lb, features[feat_type], rem_range, skip_val)\n",
    "\n",
    "with open(feat + \"X_C2\" + meta +\".npy\", \"wb\") as f:\n",
    "    np.save(f, c2x_ts)\n",
    "    \n",
    "with open(feat + \"Y_C2\" + meta +\".npy\", \"wb\") as f:\n",
    "    np.save(f, c2y_ts)"
   ]
  },
  {
   "cell_type": "code",
   "execution_count": 62,
   "metadata": {},
   "outputs": [
    {
     "name": "stdout",
     "output_type": "stream",
     "text": [
      "   accel_base_X  accel_base_Y  accel_base_Z  fall_value\n",
      "0          -109          -256          3064         0.0\n",
      "1          -168          -165          3005         0.0\n",
      "2          -160           -67          2910         0.0\n",
      "3           -67           -22          2834         0.0\n",
      "4             1            -4          2722         0.0\n",
      "Fall_sec:  [136223, 149231, 156782, 171901, 182697, 190583, 206854, 215109, 224844, 233721, 288676, 298821, 319181, 329607, 347819, 357259, 369420, 378479, 390313, 400704, 430953, 446188, 454732, 465657, 474518, 518231, 527288, 537195, 547189, 560526, 569524]\n",
      "Added total falls of  31\n",
      "row claculating 100025\n",
      "row claculating 200008\n",
      "row claculating 300021\n",
      "row claculating 400013\n",
      "row claculating 500018\n",
      "row claculating 600024\n",
      "row claculating 700024\n",
      "row claculating 800024\n",
      "row claculating 900024\n",
      "CPU times: user 18 s, sys: 863 ms, total: 18.8 s\n",
      "Wall time: 19 s\n"
     ]
    }
   ],
   "source": [
    "%%time\n",
    "c3_df, c3x_ts, c3y_ts = new_create_df(C3, lb, features[feat_type], rem_range, skip_val)\n",
    "\n",
    "with open(feat + \"X_C3\" + meta +\".npy\", \"wb\") as f:\n",
    "    np.save(f, c3x_ts)\n",
    "    \n",
    "with open(feat + \"Y_C3\" + meta +\".npy\", \"wb\") as f:\n",
    "    np.save(f, c3y_ts)"
   ]
  },
  {
   "cell_type": "code",
   "execution_count": null,
   "metadata": {},
   "outputs": [],
   "source": []
  }
 ],
 "metadata": {
  "kernelspec": {
   "display_name": "Python 3",
   "language": "python",
   "name": "python3"
  },
  "language_info": {
   "codemirror_mode": {
    "name": "ipython",
    "version": 3
   },
   "file_extension": ".py",
   "mimetype": "text/x-python",
   "name": "python",
   "nbconvert_exporter": "python",
   "pygments_lexer": "ipython3",
   "version": "3.7.6"
  }
 },
 "nbformat": 4,
 "nbformat_minor": 4
}
