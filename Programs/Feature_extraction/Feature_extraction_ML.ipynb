{
 "cells": [
  {
   "cell_type": "code",
   "execution_count": 1,
   "metadata": {},
   "outputs": [],
   "source": [
    "import pandas as pd\n",
    "import matplotlib.pyplot as plt\n",
    "import numpy as np\n",
    "from pandas import ExcelWriter\n",
    "from pandas import ExcelFile\n",
    "from bisect import bisect\n",
    "import operator"
   ]
  },
  {
   "cell_type": "code",
   "execution_count": 3,
   "metadata": {},
   "outputs": [],
   "source": [
    "def read_data(file_name):\n",
    "    file_path = org_data_path + file_name\n",
    "    data = pd.read_csv(file_path,sep=',',names = ['time_counter','accel_base_X','accel_base_Y','accel_base_Z','gyro_base_X',\n",
    "                                                  'gyro_base_Y','gyro_base_Z','accel_right_X','accel_right_Y','accel_right_Z',\n",
    "                                                  'gyro_right_X','gyro_right_Y','gyro_right_Z','accel_left_X','accel_left_Y',\n",
    "                                                  'accel_left_Z','gyro_left_X','gyro_left_Y','gyro_left_Z','fall_detection',\n",
    "                                                  'fall_check','impact_value'])\n",
    "    return data"
   ]
  },
  {
   "cell_type": "code",
   "execution_count": 9,
   "metadata": {},
   "outputs": [],
   "source": [
    "def read_combined_data(file_name,airbag_data):\n",
    "    file_path = org_data_path + file_name\n",
    "    data = pd.read_csv(file_path)\n",
    "    data['Time Point Name'] = pd.to_numeric(data['Time Point Name'], errors='coerce')\n",
    "    data = data[(data['Time Point Name']>100) & (data['Time Point Name'] < 200) &\n",
    "                (data['Impact milisec'].notnull()) & ((data['Start milisec']) < (airbag_data.iloc[-1][0]))]\n",
    "    data = data[['Time Point Name','Start milisec','Impact milisec', 'End Milisec','Duration']]\n",
    "    return data"
   ]
  },
  {
   "cell_type": "code",
   "execution_count": 5,
   "metadata": {},
   "outputs": [],
   "source": [
    "# Adding the fall value by choosing the maximum magitude in the fall range from combined data\n",
    "def add_new_fall_value(airbag_data,manual_data):\n",
    "    airbag_data['accel_base_mag'] =  np.sqrt(airbag_data['accel_base_X']**2 + airbag_data['accel_base_Y']**2 + \n",
    "                                             airbag_data['accel_base_Z']**2)\n",
    "    for index, row in manual_data.iterrows():\n",
    "        airbag_data.loc[(airbag_data['time_counter'] >= row['Start milisec']) &\n",
    "                        (airbag_data['time_counter'] < row['End Milisec']),'fall_check'] = 88\n",
    "        airbag_data.loc[(airbag_data['accel_base_mag'] == \\\n",
    "                                                  (airbag_data.loc[(airbag_data['time_counter'] >= row['Start milisec']) & \\\n",
    "                                                                   (airbag_data['time_counter'] < row['End Milisec']),\n",
    "                                                                   'accel_base_mag'].max())) & \\\n",
    "                                                 (airbag_data['time_counter'] >= row['Start milisec']) & \\\n",
    "                                                 (airbag_data['time_counter'] < row['End Milisec']),\n",
    "                                                 'cal_impact_milisec'] = 80\n",
    "        if(any(airbag_data['time_counter'] == row['Impact milisec'])):\n",
    "            airbag_data.loc[(airbag_data['time_counter'] == row['Impact milisec']),'impact_value'] =  84\n",
    "        else:\n",
    "            airbag_data.loc[bisect(airbag_data['time_counter'].values, row['Impact milisec']),'impact_value'] =  84"
   ]
  },
  {
   "cell_type": "code",
   "execution_count": 56,
   "metadata": {},
   "outputs": [],
   "source": [
    "# Three features min acceleration, maximum acceleration, right most acceleration \n",
    "# are extracted from the window of 2 seconds range\n",
    "def min_max_right_feature(data,move_window ,window_time=1000):\n",
    "    \n",
    "    move_window += int(window_time/2);\n",
    "    max_ms = data['time_counter'].max()\n",
    "    feature = pd.DataFrame(columns={'time_counter','min_acc','max_acc','right_most','fall_value'})\n",
    "    impact_list = data.loc[(data['cal_impact_milisec'] == 80),'time_counter'].values\n",
    "    \n",
    "    end_list = []  #edge condition for non-fall values\n",
    "    start_list = []\n",
    "    non_falls_end_list = [0]\n",
    "    \n",
    "    time_counter = []\n",
    "    min_acc = []\n",
    "    max_acc = []\n",
    "    right_most = []\n",
    "    fall_value = []\n",
    "    \n",
    "    #prepare window frame \n",
    "    for index in impact_list:\n",
    "        end_list.append(index + int(window_time/2) - move_window)\n",
    "        start_list.append(index - int(window_time/2) - move_window)\n",
    "        non_falls_end_list.append(index + 2000)\n",
    "    start_list.append(max_ms)  #edge condition for non-fall values\n",
    "    \n",
    "    #add fall values\n",
    "    for index in range(len(impact_list)):\n",
    "        start = start_list[index]\n",
    "        end = end_list[index]\n",
    "        \n",
    "        temp_data = data.loc[(data['time_counter'] >= start) & (data['time_counter'] < end),['time_counter','accel_base_mag']]\n",
    "        time_counter.append(temp_data.iloc[:,0].min())\n",
    "        min_acc.append(temp_data.iloc[:,1].min())\n",
    "        max_acc.append(temp_data.iloc[:,1].max())\n",
    "        right_most.append(temp_data.tail(1).values[0][1])\n",
    "        fall_value.append(1)\n",
    "        \n",
    "    #add non-fall values\n",
    "    for start,end in zip(non_falls_end_list,start_list):\n",
    "        for index in range(start,end,window_time):\n",
    "            end_index = index + window_time\n",
    "            if end_index < end:\n",
    "                temp_data = data.loc[(data['time_counter'] >= index) & (data['time_counter'] < end_index),['time_counter','accel_base_mag']]\n",
    "                time_counter.append(temp_data.iloc[:,0].min())\n",
    "                min_acc.append(temp_data.iloc[:,1].min())\n",
    "                max_acc.append(temp_data.iloc[:,1].max())\n",
    "                right_most.append(temp_data.tail(1).values[0][1])\n",
    "                fall_value.append(0)\n",
    "\n",
    "    feature['time_counter'] = time_counter\n",
    "    feature['min_acc'] = min_acc\n",
    "    feature['max_acc'] = max_acc\n",
    "    feature['right_most'] = right_most\n",
    "    feature['fall_value'] = fall_value\n",
    "    return feature"
   ]
  },
  {
   "cell_type": "code",
   "execution_count": null,
   "metadata": {},
   "outputs": [],
   "source": []
  },
  {
   "cell_type": "markdown",
   "metadata": {},
   "source": [
    "### Folder paths "
   ]
  },
  {
   "cell_type": "code",
   "execution_count": 15,
   "metadata": {},
   "outputs": [],
   "source": [
    "org_data_path = \"../../../Airbag_Data/\"\n",
    "min_max_path = \"../../../Features/min_max_feature/\"\n",
    "min_max_right_path = \"../../../Features/min_max_right_feature/\""
   ]
  },
  {
   "cell_type": "markdown",
   "metadata": {},
   "source": [
    "### Read Data"
   ]
  },
  {
   "cell_type": "code",
   "execution_count": null,
   "metadata": {},
   "outputs": [],
   "source": [
    "# S1 subject \n",
    "\n",
    "s1_data=read_data('S1-Airbag.CSV')\n",
    "s1_combined = read_combined_data('S1-combined.csv',s1_data)\n",
    "add_new_fall_value(s1_data,s1_combined)\n",
    "\n",
    "# S2 subject\n",
    "\n",
    "s2_data=read_data('S2-Airbag.CSV')\n",
    "s2_combined = read_combined_data('S2-combined.csv',s2_data)\n",
    "add_new_fall_value(s2_data,s2_combined)\n",
    "\n",
    "# S3 subject\n",
    "\n",
    "s3_data=read_data('S3-Airbag.CSV')\n",
    "s3_combined = read_combined_data('S3-combined.csv',s3_data)\n",
    "add_new_fall_value(s3_data,s3_combined)\n",
    "\n",
    "# C1 subject\n",
    "\n",
    "c1_data=read_data('C1-Airbag.CSV')\n",
    "c1_combined = read_combined_data('C1-combined.csv',c1_data)\n",
    "add_new_fall_value(c1_data,c1_combined)\n",
    "\n",
    "# C2 subject\n",
    "\n",
    "c2_data=read_data('C2-Airbag.CSV')\n",
    "c2_combined = read_combined_data('C2-combined.csv',c2_data)\n",
    "add_new_fall_value(c2_data,c2_combined)\n",
    "\n",
    "# C3 subject\n",
    "\n",
    "c3_data=read_data('C3-Airbag.CSV')\n",
    "c3_combined = read_combined_data('C3-combined.csv',c3_data)\n",
    "add_new_fall_value(c3_data,c3_combined)"
   ]
  },
  {
   "cell_type": "code",
   "execution_count": 22,
   "metadata": {},
   "outputs": [],
   "source": [
    "subject_data = [s1_data,s2_data,s3_data,c1_data,c2_data,c3_data]\n",
    "subjects = ['S1','S2','S3','C1','C2','C3']"
   ]
  },
  {
   "cell_type": "markdown",
   "metadata": {},
   "source": [
    "## min_max_right acceleration extraction and Saving"
   ]
  },
  {
   "cell_type": "code",
   "execution_count": 66,
   "metadata": {},
   "outputs": [
    {
     "name": "stdout",
     "output_type": "stream",
     "text": [
      "extracting features for lead time:10 ms\n",
      "  extracting features for  S1  subject\n",
      "  extracting features for  S2  subject\n",
      "  extracting features for  S3  subject\n",
      "  extracting features for  C1  subject\n",
      "  extracting features for  C2  subject\n",
      "  extracting features for  C3  subject\n",
      "extracting features for lead time:100 ms\n",
      "  extracting features for  S1  subject\n",
      "  extracting features for  S2  subject\n",
      "  extracting features for  S3  subject\n",
      "  extracting features for  C1  subject\n",
      "  extracting features for  C2  subject\n",
      "  extracting features for  C3  subject\n",
      "extracting features for lead time:200 ms\n",
      "  extracting features for  S1  subject\n",
      "  extracting features for  S2  subject\n",
      "  extracting features for  S3  subject\n",
      "  extracting features for  C1  subject\n",
      "  extracting features for  C2  subject\n",
      "  extracting features for  C3  subject\n",
      "extracting features for lead time:300 ms\n",
      "  extracting features for  S1  subject\n",
      "  extracting features for  S2  subject\n",
      "  extracting features for  S3  subject\n",
      "  extracting features for  C1  subject\n",
      "  extracting features for  C2  subject\n",
      "  extracting features for  C3  subject\n",
      "extracting features for lead time:400 ms\n",
      "  extracting features for  S1  subject\n",
      "  extracting features for  S2  subject\n",
      "  extracting features for  S3  subject\n",
      "  extracting features for  C1  subject\n",
      "  extracting features for  C2  subject\n",
      "  extracting features for  C3  subject\n",
      "extracting features for lead time:2000 ms\n",
      "  extracting features for  S1  subject\n",
      "  extracting features for  S2  subject\n",
      "  extracting features for  S3  subject\n",
      "  extracting features for  C1  subject\n",
      "  extracting features for  C2  subject\n",
      "  extracting features for  C3  subject\n",
      "CPU times: user 12min 45s, sys: 39.1 s, total: 13min 25s\n",
      "Wall time: 14min 18s\n"
     ]
    }
   ],
   "source": [
    "%%time\n",
    "lead_times = [10,100,200,300,400,2000]\n",
    "for lead_time in lead_times:\n",
    "    print(\"extracting features for lead time:{} ms\".format(lead_time))\n",
    "    for i in range(len(subject_data)):\n",
    "        print(\"  extracting features for \",subjects[i],\" subject\")\n",
    "        feature = min_max_right_feature(subject_data[i],lead_time)\n",
    "        #saving features of each subject on a particular moving window\n",
    "        feature.to_csv(min_max_right_path+subjects[i]+\"_\"+str(lead_time)+ \"ms.csv\", sep=',',index=False)"
   ]
  },
  {
   "cell_type": "code",
   "execution_count": 73,
   "metadata": {},
   "outputs": [
    {
     "data": {
      "text/plain": [
       "(1553855, 24)"
      ]
     },
     "execution_count": 73,
     "metadata": {},
     "output_type": "execute_result"
    }
   ],
   "source": [
    "s3_data.shape"
   ]
  },
  {
   "cell_type": "code",
   "execution_count": null,
   "metadata": {},
   "outputs": [],
   "source": []
  }
 ],
 "metadata": {
  "kernelspec": {
   "display_name": "Python 3",
   "language": "python",
   "name": "python3"
  },
  "language_info": {
   "codemirror_mode": {
    "name": "ipython",
    "version": 3
   },
   "file_extension": ".py",
   "mimetype": "text/x-python",
   "name": "python",
   "nbconvert_exporter": "python",
   "pygments_lexer": "ipython3",
   "version": "3.7.6"
  },
  "toc": {
   "base_numbering": 1,
   "nav_menu": {},
   "number_sections": true,
   "sideBar": true,
   "skip_h1_title": false,
   "title_cell": "Table of Contents",
   "title_sidebar": "Contents",
   "toc_cell": false,
   "toc_position": {},
   "toc_section_display": true,
   "toc_window_display": false
  },
  "widgets": {
   "state": {},
   "version": "1.1.2"
  }
 },
 "nbformat": 4,
 "nbformat_minor": 2
}
