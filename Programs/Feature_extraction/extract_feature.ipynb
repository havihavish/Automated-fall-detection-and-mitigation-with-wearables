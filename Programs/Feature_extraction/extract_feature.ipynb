{
 "cells": [
  {
   "cell_type": "code",
   "execution_count": 1,
   "metadata": {},
   "outputs": [],
   "source": [
    "import pandas as pd\n",
    "import matplotlib.pyplot as plt\n",
    "import numpy as np\n",
    "from pandas import ExcelWriter\n",
    "from pandas import ExcelFile\n",
    "from bisect import bisect\n",
    "import operator"
   ]
  },
  {
   "cell_type": "code",
   "execution_count": 2,
   "metadata": {},
   "outputs": [],
   "source": [
    "def read_data(file_name):\n",
    "    file_path = '../FallCatcher_Data/' + file_name\n",
    "    data = pd.read_csv(file_path,sep=',',names = ['time_counter','accel_base_X','accel_base_Y','accel_base_Z','gyro_base_X',\n",
    "                                                  'gyro_base_Y','gyro_base_Z','accel_right_X','accel_right_Y','accel_right_Z',\n",
    "                                                  'gyro_right_X','gyro_right_Y','gyro_right_Z','accel_left_X','accel_left_Y',\n",
    "                                                  'accel_left_Z','gyro_left_X','gyro_left_Y','gyro_left_Z','fall_detection',\n",
    "                                                  'fall_check','impact_value'])\n",
    "    return data"
   ]
  },
  {
   "cell_type": "code",
   "execution_count": 3,
   "metadata": {},
   "outputs": [],
   "source": [
    "def read_combined_data(file_name,airbag_data):\n",
    "    file_path = '../FallCatcher_Data/Combined/'+file_name\n",
    "    data = pd.read_excel(file_path, sheet_name=0)\n",
    "    data['Time Point Name'] = pd.to_numeric(data['Time Point Name'], errors='coerce')\n",
    "    data = data[(data['Time Point Name']>100) & (data['Time Point Name'] < 200) &\n",
    "                (data['Impact milisec'].notnull()) & ((data['Start milisec']) < (airbag_data.iloc[-1][0]))]\n",
    "    data = data[['Time Point Name','Start milisec','Impact milisec', 'End Milisec','Duration']]\n",
    "    return data"
   ]
  },
  {
   "cell_type": "code",
   "execution_count": 10,
   "metadata": {},
   "outputs": [],
   "source": [
    "def add_new_fall_value(airbag_data,manual_data):\n",
    "    airbag_data['accel_base_mag'] =  np.sqrt(airbag_data['accel_base_X']**2 + airbag_data['accel_base_Y']**2 + \n",
    "                                             airbag_data['accel_base_Z']**2)\n",
    "    for index, row in manual_data.iterrows():\n",
    "        airbag_data.loc[(airbag_data['time_counter'] >= row['Start milisec']) &\n",
    "                        (airbag_data['time_counter'] < row['End Milisec']),'fall_check'] = 88\n",
    "        airbag_data.loc[(airbag_data['accel_base_mag'] == \\\n",
    "                                                  (airbag_data.loc[(airbag_data['time_counter'] >= row['Start milisec']) & \\\n",
    "                                                                   (airbag_data['time_counter'] < row['End Milisec']),\n",
    "                                                                   'accel_base_mag'].max())) & \\\n",
    "                                                 (airbag_data['time_counter'] >= row['Start milisec']) & \\\n",
    "                                                 (airbag_data['time_counter'] < row['End Milisec']),\n",
    "                                                 'cal_impact_milisec'] = 80\n",
    "        if(any(airbag_data['time_counter'] == row['Impact milisec'])):\n",
    "            airbag_data.loc[(airbag_data['time_counter'] == row['Impact milisec']),'impact_value'] =  84\n",
    "        else:\n",
    "            airbag_data.loc[bisect(airbag_data['time_counter'].values, row['Impact milisec']),'impact_value'] =  84"
   ]
  },
  {
   "cell_type": "code",
   "execution_count": 50,
   "metadata": {},
   "outputs": [],
   "source": [
    "def old_extract_feature(data,window_time=5000):\n",
    "    max_ms = data['time_counter'].max()\n",
    "    feature = pd.DataFrame(columns={'time_counter','min_acc','max_acc','fall_value'})\n",
    "    for index in range(0,max_ms,window_time):\n",
    "        end_index = index + window_time\n",
    "        \n",
    "        time_counter = data.loc[(data['time_counter'] >= index) & (data['time_counter'] < end_index),'time_counter'].min()\n",
    "        min_acc = data.loc[(data['time_counter'] >= index) & (data['time_counter'] < end_index),'accel_base_mag'].min()\n",
    "        max_acc = data.loc[(data['time_counter'] >= index) & (data['time_counter'] < end_index),'accel_base_mag'].max()\n",
    "        if(data.loc[(data['time_counter'] > index) & (data['time_counter'] < end_index)&\n",
    "                    (data['fall_check']==88),'fall_check'].any()):\n",
    "            fall_value = 1\n",
    "        else : \n",
    "            fall_value = 0\n",
    "            \n",
    "        feature = feature.append({'time_counter':time_counter,'min_acc':min_acc,'max_acc':max_acc,'fall_value':fall_value},\n",
    "                       ignore_index = True)\n",
    "    \n",
    "    return feature"
   ]
  },
  {
   "cell_type": "code",
   "execution_count": 46,
   "metadata": {},
   "outputs": [],
   "source": [
    "def extract_feature(data,window_time=4000):\n",
    "    \n",
    "    max_ms = data['time_counter'].max()\n",
    "    feature = pd.DataFrame(columns={'time_counter','min_acc','max_acc','fall_value'})\n",
    "    impact_list = data.loc[(data['cal_impact_milisec'] == 80),'time_counter'].values\n",
    "    \n",
    "    end_list = [0]\n",
    "    start_list = []\n",
    "    for index in impact_list:\n",
    "        end_list.append(index + int(window_time/2))\n",
    "        start_list.append(index - int(window_time/2))\n",
    "    start_list.append(max_ms)\n",
    "    \n",
    "    #add fall values\n",
    "    for index in impact_list:\n",
    "        start = index - window_time/2\n",
    "        end = index + window_time/2\n",
    "        \n",
    "        time_counter = data.loc[(data['time_counter'] >= start) & (data['time_counter'] < end),'time_counter'].min()\n",
    "        min_acc = data.loc[(data['time_counter'] >= start) & (data['time_counter'] < end),'accel_base_mag'].min()\n",
    "        max_acc = data.loc[(data['time_counter'] >= start) & (data['time_counter'] < end),'accel_base_mag'].max()\n",
    "        fall_value = 1\n",
    "        feature = feature.append({'time_counter':time_counter,'min_acc':min_acc,'max_acc':max_acc,'fall_value':fall_value},\n",
    "                       ignore_index = True)\n",
    "        \n",
    "    #add non-fall values\n",
    "    for start,end in zip(end_list,start_list):\n",
    "        for index in range(start,end,window_time):\n",
    "            end_index = index + window_time\n",
    "            if end_index < end:\n",
    "                time_counter = data.loc[(data['time_counter'] >= index) & (data['time_counter'] < end_index),'time_counter'].min()\n",
    "                min_acc = data.loc[(data['time_counter'] >= index) & (data['time_counter'] < end_index),'accel_base_mag'].min()\n",
    "                max_acc = data.loc[(data['time_counter'] >= index) & (data['time_counter'] < end_index),'accel_base_mag'].max()\n",
    "                fall_value = 0\n",
    "                feature = feature.append({'time_counter':time_counter,'min_acc':min_acc,'max_acc':max_acc,'fall_value':fall_value},\n",
    "                                         ignore_index = True)\n",
    "\n",
    "    return feature"
   ]
  },
  {
   "cell_type": "markdown",
   "metadata": {},
   "source": [
    "# For S1 "
   ]
  },
  {
   "cell_type": "code",
   "execution_count": 11,
   "metadata": {},
   "outputs": [],
   "source": [
    "s1_data=read_data('Airbag-S1.CSV')\n",
    "s1_combined = read_combined_data('S1-combined.xlsx',s1_data)\n",
    "add_new_fall_value(s1_data,s1_combined)"
   ]
  },
  {
   "cell_type": "code",
   "execution_count": 47,
   "metadata": {},
   "outputs": [],
   "source": [
    "s1_feature = extract_feature(s1_data)"
   ]
  },
  {
   "cell_type": "code",
   "execution_count": 54,
   "metadata": {},
   "outputs": [],
   "source": [
    "s1_feature.to_excel('S1_feature.xlsx')"
   ]
  },
  {
   "cell_type": "code",
   "execution_count": null,
   "metadata": {},
   "outputs": [],
   "source": [
    "listv = s1_data.loc[(s1_data['cal_impact_milisec'] == 80),'time_counter'].values\n",
    "print (listv)\n",
    "s1_data.loc[(s1_data['time_counter'] > 691618) & (s1_data['time_counter'] < 700000)&\n",
    "            (s1_data['fall_check']==88),'fall_check'].any()\n",
    "s1_feature.head()\n",
    "s1_feature.loc[s1_feature['fall_value']==1]\n",
    "s1_feature.loc[s1_feature['fall_value']==0]"
   ]
  },
  {
   "cell_type": "markdown",
   "metadata": {},
   "source": [
    "# For S2"
   ]
  },
  {
   "cell_type": "code",
   "execution_count": 59,
   "metadata": {},
   "outputs": [],
   "source": [
    "s2_data=read_data('Airbag-S2.CSV')\n",
    "s2_combined = read_combined_data('S2-combined.xlsx',s2_data)\n",
    "add_new_fall_value(s2_data,s2_combined)"
   ]
  },
  {
   "cell_type": "code",
   "execution_count": 60,
   "metadata": {},
   "outputs": [],
   "source": [
    "s2_feature = extract_feature(s2_data)"
   ]
  },
  {
   "cell_type": "code",
   "execution_count": 61,
   "metadata": {},
   "outputs": [],
   "source": [
    "s2_feature.to_excel('S2_feature.xlsx')"
   ]
  },
  {
   "cell_type": "markdown",
   "metadata": {},
   "source": [
    "# For S3"
   ]
  },
  {
   "cell_type": "code",
   "execution_count": 63,
   "metadata": {},
   "outputs": [],
   "source": [
    "s3_data=read_data('Airbag-S3.CSV')\n",
    "s3_combined = read_combined_data('S3-combined.xlsx',s3_data)\n",
    "add_new_fall_value(s3_data,s3_combined)"
   ]
  },
  {
   "cell_type": "code",
   "execution_count": 64,
   "metadata": {},
   "outputs": [],
   "source": [
    "s3_feature = extract_feature(s3_data)"
   ]
  },
  {
   "cell_type": "code",
   "execution_count": 65,
   "metadata": {},
   "outputs": [],
   "source": [
    "s3_feature.to_excel('S3_feature.xlsx')"
   ]
  },
  {
   "cell_type": "markdown",
   "metadata": {},
   "source": [
    "# For C1"
   ]
  },
  {
   "cell_type": "code",
   "execution_count": 66,
   "metadata": {},
   "outputs": [],
   "source": [
    "c1_data=read_data('C1-Airbag.CSV')\n",
    "c1_combined = read_combined_data('C1-combined.xlsx',c1_data)\n",
    "add_new_fall_value(c1_data,c1_combined)"
   ]
  },
  {
   "cell_type": "code",
   "execution_count": 67,
   "metadata": {},
   "outputs": [],
   "source": [
    "c1_feature = extract_feature(c1_data)"
   ]
  },
  {
   "cell_type": "code",
   "execution_count": 68,
   "metadata": {},
   "outputs": [],
   "source": [
    "c1_feature.to_excel('C1_feature.xlsx')"
   ]
  },
  {
   "cell_type": "markdown",
   "metadata": {},
   "source": [
    "# For C2"
   ]
  },
  {
   "cell_type": "code",
   "execution_count": 71,
   "metadata": {},
   "outputs": [],
   "source": [
    "c2_data=read_data('C2-Airbag.CSV')\n",
    "c2_combined = read_combined_data('C2-combined.xlsx',c2_data)\n",
    "add_new_fall_value(c2_data,c2_combined)"
   ]
  },
  {
   "cell_type": "code",
   "execution_count": 72,
   "metadata": {},
   "outputs": [],
   "source": [
    "c2_feature = extract_feature(c2_data)"
   ]
  },
  {
   "cell_type": "code",
   "execution_count": 73,
   "metadata": {},
   "outputs": [],
   "source": [
    "c2_feature.to_excel('C2_feature.xlsx')"
   ]
  },
  {
   "cell_type": "markdown",
   "metadata": {},
   "source": [
    "# For C3"
   ]
  },
  {
   "cell_type": "code",
   "execution_count": 75,
   "metadata": {},
   "outputs": [],
   "source": [
    "c3_data=read_data('C3-Airbag.CSV')\n",
    "c3_combined = read_combined_data('C3-combined.xlsx',c3_data)\n",
    "add_new_fall_value(c3_data,c3_combined)"
   ]
  },
  {
   "cell_type": "code",
   "execution_count": 76,
   "metadata": {},
   "outputs": [],
   "source": [
    "c3_feature = extract_feature(c3_data)"
   ]
  },
  {
   "cell_type": "code",
   "execution_count": 77,
   "metadata": {},
   "outputs": [],
   "source": [
    "c3_feature.to_excel('C3_feature.xlsx')"
   ]
  },
  {
   "cell_type": "code",
   "execution_count": null,
   "metadata": {},
   "outputs": [],
   "source": []
  }
 ],
 "metadata": {
  "kernelspec": {
   "display_name": "Python 3",
   "language": "python",
   "name": "python3"
  },
  "language_info": {
   "codemirror_mode": {
    "name": "ipython",
    "version": 3
   },
   "file_extension": ".py",
   "mimetype": "text/x-python",
   "name": "python",
   "nbconvert_exporter": "python",
   "pygments_lexer": "ipython3",
   "version": "3.5.6"
  },
  "toc": {
   "base_numbering": 1,
   "nav_menu": {},
   "number_sections": true,
   "sideBar": true,
   "skip_h1_title": false,
   "title_cell": "Table of Contents",
   "title_sidebar": "Contents",
   "toc_cell": false,
   "toc_position": {},
   "toc_section_display": true,
   "toc_window_display": false
  },
  "widgets": {
   "state": {},
   "version": "1.1.2"
  }
 },
 "nbformat": 4,
 "nbformat_minor": 2
}
