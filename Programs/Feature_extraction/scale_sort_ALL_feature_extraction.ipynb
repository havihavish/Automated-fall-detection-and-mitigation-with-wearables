{
 "cells": [
  {
   "cell_type": "markdown",
   "metadata": {},
   "source": [
    "## Imports"
   ]
  },
  {
   "cell_type": "code",
   "execution_count": 146,
   "metadata": {},
   "outputs": [],
   "source": [
    "import pandas as pd\n",
    "import numpy as np\n",
    "import matplotlib.pyplot as plt\n",
    "from sklearn.preprocessing import MinMaxScaler, StandardScaler"
   ]
  },
  {
   "cell_type": "markdown",
   "metadata": {},
   "source": [
    "## Global Variables"
   ]
  },
  {
   "cell_type": "code",
   "execution_count": 147,
   "metadata": {},
   "outputs": [],
   "source": [
    "raw_data = \"./raw_data/\"\n",
    "lead_time = \"100\""
   ]
  },
  {
   "cell_type": "markdown",
   "metadata": {},
   "source": [
    "## Reading CSV"
   ]
  },
  {
   "cell_type": "code",
   "execution_count": 148,
   "metadata": {},
   "outputs": [],
   "source": [
    "## Read in Raw Data\n",
    "S1 = pd.read_csv(raw_data + lead_time + \"_1.csv\") # 1601594\n",
    "S2 = pd.read_csv(raw_data + lead_time + \"_2.csv\") # 1462598\n",
    "S3 = pd.read_csv(raw_data + lead_time + \"_3.csv\") # 1048576\n",
    "C1 = pd.read_csv(raw_data + lead_time + \"_4.csv\") # 1395756\n",
    "C2 = pd.read_csv(raw_data + lead_time + \"_5.csv\") # 928948\n",
    "C3 = pd.read_csv(raw_data + lead_time + \"_6.csv\") # 949888"
   ]
  },
  {
   "cell_type": "markdown",
   "metadata": {},
   "source": [
    "## Convert Data to Numpy Arrays"
   ]
  },
  {
   "cell_type": "code",
   "execution_count": 149,
   "metadata": {},
   "outputs": [],
   "source": [
    "X = []\n",
    "X.append(S1[['accel_base_X', 'accel_base_Y', 'accel_base_Z','accel_base_mag']].values)\n",
    "X.append(S2[['accel_base_X', 'accel_base_Y', 'accel_base_Z','accel_base_mag']].values)\n",
    "X.append(S3[['accel_base_X', 'accel_base_Y', 'accel_base_Z','accel_base_mag']].values)\n",
    "X.append(C1[['accel_base_X', 'accel_base_Y', 'accel_base_Z','accel_base_mag']].values)\n",
    "X.append(C2[['accel_base_X', 'accel_base_Y', 'accel_base_Z','accel_base_mag']].values)\n",
    "\n",
    "X_test = C3[['accel_base_X', 'accel_base_Y', 'accel_base_Z','accel_base_mag']].values\n",
    "X = np.vstack(X) # Concatenate all the arrays"
   ]
  },
  {
   "cell_type": "markdown",
   "metadata": {},
   "source": [
    "## Scale Data and Recombine"
   ]
  },
  {
   "cell_type": "code",
   "execution_count": 150,
   "metadata": {},
   "outputs": [],
   "source": [
    "def featureScale(X_train, X_test): # Normalizes NP Array of Features\n",
    "    sc = StandardScaler()\n",
    "    sc.fit(X_train)\n",
    "    X_train = sc.transform(X_train)\n",
    "    X_test = sc.transform(X_test)\n",
    "    return X_train, X_test"
   ]
  },
  {
   "cell_type": "code",
   "execution_count": 151,
   "metadata": {},
   "outputs": [],
   "source": [
    "X, X_test = featureScale(X, X_test)\n",
    "X = np.vstack((X, X_test)) # Recombine after scaling train and test data with the same mean and variance"
   ]
  },
  {
   "cell_type": "markdown",
   "metadata": {},
   "source": [
    "## Separate Data into Subjects after Scaling"
   ]
  },
  {
   "cell_type": "code",
   "execution_count": 152,
   "metadata": {},
   "outputs": [],
   "source": [
    "start_idx = 0\n",
    "end_idx = 0\n",
    "lst = [S1,S2,S3,C1,C2,C3]\n",
    "for sub in lst:\n",
    "    end_idx += len(sub)\n",
    "    sub['accel_base_X'] = X[start_idx:end_idx, 0] \n",
    "    sub['accel_base_Y'] = X[start_idx:end_idx, 1]\n",
    "    sub['accel_base_Z'] = X[start_idx:end_idx, 2]\n",
    "    sub['accel_base_mag'] = X[start_idx:end_idx, 3]\n",
    "    start_idx = end_idx"
   ]
  },
  {
   "cell_type": "markdown",
   "metadata": {},
   "source": [
    "## Extract Features to numpy file"
   ]
  },
  {
   "cell_type": "code",
   "execution_count": 153,
   "metadata": {},
   "outputs": [],
   "source": [
    "def new_create_df(dataset, look_back, features, rem_range, skip):\n",
    "\n",
    "  fall_sec = dataset[dataset['fall_value']==1].index.values.tolist()\n",
    "  dataset = dataset[features]\n",
    "  print(dataset.head())\n",
    "  data_df = pd.DataFrame(columns=['sec','X','Y'])\n",
    "  feat_count = len(features) -1\n",
    "  print('Fall_sec: ',fall_sec)\n",
    "  sec = []\n",
    "  A = []\n",
    "  B = []\n",
    "  end_list = []  #edge condition for non-fall values\n",
    "  start_list = [0]\n",
    "  #prepare window frame \n",
    "  for i in range(len(fall_sec)):\n",
    "      end_list.append(fall_sec[i] - rem_range)\n",
    "      start_list.append(fall_sec[i] + rem_range)\n",
    "  end_list.append(dataset.shape[0]-look_back-1)  \n",
    "  \n",
    "  #add fall values\n",
    "  for i in range(len(fall_sec)):\n",
    "    a = dataset.iloc[fall_sec[i]-look_back:fall_sec[i], :feat_count].values\n",
    "    a = np.reshape(a,(look_back,1,feat_count)).tolist()\n",
    "    b = dataset.iloc[fall_sec[i], feat_count]\n",
    "    sec.append(fall_sec[i])\n",
    "    A.append(a)\n",
    "    B.append(b)\n",
    "  print(\"Added total falls of \",str(len(fall_sec)))\n",
    "\n",
    "  #add non-fall values\n",
    "  track = 100000\n",
    "  for start,end in zip(start_list,end_list):\n",
    "      for i in range(start,end,skip):\n",
    "        a = dataset.iloc[i:i+look_back, :feat_count].values\n",
    "        a = np.reshape(a,(look_back,1,feat_count)).tolist()\n",
    "        b = dataset.iloc[i + look_back, feat_count]\n",
    "        sec.append(i)\n",
    "        A.append(a)\n",
    "        B.append(b)\n",
    "        if(i>track):\n",
    "          print('row claculating',i)\n",
    "          track += 100000 \n",
    "  data_df['sec'] = sec\n",
    "  data_df['X'] = A\n",
    "  data_df['Y'] = B\n",
    "  data_df = data_df.sort_values(by=['sec'])\n",
    "  data_df = data_df.reset_index(drop = True)\n",
    "  val = data_df.values\n",
    "  X = np.reshape(val[:,1].tolist(),(val.shape[0],look_back,feat_count))\n",
    "  Y = np.reshape(val[:,2].tolist(),(val.shape[0],1))\n",
    "  return data_df,X,Y"
   ]
  },
  {
   "cell_type": "markdown",
   "metadata": {},
   "source": [
    "## Extract Features, Save to File"
   ]
  },
  {
   "cell_type": "code",
   "execution_count": 154,
   "metadata": {},
   "outputs": [],
   "source": [
    "features = {\n",
    "    'mag' : ['accel_base_mag','fall_value'],\n",
    "    'XYZ' : ['accel_base_X','accel_base_Y','accel_base_Z','fall_value'],\n",
    "    'XYZ_mag' : ['accel_base_X','accel_base_Y','accel_base_Z','accel_base_mag','fall_value']\n",
    "}"
   ]
  },
  {
   "cell_type": "code",
   "execution_count": 155,
   "metadata": {},
   "outputs": [],
   "source": [
    "feat = \"./Features/Lead_Times/100ms/Mag/\" # Where to output features\n",
    "\n",
    "lead_time = 100 # Declared at the top\n",
    "lb = 50\n",
    "rem_range = 500\n",
    "skip_val = 25\n",
    "feat_type = \"mag\"\n",
    "\n",
    "meta = \"_\" + str(feat_type) + \"_\" + str(lead_time) + \"ms_\" + str(lb) + \"lb\"\n",
    "\n",
    "subjects = [S1, S2, S3, C1, C2, C3]\n",
    "subject_names = [\"S1\", \"S2\", \"S3\", \"C1\", \"C2\", \"C3\"]"
   ]
  },
  {
   "cell_type": "code",
   "execution_count": 156,
   "metadata": {
    "scrolled": true
   },
   "outputs": [
    {
     "name": "stdout",
     "output_type": "stream",
     "text": [
      "Extracting for Subject: S1\n",
      "   accel_base_mag  fall_value\n",
      "0       -0.024030         0.0\n",
      "1        0.152847         0.0\n",
      "2        0.143863         0.0\n",
      "3        0.400448         0.0\n",
      "4        0.367624         0.0\n",
      "Fall_sec:  [341097, 361565, 386571, 406718, 422670, 457962, 470794, 483551, 504175, 516389, 589135, 610911, 623077, 654761, 671718, 684551, 699279, 869428, 882218, 898976, 918070, 986652, 998351, 1014093, 1029462]\n",
      "Added total falls of  25\n",
      "row claculating 100025\n",
      "row claculating 200025\n",
      "row claculating 300025\n",
      "row claculating 400021\n",
      "row claculating 500001\n",
      "row claculating 600010\n",
      "row claculating 700004\n",
      "row claculating 800004\n",
      "row claculating 900001\n",
      "row claculating 1000001\n",
      "row claculating 1100012\n",
      "row claculating 1200012\n",
      "row claculating 1300012\n",
      "row claculating 1400012\n",
      "row claculating 1500012\n",
      "row claculating 1600012\n",
      "Extracting for Subject: S2\n",
      "   accel_base_mag  fall_value\n",
      "0       -0.151726         0.0\n",
      "1       -0.034263         0.0\n",
      "2       -0.078798         0.0\n",
      "3       -0.145711         0.0\n",
      "4       -0.235085         0.0\n",
      "Fall_sec:  [197486, 220355, 253204, 268554, 379513, 400389, 421818, 438532, 461043, 472096, 572056, 584641, 599351, 612722, 625048, 633877, 757413, 771972, 784403, 794425, 834220, 859644, 880054, 892056, 964639, 979703, 1001775, 1017166, 1058593, 1072360]\n",
      "Added total falls of  30\n",
      "row claculating 100025\n",
      "row claculating 200011\n",
      "row claculating 300004\n",
      "row claculating 400889\n",
      "row claculating 500021\n",
      "row claculating 600001\n",
      "row claculating 700002\n",
      "row claculating 800025\n",
      "row claculating 900006\n",
      "row claculating 1000003\n",
      "row claculating 1100010\n",
      "row claculating 1200010\n",
      "row claculating 1300010\n",
      "row claculating 1400010\n",
      "Extracting for Subject: S3\n",
      "   accel_base_mag  fall_value\n",
      "0        0.046106         0.0\n",
      "1        0.038169         0.0\n",
      "2       -0.123549         0.0\n",
      "3       -0.058111         0.0\n",
      "4        0.025270         0.0\n",
      "Fall_sec:  [332558, 346694, 418641, 434961, 459150, 473438, 575984, 594560, 617380, 632609, 653538, 668464, 682715, 694628, 813877, 824030, 866486, 879665, 888852, 906069, 922555, 940896, 1032000, 1048105]\n",
      "Added total falls of  24\n",
      "row claculating 100025\n",
      "row claculating 200025\n",
      "row claculating 300025\n",
      "row claculating 400019\n",
      "row claculating 500013\n",
      "row claculating 600010\n",
      "row claculating 700003\n",
      "row claculating 800003\n",
      "row claculating 900002\n",
      "row claculating 1000021\n",
      "Extracting for Subject: C1\n",
      "   accel_base_mag  fall_value\n",
      "0       -0.010461         0.0\n",
      "1        0.003034         0.0\n",
      "2       -0.021890         0.0\n",
      "3       -0.011902         0.0\n",
      "4        0.053147         0.0\n",
      "Fall_sec:  [191472, 209997, 242292, 267029, 284897, 298790, 383242, 400891, 427867, 444999, 460664, 474709, 502860, 522713, 556450, 574399, 678122, 689699, 704976, 719318, 796736, 814181, 822008, 833913, 842946, 851809, 864429, 871842, 881416, 889927]\n",
      "Added total falls of  30\n",
      "row claculating 100025\n",
      "row claculating 200022\n",
      "row claculating 300015\n",
      "row claculating 400017\n",
      "row claculating 500009\n",
      "row claculating 600024\n",
      "row claculating 700024\n",
      "row claculating 800011\n",
      "row claculating 900002\n",
      "row claculating 1000002\n",
      "row claculating 1100002\n",
      "row claculating 1200002\n",
      "row claculating 1300002\n",
      "Extracting for Subject: C2\n",
      "   accel_base_mag  fall_value\n",
      "0       -0.041696         0.0\n",
      "1       -0.006293         0.0\n",
      "2        0.010120         0.0\n",
      "3       -0.002955         0.0\n",
      "4        0.030298         0.0\n",
      "Fall_sec:  [133618, 150107, 170622, 183749, 194898, 204478, 218198, 228188, 241322, 250204, 304720, 313445, 323572, 332478, 364703, 373750, 382599, 393240, 401967, 410252, 427336, 436012, 445756, 456062, 514101, 523151, 532694, 543087, 561216, 569972]\n",
      "Added total falls of  30\n",
      "row claculating 100025\n",
      "row claculating 200023\n",
      "row claculating 300004\n",
      "row claculating 400015\n",
      "row claculating 500012\n",
      "row claculating 600022\n",
      "row claculating 700022\n",
      "row claculating 800022\n",
      "row claculating 900022\n",
      "Extracting for Subject: C3\n",
      "   accel_base_mag  fall_value\n",
      "0        2.210657         0.0\n",
      "1        2.067774         0.0\n",
      "2        1.840960         0.0\n",
      "3        1.657103         0.0\n",
      "4        1.398625         0.0\n",
      "Fall_sec:  [136178, 149186, 156737, 171856, 182652, 190538, 206809, 215064, 224799, 233676, 288631, 298776, 319136, 329562, 347774, 357214, 369375, 378434, 390268, 400659, 430908, 446142, 454687, 465612, 474473, 518186, 527243, 537150, 547144, 560481, 569479]\n",
      "Added total falls of  31\n",
      "row claculating 100025\n",
      "row claculating 200013\n",
      "row claculating 300001\n",
      "row claculating 400018\n",
      "row claculating 500023\n",
      "row claculating 600004\n",
      "row claculating 700004\n",
      "row claculating 800004\n",
      "row claculating 900004\n",
      "CPU times: user 3min 14s, sys: 1min 24s, total: 4min 39s\n",
      "Wall time: 6min 6s\n"
     ]
    }
   ],
   "source": [
    "%%time\n",
    "for i in range(len(subjects)):\n",
    "    print(\"Extracting for Subject:\", subject_names[i])\n",
    "    temp_df, temp_x, temp_y = new_create_df(subjects[i], lb, features[feat_type], rem_range, skip_val)\n",
    "    \n",
    "    with open(feat + \"X_\" + subject_names[i] + meta + \".npy\", \"wb\") as f:\n",
    "        np.save(f, temp_x)\n",
    "    \n",
    "    with open(feat + \"Y_\" + subject_names[i] + meta + \".npy\", \"wb\") as f:\n",
    "        np.save(f, temp_y)\n",
    "    "
   ]
  },
  {
   "cell_type": "code",
   "execution_count": 47,
   "metadata": {},
   "outputs": [
    {
     "name": "stdout",
     "output_type": "stream",
     "text": [
      "   accel_base_X  accel_base_Y  accel_base_Z  fall_value\n",
      "0          1372          1441          -674         0.0\n",
      "1          1403          1514          -695         0.0\n",
      "2          1414          1555          -556         0.0\n",
      "3          1460          1658          -588         0.0\n",
      "4          1440          1660          -576         0.0\n",
      "Fall_sec:  [341142, 361610, 386616, 406763, 422715, 458007, 470839, 483596, 504220, 516433, 589180, 610956, 623122, 654806, 671763, 684596, 699324, 869473, 882263, 899021, 918115, 986697, 998396, 1014138, 1029507]\n",
      "Added total falls of  25\n",
      "row claculating 100025\n",
      "row claculating 200025\n",
      "row claculating 300025\n",
      "row claculating 400016\n",
      "row claculating 500021\n",
      "row claculating 600005\n",
      "row claculating 700024\n",
      "row claculating 800024\n",
      "row claculating 900021\n",
      "row claculating 1000021\n",
      "row claculating 1100007\n",
      "row claculating 1200007\n",
      "row claculating 1300007\n",
      "row claculating 1400007\n",
      "row claculating 1500007\n",
      "row claculating 1600007\n",
      "CPU times: user 29 s, sys: 926 ms, total: 29.9 s\n",
      "Wall time: 30 s\n"
     ]
    }
   ],
   "source": [
    "%%time\n",
    "s1_df, s1x_ts, s1y_ts = new_create_df(S1, lb, features[feat_type], rem_range, skip_val)"
   ]
  },
  {
   "cell_type": "code",
   "execution_count": 54,
   "metadata": {},
   "outputs": [],
   "source": [
    "with open(feat + \"X_S1\" + meta +\".npy\", \"wb\") as f:\n",
    "    np.save(f, s1x_ts)\n",
    "    \n",
    "with open(feat + \"Y_S1\" + meta +\".npy\", \"wb\") as f:\n",
    "    np.save(f, s1y_ts)"
   ]
  },
  {
   "cell_type": "markdown",
   "metadata": {},
   "source": [
    "## Do the same for the following"
   ]
  },
  {
   "cell_type": "code",
   "execution_count": 56,
   "metadata": {},
   "outputs": [
    {
     "name": "stdout",
     "output_type": "stream",
     "text": [
      "   accel_base_X  accel_base_Y  accel_base_Z  fall_value\n",
      "0           -99          -121          2039         0.0\n",
      "1           -35          -171          2089         0.0\n",
      "2            52           -70          2075         0.0\n",
      "3            -6           -81          2046         0.0\n",
      "4           -15           -46          2008         0.0\n",
      "Fall_sec:  [197531, 220400, 253249, 268599, 379558, 400434, 421863, 438577, 461088, 472141, 572101, 584686, 599396, 612767, 625093, 633922, 757458, 772017, 784448, 794470, 834265, 859689, 880099, 892101, 964684, 979748, 1001820, 1017211, 1058638, 1072405]\n",
      "Added total falls of  30\n",
      "row claculating 100025\n",
      "row claculating 200006\n",
      "row claculating 300024\n",
      "row claculating 400934\n",
      "row claculating 500016\n",
      "row claculating 600021\n",
      "row claculating 700022\n",
      "row claculating 800020\n",
      "row claculating 900001\n",
      "row claculating 1000023\n",
      "row claculating 1100005\n",
      "row claculating 1200005\n",
      "row claculating 1300005\n",
      "row claculating 1400005\n",
      "CPU times: user 24.7 s, sys: 916 ms, total: 25.6 s\n",
      "Wall time: 25.6 s\n"
     ]
    }
   ],
   "source": [
    "%%time\n",
    "s2_df, s2x_ts, s2y_ts = new_create_df(S2, lb, features[feat_type], rem_range, skip_val)\n",
    "\n",
    "with open(feat + \"X_S2\" + meta +\".npy\", \"wb\") as f:\n",
    "    np.save(f, s2x_ts)\n",
    "    \n",
    "with open(feat + \"Y_S2\" + meta +\".npy\", \"wb\") as f:\n",
    "    np.save(f, s2y_ts)"
   ]
  },
  {
   "cell_type": "code",
   "execution_count": 57,
   "metadata": {},
   "outputs": [
    {
     "name": "stdout",
     "output_type": "stream",
     "text": [
      "   accel_base_X  accel_base_Y  accel_base_Z  fall_value\n",
      "0            18           271         -2114         0.0\n",
      "1            37           273         -2110         0.0\n",
      "2            -5           242         -2043         0.0\n",
      "3            17           248         -2071         0.0\n",
      "4           -14           345         -2094         0.0\n",
      "Fall_sec:  [332603, 346739, 418686, 435007, 459195, 473483, 576029, 594605, 617425, 632654, 653583, 668509, 682760, 694673, 813922, 824075, 866531, 879710, 888897, 906114, 922600, 940941, 1032045, 1048150]\n",
      "Added total falls of  24\n",
      "row claculating 100025\n",
      "row claculating 200025\n",
      "row claculating 300025\n",
      "row claculating 400014\n",
      "row claculating 500008\n",
      "row claculating 600005\n",
      "row claculating 700023\n",
      "row claculating 800023\n",
      "row claculating 900022\n",
      "row claculating 1000016\n",
      "CPU times: user 17 s, sys: 667 ms, total: 17.7 s\n",
      "Wall time: 17.7 s\n"
     ]
    }
   ],
   "source": [
    "%%time\n",
    "s3_df,s3x_ts, s3y_ts = new_create_df(S3, lb, features[feat_type], rem_range, skip_val)\n",
    "\n",
    "with open(feat + \"X_S3\" + meta +\".npy\", \"wb\") as f:\n",
    "    np.save(f, s3x_ts)\n",
    "    \n",
    "with open(feat + \"Y_S3\" + meta +\".npy\", \"wb\") as f:\n",
    "    np.save(f, s3y_ts)"
   ]
  },
  {
   "cell_type": "code",
   "execution_count": 59,
   "metadata": {},
   "outputs": [
    {
     "name": "stdout",
     "output_type": "stream",
     "text": [
      "   accel_base_X  accel_base_Y  accel_base_Z  fall_value\n",
      "0          -810           204         -1934         0.0\n",
      "1          -811           204         -1940         0.0\n",
      "2          -826           192         -1923         0.0\n",
      "3          -822           176         -1931         0.0\n",
      "4          -831           154         -1960         0.0\n",
      "Fall_sec:  [191517, 210042, 242337, 267074, 284942, 298835, 383287, 400936, 427912, 445043, 460709, 474754, 502905, 522758, 556495, 574443, 678167, 689743, 705021, 719363, 796781, 814226, 822053, 833958, 842991, 851854, 864474, 871887, 881461, 889972]\n",
      "Added total falls of  30\n",
      "row claculating 100025\n",
      "row claculating 200017\n",
      "row claculating 300010\n",
      "row claculating 400012\n",
      "row claculating 500004\n",
      "row claculating 600018\n",
      "row claculating 700018\n",
      "row claculating 800006\n",
      "row claculating 900022\n",
      "row claculating 1000022\n",
      "row claculating 1100022\n",
      "row claculating 1200022\n",
      "row claculating 1300022\n",
      "CPU times: user 24.7 s, sys: 933 ms, total: 25.6 s\n",
      "Wall time: 25.6 s\n"
     ]
    }
   ],
   "source": [
    "%%time\n",
    "c1_df, c1x_ts, c1y_ts = new_create_df(C1, lb, features[feat_type], rem_range, skip_val)\n",
    "\n",
    "with open(feat + \"X_C1\" + meta +\".npy\", \"wb\") as f:\n",
    "    np.save(f, c1x_ts)\n",
    "    \n",
    "with open(feat + \"Y_C1\" + meta +\".npy\", \"wb\") as f:\n",
    "    np.save(f, c1y_ts)"
   ]
  },
  {
   "cell_type": "code",
   "execution_count": 60,
   "metadata": {},
   "outputs": [
    {
     "name": "stdout",
     "output_type": "stream",
     "text": [
      "   accel_base_X  accel_base_Y  accel_base_Z  fall_value\n",
      "0          -121           578         -2008         0.0\n",
      "1          -113           580         -2024         0.0\n",
      "2          -116           574         -2033         0.0\n",
      "3          -117           574         -2027         0.0\n",
      "4          -135           574         -2041         0.0\n",
      "Fall_sec:  [133663, 150152, 170667, 183794, 194943, 204523, 218243, 228233, 241367, 250249, 304765, 313490, 323617, 332523, 364748, 373795, 382644, 393285, 402012, 410297, 427381, 436056, 445802, 456106, 514146, 523196, 532739, 543132, 561261, 570017]\n",
      "Added total falls of  30\n",
      "row claculating 100025\n",
      "row claculating 200018\n",
      "row claculating 300024\n",
      "row claculating 400010\n",
      "row claculating 500006\n",
      "row claculating 600017\n",
      "row claculating 700017\n",
      "row claculating 800017\n",
      "row claculating 900017\n",
      "CPU times: user 15.4 s, sys: 746 ms, total: 16.2 s\n",
      "Wall time: 16.4 s\n"
     ]
    }
   ],
   "source": [
    "%%time\n",
    "c2_df,c2x_ts, c2y_ts = new_create_df(C2, lb, features[feat_type], rem_range, skip_val)\n",
    "\n",
    "with open(feat + \"X_C2\" + meta +\".npy\", \"wb\") as f:\n",
    "    np.save(f, c2x_ts)\n",
    "    \n",
    "with open(feat + \"Y_C2\" + meta +\".npy\", \"wb\") as f:\n",
    "    np.save(f, c2y_ts)"
   ]
  },
  {
   "cell_type": "code",
   "execution_count": 62,
   "metadata": {},
   "outputs": [
    {
     "name": "stdout",
     "output_type": "stream",
     "text": [
      "   accel_base_X  accel_base_Y  accel_base_Z  fall_value\n",
      "0          -109          -256          3064         0.0\n",
      "1          -168          -165          3005         0.0\n",
      "2          -160           -67          2910         0.0\n",
      "3           -67           -22          2834         0.0\n",
      "4             1            -4          2722         0.0\n",
      "Fall_sec:  [136223, 149231, 156782, 171901, 182697, 190583, 206854, 215109, 224844, 233721, 288676, 298821, 319181, 329607, 347819, 357259, 369420, 378479, 390313, 400704, 430953, 446188, 454732, 465657, 474518, 518231, 527288, 537195, 547189, 560526, 569524]\n",
      "Added total falls of  31\n",
      "row claculating 100025\n",
      "row claculating 200008\n",
      "row claculating 300021\n",
      "row claculating 400013\n",
      "row claculating 500018\n",
      "row claculating 600024\n",
      "row claculating 700024\n",
      "row claculating 800024\n",
      "row claculating 900024\n",
      "CPU times: user 18 s, sys: 863 ms, total: 18.8 s\n",
      "Wall time: 19 s\n"
     ]
    }
   ],
   "source": [
    "%%time\n",
    "c3_df, c3x_ts, c3y_ts = new_create_df(C3, lb, features[feat_type], rem_range, skip_val)\n",
    "\n",
    "with open(feat + \"X_C3\" + meta +\".npy\", \"wb\") as f:\n",
    "    np.save(f, c3x_ts)\n",
    "    \n",
    "with open(feat + \"Y_C3\" + meta +\".npy\", \"wb\") as f:\n",
    "    np.save(f, c3y_ts)"
   ]
  },
  {
   "cell_type": "code",
   "execution_count": null,
   "metadata": {},
   "outputs": [],
   "source": []
  }
 ],
 "metadata": {
  "kernelspec": {
   "display_name": "Python 3",
   "language": "python",
   "name": "python3"
  },
  "language_info": {
   "codemirror_mode": {
    "name": "ipython",
    "version": 3
   },
   "file_extension": ".py",
   "mimetype": "text/x-python",
   "name": "python",
   "nbconvert_exporter": "python",
   "pygments_lexer": "ipython3",
   "version": "3.7.6"
  }
 },
 "nbformat": 4,
 "nbformat_minor": 4
}
