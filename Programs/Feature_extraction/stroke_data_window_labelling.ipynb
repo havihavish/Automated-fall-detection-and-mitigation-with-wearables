{
 "cells": [
  {
   "cell_type": "code",
   "execution_count": 8,
   "metadata": {},
   "outputs": [],
   "source": [
    "import pandas as pd\n",
    "import matplotlib.pyplot as plt\n",
    "import numpy as np\n",
    "from pandas import ExcelWriter\n",
    "from pandas import ExcelFile\n",
    "from bisect import bisect\n",
    "import operator\n",
    "import os\n",
    "from os import listdir\n",
    "from os.path import isfile, join\n",
    "from matplotlib.backends.backend_pdf import PdfPages\n",
    "from sklearn.preprocessing import MinMaxScaler\n",
    "plt.rcParams.update({'figure.max_open_warning': 0})\n",
    "import operator"
   ]
  },
  {
   "cell_type": "code",
   "execution_count": 9,
   "metadata": {},
   "outputs": [],
   "source": [
    "def read_combined_data(filename,airbag_data):\n",
    "    data = pd.read_excel (combined_path+filename)\n",
    "    data = data[(data['eventLabel']>100) & (data['eventLabel'] < 200) &\n",
    "                (data['impactTime_ms'].notnull()) & ((data['eventStart_ms']) < (airbag_data.iloc[-1][0]))\n",
    "                & (data['impactTime_ms'] != 0)]\n",
    "    data = data[['eventLabel','eventStart_ms','impactTime_ms', 'eventEnd_ms','eventDuration_ms']]\n",
    "    data.columns = ['eventLabel','Start milisec','Impact milisec', 'End Milisec','eventDuration_ms']\n",
    "    return data"
   ]
  },
  {
   "cell_type": "code",
   "execution_count": 10,
   "metadata": {},
   "outputs": [],
   "source": [
    "# Adding the fall value by choosing the maximum magitude in the fall range from combined data\n",
    "time_div = 10**3\n",
    "def add_new_fall_value(airbag_data,manual_data):\n",
    "    airbag_data['accel_base_mag'] =  np.sqrt(airbag_data['accel_base_X']**2 + airbag_data['accel_base_Y']**2 + \n",
    "                                             airbag_data['accel_base_Z']**2)\n",
    "    print(\"shape of falls combined \",manual_data.shape)\n",
    "    for index, row in manual_data.iterrows():\n",
    "        airbag_data.loc[(airbag_data['time_counter'] >= row['Start milisec']) &\n",
    "                        (airbag_data['time_counter'] < row['End Milisec']),'fall_check'] = 88\n",
    "        temp = airbag_data.loc[(airbag_data['accel_base_mag'] == \\\n",
    "                                                  (airbag_data.loc[(airbag_data['time_counter'] >= row['Start milisec']) & \\\n",
    "                                                                   (airbag_data['time_counter'] < row['End Milisec']),\n",
    "                                                                   'accel_base_mag'].max())) & \\\n",
    "                                                 (airbag_data['time_counter'] >= row['Start milisec']) & \\\n",
    "                                                 (airbag_data['time_counter'] < row['End Milisec'])]\n",
    "        \n",
    "        airbag_data.loc[airbag_data.time_counter == temp.iloc[0,0], 'cal_impact_milisec'] = 80\n",
    "        if(any(airbag_data['time_counter'] == row['Impact milisec'])):\n",
    "            airbag_data.loc[(airbag_data['time_counter'] == row['Impact milisec']),'impact_value'] =  84\n",
    "        else:\n",
    "            airbag_data.loc[bisect(airbag_data['time_counter'].values, row['Impact milisec']),'impact_value'] =  84"
   ]
  },
  {
   "cell_type": "code",
   "execution_count": 11,
   "metadata": {},
   "outputs": [],
   "source": [
    "def big_size_plot_of_acceleration_vs_time(data, name, x=15, y=10, left = -1, right = -1):\n",
    "    fig, axs = plt.subplots(figsize=(x,y))\n",
    "    fig.suptitle('Bace acceleration for AIRBAG-'+name)\n",
    "    G = 2048\n",
    "    data['accel_base_mag'] =  np.sqrt(data['accel_base_X']**2 + data['accel_base_Y']**2 + \n",
    "                                             data['accel_base_Z']**2)\n",
    "    axs.plot( data.time_counter/time_div,data.accel_base_X/G, marker='', color='red', linewidth=1, label='X')\n",
    "    axs.plot( data.time_counter/time_div,data.accel_base_Y/G, marker='', color='blue', linewidth=1, label='Y')\n",
    "    axs.plot( data.time_counter/time_div,data.accel_base_Z/G, marker='', color='green', linewidth=1, label='Z')\n",
    "    axs.plot( data.time_counter/time_div,data.accel_base_mag/G, marker='', color='black', linewidth=1, label='Magnitude')\n",
    "    axs.axhline(y=5, linewidth=2,linestyle ='--', color='y',label = \"5G\")\n",
    "#     axs.scatter(data.time_counter/time_div,data.cal_impact_milisec/4,s=30,c = 'violet')\n",
    "    \n",
    "    if (left>-1 and right>-1):\n",
    "        axs.set_xlim(left,right)\n",
    "    elif (left > -1):\n",
    "        axs.set_xlim(left)\n",
    "    elif (right > -1):\n",
    "        axs.set_xlim(right)\n",
    "    else:\n",
    "        axs.set_xlim()\n",
    "    \n",
    "    axs.legend()\n",
    "    axs.set_title('Data')"
   ]
  },
  {
   "cell_type": "code",
   "execution_count": 12,
   "metadata": {},
   "outputs": [],
   "source": [
    "def acceleration_vs_time(data,label):\n",
    "    fig, axs = plt.subplots(2, 2,figsize=(15,10))\n",
    "    fig.suptitle('Bace acceleration for AIRBAG-'+label)\n",
    "    G = 2048\n",
    "    axs[0, 0].plot(data.time_counter/time_div,data.accel_base_X/G, marker='', color='red', linewidth=1)\n",
    "    axs[0, 0].scatter(data.time_counter/time_div,data.fall_detection/4,s=5,c = 'brown')\n",
    "    axs[0, 0].set_title('acceleration X')\n",
    "    \n",
    "    axs[0, 1].plot(data.time_counter/time_div,data.accel_base_Y/G, marker='', color='blue', linewidth=1)\n",
    "    axs[0, 1].scatter(data.time_counter/time_div,data.fall_detection/4,s=5,c = 'brown')\n",
    "    axs[0, 1].set_title('acceleration Y')\n",
    "    \n",
    "    axs[1, 0].plot(data.time_counter/time_div,data.accel_base_Z/G, marker='', color='green', linewidth=1)\n",
    "    axs[1, 0].scatter(data.time_counter/time_div,data.fall_detection/4,s=5,c = 'brown')\n",
    "    axs[1, 0].set_title('acceleration Z')\n",
    "    \n",
    "    axs[1, 1].plot( data.time_counter/time_div,data.accel_base_X/G, marker='', color='red', linewidth=1)\n",
    "    axs[1, 1].plot( data.time_counter/time_div,data.accel_base_Y/G, marker='', color='blue', linewidth=1)\n",
    "    axs[1, 1].plot( data.time_counter/time_div,data.accel_base_Z/G, marker='', color='green', linewidth=1)\n",
    "    axs[1, 1].scatter(data.time_counter/time_div,data.fall_detection/4,s=5,c = 'brown')\n",
    "    \n",
    "    axs[1, 1].set_title('acceleration all axis')"
   ]
  },
  {
   "cell_type": "code",
   "execution_count": 13,
   "metadata": {},
   "outputs": [],
   "source": [
    "def plot_falls_zoomed(subject, left, right, name, fn, width=10, height=8):\n",
    "    fig, axs = plt.subplots(figsize=(width, height))\n",
    "    falls = subject.loc[subject[\"cal_impact_milisec\"] == 80]\n",
    "    fall_times = falls['time_counter'].values.tolist()\n",
    "    \n",
    "    fig.suptitle(\"Subject \" + name + \" - Fall Number \" + str(fn+1) + \" - Occurs at \" + str(fall_times[fn] * (10 ** (-3))) + \" s\")\n",
    "    fc = 1\n",
    "    G = 2048\n",
    "    # Get Indexes for time\n",
    "    start_time = fall_times[fn] - left\n",
    "    end_time = fall_times[fn] + right\n",
    "    start_time = subject.loc[subject[\"time_counter\"] == start_time].index[0]\n",
    "    end_time = subject.loc[subject[\"time_counter\"] == end_time].index[0]\n",
    "\n",
    "    # Setup X and Y for plotting\n",
    "    time = subject.loc[start_time:end_time, 'time_counter'] / time_div\n",
    "    accel = subject.loc[start_time:end_time, 'accel_base_mag'] / G\n",
    "    x = subject.loc[start_time:end_time, 'accel_base_X'] / G\n",
    "    y = subject.loc[start_time:end_time, 'accel_base_Y'] / G\n",
    "    z = subject.loc[start_time:end_time, 'accel_base_Z'] / G\n",
    "#     fall = subject.loc[start_time:end_time, 'cal_impact_milisec'] *(10**(-3))\n",
    "# \n",
    "    # Plot Graphs\n",
    "    plt.xlabel(\"Time in (s)\")\n",
    "    plt.ylabel(\"XYZ, Magnitude\")\n",
    "    axs.plot(time, accel, marker='', color='black', linewidth=1, alpha = 0.8, label=\"Accel\")\n",
    "    axs.plot(time, x, marker='', color='blue', linewidth=1, alpha = 0.8, label=\"X\")\n",
    "    axs.plot(time, y, marker='', color='green', linewidth=1, alpha = 0.8, label=\"Y\")\n",
    "    axs.plot(time, z, marker='', color='red', linewidth=1, alpha = 0.8, label=\"Z\")\n",
    "    axs.axhline(y=5, linewidth=2,linestyle ='--', color='y',label = \"5G\")\n",
    "    \n",
    "    # Plot Max Fall Time\n",
    "    plt.axvline(x = fall_times[fn] / time_div, color=\"m\", linewidth=1, label=\"Impact\")\n",
    "    \n",
    "    \n",
    "    # Plot One Second Rem Range\n",
    "    plt.axvline(x = fall_times[fn] / time_div + 1, color=\"m\", linewidth=3, label=\"Fall Radius\")\n",
    "    plt.axvline(x = fall_times[fn] / time_div - 1, color=\"m\", linewidth=3)\n",
    "\n",
    "    ul = max(max(accel), max(x), max(y), max(z)) + 5\n",
    "    dl = min(min(accel), min(x), min(y), min(z)) - 5\n",
    "     \n",
    "    plt.ylim(dl, ul)\n",
    "    plt.legend()\n",
    "    return fig"
   ]
  },
  {
   "cell_type": "code",
   "execution_count": 28,
   "metadata": {},
   "outputs": [],
   "source": [
    "def extract_rnn_feature(data,window_time=1000,move_window = 0):\n",
    "    \n",
    "    max_ms = data['time_counter'].max()\n",
    "    feature = pd.DataFrame(columns={'time_counter','accel_base_X','accel_base_Y','accel_base_Z','accel_base_mag','fall_value'})\n",
    "    impact_list = data.loc[(data['cal_impact_milisec'] == 80),'time_counter'].values\n",
    "    feature[['time_counter','accel_base_mag','accel_base_X','accel_base_Y','accel_base_Z']] = data[['time_counter','accel_base_mag','accel_base_X','accel_base_Y','accel_base_Z']]  \n",
    "    feature['fall_value'] = np.zeros((feature.shape[0],1))\n",
    "#     print(impact_list)\n",
    "    for i in impact_list:\n",
    "        \n",
    "        temp = data.loc[data['time_counter'] <= i-move_window].tail(1).values[0][0]\n",
    "        feature.loc[feature['time_counter'] == temp,'fall_value' ] = 1\n",
    "    return feature"
   ]
  },
  {
   "cell_type": "markdown",
   "metadata": {},
   "source": [
    "## Reading all files and printing their shape"
   ]
  },
  {
   "cell_type": "code",
   "execution_count": 30,
   "metadata": {},
   "outputs": [
    {
     "name": "stdout",
     "output_type": "stream",
     "text": [
      "S5 ['S5-Airbag.CSV'] 1\n",
      "shape of falls combined  (29, 5)\n",
      "labelling moved window of:10 ms\n",
      "labelling moved window of:100 ms\n",
      "labelling moved window of:200 ms\n",
      "labelling moved window of:300 ms\n",
      "labelling moved window of:400 ms\n",
      "labelling moved window of:2000 ms\n",
      "S6 ['S6-Airbag.CSV'] 1\n",
      "shape of falls combined  (25, 5)\n",
      "labelling moved window of:10 ms\n",
      "labelling moved window of:100 ms\n",
      "labelling moved window of:200 ms\n",
      "labelling moved window of:300 ms\n",
      "labelling moved window of:400 ms\n",
      "labelling moved window of:2000 ms\n",
      "S7 ['S7-Airbag.CSV'] 1\n",
      "shape of falls combined  (32, 5)\n",
      "labelling moved window of:10 ms\n",
      "labelling moved window of:100 ms\n",
      "labelling moved window of:200 ms\n",
      "labelling moved window of:300 ms\n",
      "labelling moved window of:400 ms\n",
      "labelling moved window of:2000 ms\n",
      "S12 ['S12-Airbag.CSV'] 1\n",
      "shape of falls combined  (15, 5)\n",
      "labelling moved window of:10 ms\n",
      "labelling moved window of:100 ms\n",
      "labelling moved window of:200 ms\n",
      "labelling moved window of:300 ms\n",
      "labelling moved window of:400 ms\n",
      "labelling moved window of:2000 ms\n",
      "S13 ['L0000021.CSV', 'L0000022.CSV'] 2\n",
      "shape of falls combined  (5, 5)\n",
      "labelling moved window of:10 ms\n",
      "labelling moved window of:100 ms\n",
      "labelling moved window of:200 ms\n",
      "labelling moved window of:300 ms\n",
      "labelling moved window of:400 ms\n",
      "labelling moved window of:2000 ms\n",
      "S14 ['L0000003.CSV'] 1\n",
      "shape of falls combined  (32, 5)\n",
      "labelling moved window of:10 ms\n",
      "labelling moved window of:100 ms\n",
      "labelling moved window of:200 ms\n",
      "labelling moved window of:300 ms\n",
      "labelling moved window of:400 ms\n",
      "labelling moved window of:2000 ms\n",
      "S16 ['L0000002.CSV'] 1\n",
      "shape of falls combined  (34, 5)\n",
      "labelling moved window of:10 ms\n",
      "labelling moved window of:100 ms\n",
      "labelling moved window of:200 ms\n",
      "labelling moved window of:300 ms\n",
      "labelling moved window of:400 ms\n",
      "labelling moved window of:2000 ms\n",
      "S19 ['L0000003.CSV'] 1\n",
      "shape of falls combined  (20, 5)\n",
      "labelling moved window of:10 ms\n",
      "labelling moved window of:100 ms\n",
      "labelling moved window of:200 ms\n",
      "labelling moved window of:300 ms\n",
      "labelling moved window of:400 ms\n",
      "labelling moved window of:2000 ms\n"
     ]
    }
   ],
   "source": [
    "subjects = ['S4','S5','S6','S7','S12','S13','S14','S16','S19']\n",
    "\n",
    "for subject in subjects[]:\n",
    "    data_path = \"../../../Airbag_Data/Strokes_data/\"+subject+\"_Raw Data/Airbag/\"\n",
    "    combined_path = \"../../../Airbag_Data/Strokes_data/combined excel files/\"\n",
    "    files = [f for f in listdir(data_path) if isfile(join(data_path, f)) and '.CSV' in f]\n",
    "    files.sort()\n",
    "    print(subject,files, len(files))\n",
    "\n",
    "    concatenate_csv = pd.concat([pd.read_csv(data_path+f,names = ['time_counter','accel_base_X','accel_base_Y','accel_base_Z','gyro_base_X',\n",
    "                                                      'gyro_base_Y','gyro_base_Z','accel_right_X','accel_right_Y','accel_right_Z',\n",
    "                                                      'gyro_right_X','gyro_right_Y','gyro_right_Z','accel_left_X','accel_left_Y',\n",
    "                                                      'accel_left_Z','gyro_left_X','gyro_left_Y','gyro_left_Z','fall_detection',\n",
    "                                                      'fall_check','impact_value']) for f in files ],ignore_index=True)\n",
    "    combined = read_combined_data(subject+\"_CombinedData.xls\",concatenate_csv)\n",
    "    add_new_fall_value(concatenate_csv,combined)\n",
    "    \n",
    "    move_window = [10,100,200,300,400,2000]\n",
    "    for index in move_window:\n",
    "        print(\"labelling moved window of:{} ms\".format(index))\n",
    "        feature = extract_rnn_feature(concatenate_csv,move_window=index)\n",
    "        #saving labels of each subject on a particular moving window\n",
    "        feature.to_csv(\"../../../Label_data/\"+subject+\"_\"+str(index)+\".csv\", sep=',',index=False)\n",
    "        "
   ]
  },
  {
   "cell_type": "markdown",
   "metadata": {},
   "source": [
    "### Concatinating all the files in the sorted order"
   ]
  },
  {
   "cell_type": "code",
   "execution_count": null,
   "metadata": {},
   "outputs": [],
   "source": [
    "\n",
    " \n",
    "move_window = [10,100,200,300,400,2000]\n",
    " \n",
    "for index in move_window:\n",
    "    print(\"extracting features on moved window frame by:{} ms\".format(index))\n",
    "    data_count = 1\n",
    "    for temp_data in data:\n",
    "        feature = extract_rnn_feature(temp_data,move_window=index)\n",
    "        #saving labels of each subject on a particular moving window\n",
    "        feature.to_csv(\"Programs/RNN_features/\"+str(index)+\"_\"+str(data_count)+ \".csv\", sep=',',index=False)\n",
    "        data_count += 1"
   ]
  },
  {
   "cell_type": "code",
   "execution_count": 20,
   "metadata": {},
   "outputs": [],
   "source": [
    "def plot_fall_mag(concatenate_csv,subject):\n",
    "    fig = plt.figure(figsize = (15,8))\n",
    "    ax = fig.add_axes([0,0,1,1])\n",
    "    G = 2048\n",
    "    falls = [ i+1 for i in range(concatenate_csv.loc[concatenate_csv['cal_impact_milisec'] == 80].shape[0]) ]\n",
    "    acc_mag = concatenate_csv.loc[concatenate_csv['cal_impact_milisec'] == 80,'accel_base_mag'].tolist()\n",
    "    acc_mag = [element/G for element in acc_mag]\n",
    "    ax.bar(falls,acc_mag)\n",
    "    plt.title(subject + '_Falls magnitude',fontsize = 22)\n",
    "    plt.xlabel('Falls',fontsize = 18)\n",
    "    plt.ylabel('Acc mag in g',fontsize = 18)\n",
    "    plt.savefig(subject + '.png',dpi=300, bbox_inches='tight')\n",
    "    plt.show()\n"
   ]
  },
  {
   "cell_type": "markdown",
   "metadata": {},
   "source": [
    "## Generate All falls magnitudes"
   ]
  },
  {
   "cell_type": "code",
   "execution_count": 21,
   "metadata": {},
   "outputs": [
    {
     "data": {
      "image/png": "[encoded data removed]",
      "text/plain": [
       "<Figure size 1080x576 with 1 Axes>"
      ]
     },
     "metadata": {
      "needs_background": "light"
     },
     "output_type": "display_data"
    }
   ],
   "source": [
    "plot_fall_mag(concatenate_csv,subject)"
   ]
  },
  {
   "cell_type": "markdown",
   "metadata": {},
   "source": [
    "## Plotting the XYZ graphs of the accelerometer for S12"
   ]
  },
  {
   "cell_type": "code",
   "execution_count": 30,
   "metadata": {},
   "outputs": [],
   "source": [
    "def generate_5g_csv(concatenate_csv,subject):\n",
    "    \n",
    "    temp = concatenate_csv.loc[concatenate_csv['accel_base_mag'] > 5.0 * 2048]\n",
    "    temp.to_csv(subject+\"_5G.csv\",index = False)\n",
    "    times = temp['time_counter'].to_numpy()\n",
    "    times = np.concatenate(([0],times)) # add 0 to the beginning to append the first value\n",
    "    fall_start_times = [] # Start times of all fall windows\n",
    "    for x in range(0, len(times)-1):\n",
    "        if (times[x+1] - times[x] > 8000): # if they are in a different window (just a guess that we can't have two falls w/in one second)\n",
    "            fall_start_times.append(times[x+1] * (10**(-3)))\n",
    "    return fall_start_times\n"
   ]
  },
  {
   "cell_type": "code",
   "execution_count": 31,
   "metadata": {},
   "outputs": [],
   "source": [
    "def generate_5g_combine(concatenate_csv,subject):\n",
    "        temp = concatenate_csv.loc[(concatenate_csv['cal_impact_milisec'] == 80) & \n",
    "                            (concatenate_csv['accel_base_mag'] > 5*2048) ]\n",
    "        temp = temp.time_counter.to_list()\n",
    "        temp = [ int(var)*(10**(-3)) for var in temp ]\n",
    "        return temp\n",
    "        \n",
    "        "
   ]
  },
  {
   "cell_type": "code",
   "execution_count": 293,
   "metadata": {},
   "outputs": [],
   "source": [
    "S4_5g_cal = generate_5g_csv(concatenate_csv,subject)\n",
    "S4_falls_combined = generate_5g_combine(concatenate_csv,subject)\n",
    "\n"
   ]
  },
  {
   "cell_type": "markdown",
   "metadata": {},
   "source": [
    "## Plot stiched_5G vs actual falls"
   ]
  },
  {
   "cell_type": "code",
   "execution_count": 321,
   "metadata": {},
   "outputs": [],
   "source": [
    "def plot_5g_accel(acc_mag_stiched,acc_mag_combined,subject):\n",
    "    plt.figure(figsize=(10,10))\n",
    "    plt.plot(acc_mag_stiched,linestyle='--', marker='o', color='b',linewidth = 2,  markersize=10,label = 'stitched')\n",
    "    plt.plot(acc_mag_combined,linestyle='--', marker='v', color='r',label = 'actual')\n",
    "    plt.ylabel('Time in seconds',fontsize = 18)\n",
    "    plt.xlabel('Fall count', fontsize =18)\n",
    "    plt.title(subject,fontsize = 24)\n",
    "    plt.legend(loc=\"upper left\",fontsize = 18)\n",
    "    plt.show()"
   ]
  },
  {
   "cell_type": "code",
   "execution_count": 323,
   "metadata": {},
   "outputs": [
    {
     "data": {
      "image/png": "[encoded data removed]",
      "text/plain": [
       "<Figure size 720x720 with 1 Axes>"
      ]
     },
     "metadata": {
      "needs_background": "light"
     },
     "output_type": "display_data"
    }
   ],
   "source": [
    "plot_5g_accel(S4_5g_cal,S4_falls_combined,subject)"
   ]
  },
  {
   "cell_type": "code",
   "execution_count": 322,
   "metadata": {},
   "outputs": [
    {
     "name": "stdout",
     "output_type": "stream",
     "text": [
      "[567.562, 620.75, 671.782, 720.508, 781.3580000000001, 815.91, 883.744, 928.8000000000001, 991.73, 1023.7180000000001, 1443.146, 1505.2640000000001, 1516.848, 1623.256, 1683.93, 1730.506, 2556.15]\n",
      "[567.614, 620.804, 671.822, 720.5260000000001, 781.37, 815.924, 883.746, 928.8340000000001, 991.756, 1023.732, 1443.176, 1505.268, 1623.32, 1683.948, 1730.778]\n"
     ]
    }
   ],
   "source": [
    "print(S4_5g_cal)\n",
    "print(S4_falls_combined)"
   ]
  }
 ],
 "metadata": {
  "kernelspec": {
   "display_name": "Python 3",
   "language": "python",
   "name": "python3"
  },
  "language_info": {
   "codemirror_mode": {
    "name": "ipython",
    "version": 3
   },
   "file_extension": ".py",
   "mimetype": "text/x-python",
   "name": "python",
   "nbconvert_exporter": "python",
   "pygments_lexer": "ipython3",
   "version": "3.7.6"
  }
 },
 "nbformat": 4,
 "nbformat_minor": 4
}
