{
 "cells": [
  {
   "cell_type": "markdown",
   "metadata": {},
   "source": [
    "## Imports"
   ]
  },
  {
   "cell_type": "code",
   "execution_count": 4,
   "metadata": {},
   "outputs": [],
   "source": [
    "import pandas as pd\n",
    "import matplotlib.pyplot as plt\n",
    "import numpy as np\n",
    "\n",
    "from sklearn.metrics import classification_report\n",
    "from sklearn.metrics import confusion_matrix, roc_curve, auc, roc_auc_score, f1_score\n",
    "\n",
    "import tensorflow as tf\n",
    "from tensorflow import keras\n",
    "from tensorflow.keras.models import Sequential, load_model\n",
    "from tensorflow.keras.layers import Dense, Dropout, BatchNormalization, LSTM\n",
    "from tensorflow.keras.callbacks import Callback, ModelCheckpoint\n",
    "from tensorflow.keras import backend as K\n",
    "from tensorflow.keras.regularizers import l1, l2"
   ]
  },
  {
   "cell_type": "markdown",
   "metadata": {},
   "source": [
    "## File Setup"
   ]
  },
  {
   "cell_type": "markdown",
   "metadata": {},
   "source": [
    "The data has been scaled using `StandardScaler` from `sklearn.preprocessing`\n",
    "```\n",
    "├── Features\n",
    "│   ├── Lead_Times\n",
    "│   │   └── 100ms\n",
    "│   │       ├── XYZ\n",
    "│   │       │   ├── X_[subject_name]_XYZ_100ms_50lb.npy\n",
    "│   │       │   ├── ...\n",
    "│   │       ├── XYZ_mag\n",
    "│   │       │   ├── X_[subject_name]_XYZ_mag_100ms_50lb.npy\n",
    "│   │       │   ├── ...\n",
    "│   │       └── mag\n",
    "│   │           ├── X_[subject_name]_mag_100ms_50lb.npy\n",
    "│   │           ├── ...\n",
    "│   │   └── 200ms\n",
    "│   │       ├── ...\n",
    "│   │   └── 300ms\n",
    "│   │       ├── ...\n",
    "├── FallCatcher\n",
    "│   ├── Models\n",
    "│   │   ├── training_framework.ipynb\n",
    "│   │   └── ...\n",
    "│   │   \n",
    "│   │ \n",
    "│   │    \n",
    "│   │    \n",
    "│   │  \n",
    "│   │  \n",
    "│   │     \n",
    "│   │      \n",
    "│   │          \n",
    "│   │  \n",
    "│   │   \n",
    "│   │  \n",
    "│   │ \n",
    "```"
   ]
  },
  {
   "cell_type": "markdown",
   "metadata": {},
   "source": [
    "## Load Data"
   ]
  },
  {
   "cell_type": "code",
   "execution_count": 6,
   "metadata": {},
   "outputs": [
    {
     "name": "stdout",
     "output_type": "stream",
     "text": [
      "Loading Subject: S1\n",
      "Loading Subject: S2\n",
      "Loading Subject: S3\n",
      "Loading Subject: C1\n",
      "Loading Subject: C2\n",
      "Loading Subject: C3\n",
      "Subjects Loaded\n"
     ]
    }
   ],
   "source": [
    "lead_time = \"100\" # lead_time in ms\n",
    "look_back = \"50\" # look_back in rows\n",
    "feat_type = \"mag\" # Pick feature type either \"XYZ\", \"XYZ_mag\", \"mag\"\n",
    "\n",
    "data_path = \"../../Features/Lead_Times/\" + lead_time + \"ms/\" + feat_type + \"/\" \n",
    "meta = \"_\" + str(feat_type) + \"_\" + str(lead_time) + \"ms_\" + str(look_back) + \"lb\"\n",
    "\n",
    "subject_names = [\"S1\", \"S2\", \"S3\", \"C1\", \"C2\", \"C3\"]\n",
    "\n",
    "X_train, Y_train, X_test, Y_test = [], [], [], []\n",
    "\n",
    "# Train on S1 - C2, Test on C3\n",
    "for i in range(5):\n",
    "    print(\"Loading Subject:\", subject_names[i])\n",
    "    temp_x = np.load(data_path + \"X_\" + subject_names[i] + meta + \".npy\").astype(np.float32)\n",
    "    temp_y = np.load(data_path + \"Y_\" + subject_names[i] + meta + \".npy\").astype(np.float32)\n",
    "    X_train.append(temp_x)\n",
    "    Y_train.append(temp_y)\n",
    "    \n",
    "X_train = np.vstack(X_train)\n",
    "Y_train = np.vstack(Y_train)\n",
    "\n",
    "print(\"Loading Subject: C3\")\n",
    "X_test = np.load(data_path + \"X_\" + \"C3\" + meta + \".npy\").astype(np.float32)\n",
    "Y_test = np.load(data_path + \"Y_\" + \"C3\" + meta + \".npy\").astype(np.float32)\n",
    "print(\"Subjects Loaded\")"
   ]
  },
  {
   "cell_type": "markdown",
   "metadata": {},
   "source": [
    "## Train and Test Model"
   ]
  },
  {
   "cell_type": "code",
   "execution_count": null,
   "metadata": {},
   "outputs": [],
   "source": [
    "# Do stuff"
   ]
  }
 ],
 "metadata": {
  "kernelspec": {
   "display_name": "Python 3",
   "language": "python",
   "name": "python3"
  },
  "language_info": {
   "codemirror_mode": {
    "name": "ipython",
    "version": 3
   },
   "file_extension": ".py",
   "mimetype": "text/x-python",
   "name": "python",
   "nbconvert_exporter": "python",
   "pygments_lexer": "ipython3",
   "version": "3.7.6"
  }
 },
 "nbformat": 4,
 "nbformat_minor": 4
}
