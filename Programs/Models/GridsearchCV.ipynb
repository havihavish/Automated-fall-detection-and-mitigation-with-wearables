{
 "cells": [
  {
   "cell_type": "code",
   "execution_count": 1,
   "metadata": {},
   "outputs": [],
   "source": [
    "from sklearn.linear_model import LogisticRegression\n",
    "import pandas as pd\n",
    "import matplotlib.pyplot as plt\n",
    "import numpy as np\n",
    "from pandas import ExcelWriter\n",
    "from pandas import ExcelFile\n",
    "from sklearn.utils import shuffle\n",
    "from sklearn.model_selection import GridSearchCV\n",
    "from sklearn.ensemble import RandomForestClassifier\n",
    "from sklearn import svm\n",
    "from sklearn.neighbors import KNeighborsClassifier\n",
    "from sklearn.linear_model import Lasso\n",
    "from sklearn import linear_model\n",
    "from sklearn.linear_model import LogisticRegression"
   ]
  },
  {
   "cell_type": "code",
   "execution_count": 2,
   "metadata": {},
   "outputs": [],
   "source": [
    "def read_feature_data(file_name):\n",
    "    file_path = 'Feature/'+file_name\n",
    "    data = pd.read_excel(file_path, sheet_name=0)\n",
    "    data.to_csv(file_name + '.csv', encoding='utf-8')\n",
    "    return data"
   ]
  },
  {
   "cell_type": "code",
   "execution_count": 3,
   "metadata": {},
   "outputs": [],
   "source": [
    "s1_feature = read_feature_data('S1_feature.xlsx')\n",
    "s2_feature = read_feature_data('S2_feature.xlsx')\n",
    "c1_feature = read_feature_data('C1_feature.xlsx')\n",
    "c2_feature = read_feature_data('C2_feature.xlsx')\n",
    "c3_feature = read_feature_data('C3_feature.xlsx')"
   ]
  },
  {
   "cell_type": "code",
   "execution_count": 4,
   "metadata": {
    "cell_style": "center"
   },
   "outputs": [],
   "source": [
    "feature = s1_feature.append([s1_feature,c1_feature,c2_feature,c3_feature])"
   ]
  },
  {
   "cell_type": "code",
   "execution_count": 5,
   "metadata": {},
   "outputs": [],
   "source": [
    "feature = shuffle(feature)\n",
    "c3_feature = shuffle(c3_feature)"
   ]
  },
  {
   "cell_type": "code",
   "execution_count": 7,
   "metadata": {},
   "outputs": [],
   "source": [
    "x_train = feature[['min_acc','max_acc']]\n",
    "y_train = feature[['fall_value']]\n",
    "x_test = c3_feature[['min_acc','max_acc']]\n",
    "y_test = c3_feature[['fall_value']]"
   ]
  },
  {
   "cell_type": "code",
   "execution_count": 8,
   "metadata": {
    "cell_style": "split"
   },
   "outputs": [
    {
     "data": {
      "text/plain": [
       "[100000.0, 10000.0, 1000.0, 100.0, 10.0, 1.0, 0.1, 0.01, 0.001, 0.0001, 1e-05]"
      ]
     },
     "execution_count": 8,
     "metadata": {},
     "output_type": "execute_result"
    }
   ],
   "source": [
    "param_range = [10.0**-x for x in range(-5,6)]\n",
    "param_range"
   ]
  },
  {
   "cell_type": "code",
   "execution_count": 9,
   "metadata": {
    "cell_style": "split"
   },
   "outputs": [
    {
     "data": {
      "text/plain": [
       "[1, 3, 5, 7, 9]"
      ]
     },
     "execution_count": 9,
     "metadata": {},
     "output_type": "execute_result"
    }
   ],
   "source": [
    "param_odds = list(range(1, 10, 2))\n",
    "param_odds"
   ]
  },
  {
   "cell_type": "code",
   "execution_count": 10,
   "metadata": {},
   "outputs": [
    {
     "data": {
      "text/plain": [
       "[10, 20, 30, 40, 50, 60, 70, 80, 90, 100, 110, 120, 130, 140]"
      ]
     },
     "execution_count": 10,
     "metadata": {},
     "output_type": "execute_result"
    }
   ],
   "source": [
    "n_estimators = list(range(10,150,10))\n",
    "n_estimators"
   ]
  },
  {
   "cell_type": "code",
   "execution_count": 11,
   "metadata": {},
   "outputs": [
    {
     "name": "stdout",
     "output_type": "stream",
     "text": [
      "LogisticRegression = 97.0 % with {'C': 100000.0}\n",
      "SVC = 98.0 % with {'C': 100.0, 'gamma': 1e-05}\n",
      "KNeighborsClassifier = 98.0 % with {'n_neighbors': 7}\n",
      "RandomForestClassifier = 98.0 % with {'n_estimators': 20}\n"
     ]
    }
   ],
   "source": [
    "grid = [ \n",
    "         GridSearchCV(LogisticRegression(solver='lbfgs',penalty='l2'),{'C':param_range},cv=5).fit(x_train,y_train.values.ravel()),\n",
    "         GridSearchCV(svm.SVC(kernel=\"rbf\"), {'C':param_range,'gamma':param_range},cv=5).fit(x_train, y_train.values.ravel()),\n",
    "         GridSearchCV(KNeighborsClassifier(), {'n_neighbors':param_odds},cv=5).fit(x_train,y_train.values.ravel()),\n",
    "         GridSearchCV(RandomForestClassifier(), {'n_estimators':n_estimators},cv=5).fit(x_train,y_train.values.ravel())]\n",
    "\n",
    "for model in enumerate(grid):\n",
    "    print(\"{} = {} % with {}\".format(str(model[1].best_estimator_).split('(')[0],\n",
    "                                     round(model[1].best_score_,2)*100,\n",
    "                                     model[1].best_params_))\n"
   ]
  },
  {
   "cell_type": "code",
   "execution_count": 137,
   "metadata": {},
   "outputs": [
    {
     "data": {
      "text/plain": [
       "LogisticRegression(C=0.001, class_weight=None, dual=False, fit_intercept=True,\n",
       "          intercept_scaling=1, max_iter=100, multi_class='warn',\n",
       "          n_jobs=None, penalty='l2', random_state=None, solver='lbfgs',\n",
       "          tol=0.0001, verbose=0, warm_start=False)"
      ]
     },
     "execution_count": 137,
     "metadata": {},
     "output_type": "execute_result"
    }
   ],
   "source": [
    "lasso = LogisticRegression(C=0.001, solver='lbfgs',penalty= 'l2') \n",
    "lasso.fit(x_train,y_train.values.ravel())"
   ]
  },
  {
   "cell_type": "code",
   "execution_count": 138,
   "metadata": {},
   "outputs": [
    {
     "name": "stdout",
     "output_type": "stream",
     "text": [
      "training score for alpha=0.0001: 0.9722222222222222\n",
      "test score for alpha =0.0001:  0.9477124183006536\n"
     ]
    }
   ],
   "source": [
    "train_score_lasso=lasso.score(x_train,y_train)\n",
    "test_score_lasso=lasso.score(x_test,y_test)\n",
    "\n",
    "print (\"training score for alpha=0.0001:\", train_score_lasso )\n",
    "print (\"test score for alpha =0.0001: \", test_score_lasso)"
   ]
  },
  {
   "cell_type": "code",
   "execution_count": 114,
   "metadata": {},
   "outputs": [
    {
     "data": {
      "text/plain": [
       "SVC(C=10, cache_size=200, class_weight=None, coef0=0.0,\n",
       "  decision_function_shape='ovr', degree=3, gamma='scale', kernel='rbf',\n",
       "  max_iter=-1, probability=False, random_state=None, shrinking=True,\n",
       "  tol=0.001, verbose=False)"
      ]
     },
     "execution_count": 114,
     "metadata": {},
     "output_type": "execute_result"
    }
   ],
   "source": [
    "svmc = svm.SVC(C=10,kernel=\"rbf\",gamma = 'scale')\n",
    "svmc.fit(x_train,y_train.values.ravel())"
   ]
  },
  {
   "cell_type": "code",
   "execution_count": 115,
   "metadata": {},
   "outputs": [
    {
     "name": "stdout",
     "output_type": "stream",
     "text": [
      "training score for alpha=0.0001: 0.9993686868686869\n",
      "test score for alpha =0.0001:  0.9956427015250545\n"
     ]
    }
   ],
   "source": [
    "train_score_lasso=svmc.score(x_train,y_train)\n",
    "test_score_lasso=svmc.score(x_test,y_test)\n",
    "\n",
    "print (\"training score for alpha=0.0001:\", train_score_lasso )\n",
    "print (\"test score for alpha =0.0001: \", test_score_lasso)"
   ]
  },
  {
   "cell_type": "code",
   "execution_count": 108,
   "metadata": {},
   "outputs": [
    {
     "data": {
      "text/plain": [
       "KNeighborsClassifier(algorithm='auto', leaf_size=30, metric='minkowski',\n",
       "           metric_params=None, n_jobs=None, n_neighbors=1, p=2,\n",
       "           weights='uniform')"
      ]
     },
     "execution_count": 108,
     "metadata": {},
     "output_type": "execute_result"
    }
   ],
   "source": [
    "knn = KNeighborsClassifier(n_neighbors=1)\n",
    "knn.fit(x_train,y_train.values.ravel())"
   ]
  },
  {
   "cell_type": "code",
   "execution_count": 109,
   "metadata": {},
   "outputs": [
    {
     "name": "stdout",
     "output_type": "stream",
     "text": [
      "training score for alpha=0.0001: 1.0\n",
      "test score for alpha =0.0001:  1.0\n"
     ]
    }
   ],
   "source": [
    "train_score_knn=knn.score(x_train,y_train)\n",
    "test_score_knn=knn.score(x_test,y_test)\n",
    "\n",
    "print (\"training score for alpha=0.0001:\", train_score_knn )\n",
    "print (\"test score for alpha =0.0001: \", test_score_knn)"
   ]
  },
  {
   "cell_type": "code",
   "execution_count": 154,
   "metadata": {},
   "outputs": [
    {
     "data": {
      "text/plain": [
       "RandomForestClassifier(bootstrap=True, class_weight=None, criterion='gini',\n",
       "            max_depth=2, max_features='auto', max_leaf_nodes=None,\n",
       "            min_impurity_decrease=0.0, min_impurity_split=None,\n",
       "            min_samples_leaf=1, min_samples_split=2,\n",
       "            min_weight_fraction_leaf=0.0, n_estimators=10, n_jobs=None,\n",
       "            oob_score=False, random_state=0, verbose=0, warm_start=False)"
      ]
     },
     "execution_count": 154,
     "metadata": {},
     "output_type": "execute_result"
    }
   ],
   "source": [
    "\n",
    "clf = RandomForestClassifier(n_estimators=10, max_depth=2,random_state=0)\n",
    "clf.fit(x_train,y_train.values.ravel())"
   ]
  },
  {
   "cell_type": "code",
   "execution_count": 155,
   "metadata": {},
   "outputs": [
    {
     "name": "stdout",
     "output_type": "stream",
     "text": [
      "training score for alpha=0.0001: 0.9830195644149132\n",
      "test score for alpha =0.0001:  0.9651416122004357\n"
     ]
    }
   ],
   "source": [
    "train_score_lasso=clf.score(x_train,y_train)\n",
    "test_score_lasso=clf.score(x_test,y_test)\n",
    "\n",
    "print (\"training score for alpha=0.0001:\", train_score_lasso )\n",
    "print (\"test score for alpha =0.0001: \", test_score_lasso)"
   ]
  },
  {
   "cell_type": "code",
   "execution_count": null,
   "metadata": {},
   "outputs": [],
   "source": []
  }
 ],
 "metadata": {
  "kernelspec": {
   "display_name": "Python 3",
   "language": "python",
   "name": "python3"
  },
  "language_info": {
   "codemirror_mode": {
    "name": "ipython",
    "version": 3
   },
   "file_extension": ".py",
   "mimetype": "text/x-python",
   "name": "python",
   "nbconvert_exporter": "python",
   "pygments_lexer": "ipython3",
   "version": "3.7.6"
  },
  "toc": {
   "base_numbering": 1,
   "nav_menu": {},
   "number_sections": true,
   "sideBar": true,
   "skip_h1_title": false,
   "title_cell": "Table of Contents",
   "title_sidebar": "Contents",
   "toc_cell": false,
   "toc_position": {},
   "toc_section_display": true,
   "toc_window_display": false
  },
  "widgets": {
   "state": {},
   "version": "1.1.2"
  }
 },
 "nbformat": 4,
 "nbformat_minor": 2
}
