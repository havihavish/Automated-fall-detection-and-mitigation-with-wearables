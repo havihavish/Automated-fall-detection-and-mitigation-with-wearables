{
 "cells": [
  {
   "cell_type": "markdown",
   "metadata": {
    "colab_type": "text",
    "id": "4izO2n_XtmAW"
   },
   "source": [
    "# Packages "
   ]
  },
  {
   "cell_type": "code",
   "execution_count": 1,
   "metadata": {
    "colab": {},
    "colab_type": "code",
    "id": "t2wimTMRtmAY"
   },
   "outputs": [],
   "source": [
    "import pandas as pd\n",
    "import matplotlib.pyplot as plt\n",
    "import numpy as np\n",
    "\n",
    "from pandas import ExcelWriter\n",
    "from pandas import ExcelFile\n",
    "from sklearn.utils import shuffle\n",
    "\n",
    "from sklearn.model_selection import GridSearchCV\n",
    "from sklearn.ensemble import RandomForestClassifier\n",
    "from sklearn import svm\n",
    "from sklearn.neighbors import KNeighborsClassifier\n",
    "from sklearn.linear_model import LogisticRegression\n",
    "from sklearn.model_selection import LeaveOneGroupOut\n",
    "from sklearn.metrics import plot_confusion_matrix, confusion_matrix, roc_curve, auc, roc_auc_score, f1_score\n",
    "from sklearn.preprocessing import MinMaxScaler, StandardScaler\n",
    "from sklearn.model_selection import train_test_split\n",
    "from sklearn.metrics import classification_report\n",
    "\n",
    "from numpy.random import seed\n",
    "seed(1)\n",
    "\n",
    "import tensorflow as tf\n",
    "from tensorflow import keras\n",
    "from tensorflow.keras.models import Sequential, load_model\n",
    "from tensorflow.keras.layers import Dense, Dropout, BatchNormalization, LSTM\n",
    "from tensorflow.keras.callbacks import Callback, ModelCheckpoint\n",
    "from tensorflow.keras import backend as K\n",
    "\n",
    "# from kerastuner.tuners import RandomSearch"
   ]
  },
  {
   "cell_type": "markdown",
   "metadata": {},
   "source": [
    "## Model"
   ]
  },
  {
   "cell_type": "code",
   "execution_count": 2,
   "metadata": {},
   "outputs": [],
   "source": [
    "def eval_lstm_simple(X_train, Y_train, X_test, Y_test, time_steps, n_features, params):\n",
    "  # Build the Model\n",
    "  model = Sequential()\n",
    "  model.add(LSTM(params['HL_1'], activation=tf.nn.relu, input_shape=(time_steps, n_features)))\n",
    "  model.add(Dropout(params['drop1']))\n",
    "  model.add(BatchNormalization())\n",
    "#   model.add(Dense(10, activation = tf.nn.relu))\n",
    "  model.add(Dense(1, activation = tf.nn.sigmoid))\n",
    "    \n",
    "#   opt = keras.optimizers.Adam(learning_rate=0.001)\n",
    "  callback = tf.keras.callbacks.EarlyStopping(monitor='loss', patience = params['patience'], verbose=1)\n",
    "  model.compile(loss = tf.keras.losses.BinaryCrossentropy(), optimizer = 'nadam', metrics=['accuracy'])\n",
    "\n",
    "  # X_train, X_test, Y_train, Y_test = train_test_split(X, Y, test_size = 0.1)\n",
    "  \n",
    "  # Implement class weights\n",
    "  cw = {\n",
    "      0: params['w0'],\n",
    "      1: params['w1']\n",
    "  }\n",
    "  model.summary()\n",
    "  # Train the model\n",
    "  history = model.fit(X_train, Y_train, epochs = params['epochs'], batch_size = params['batch'], class_weight=cw, callbacks=[callback])\n",
    "\n",
    "#   # Predict on data\n",
    "#   Y_pred = model.predict(X_test)\n",
    "#   Y_pred = np.round(Y_pred, 0)\n",
    "#   np.where(Y_pred == 1)\n",
    "#   cm = confusion_matrix(Y_test, Y_pred)\n",
    "#   print(\"CONFUSION MATRIX\")\n",
    "#   print(cm)\n",
    "#   print(\"CLASSIFICATION REPORT\")\n",
    "#   print(classification_report(Y_test, Y_pred, target_names=[\"non_fall\", \"fall\"]))\n",
    "    \n",
    "  return history, model"
   ]
  },
  {
   "cell_type": "markdown",
   "metadata": {
    "colab_type": "text",
    "id": "fGhYLjlwtmBJ"
   },
   "source": [
    "## ROC for subject wise CV"
   ]
  },
  {
   "cell_type": "code",
   "execution_count": 3,
   "metadata": {
    "colab": {},
    "colab_type": "code",
    "id": "OlbrXFbgtmBL"
   },
   "outputs": [],
   "source": [
    "def roc_outer_cross_val(X, Y, params,lb,feature_count):\n",
    "    \n",
    "    tprs = []\n",
    "    aucs = []\n",
    "    mean_fpr = np.linspace(0, 1, 100)\n",
    "    fold = 0\n",
    "    groups = [1,2,3,4,5,6]\n",
    "    split_model = LeaveOneGroupOut()\n",
    "    for train_index, test_index in split_model.split(X, Y, groups):\n",
    "        \n",
    "        X_train = []\n",
    "        Y_train = []\n",
    "\n",
    "        for i in train_index:\n",
    "            X_train.append(X[i])\n",
    "            Y_train.append(Y[i])\n",
    "            print(\"appending index: \",i,\"length of X_train after appending : \",len(X_train))\n",
    "        \n",
    "        X_train = np.vstack(X_train)\n",
    "        Y_train = np.vstack(Y_train)\n",
    "        print(\"test_index is\",test_index[0])\n",
    "        X_test = X[test_index[0]]\n",
    "        Y_test = Y[test_index[0]]\n",
    "        \n",
    "        print(\"Final X_train: \",X_train.shape)\n",
    "        print(\"Final Y_train: \",Y_train.shape)\n",
    "        \n",
    "        history, model = eval_lstm_simple(X_train, Y_train, X_test, Y_test, lb, feature_count, params)        \n",
    "        probas = model.predict(X_test)\n",
    "        \n",
    "        fpr, tpr, thresholds = roc_curve(Y_test, probas)\n",
    "        tprs.append(np.interp(mean_fpr, fpr, tpr))\n",
    "        tprs[-1][0] = 0.0\n",
    "        roc_auc = auc(fpr, tpr)\n",
    "        aucs.append(roc_auc)\n",
    "        \n",
    "        fold += 1\n",
    "    \n",
    "    return tprs,mean_fpr,aucs"
   ]
  },
  {
   "cell_type": "markdown",
   "metadata": {
    "colab_type": "text",
    "id": "Wnbw0HLutmCJ"
   },
   "source": [
    "## ROC graph on moving window"
   ]
  },
  {
   "cell_type": "code",
   "execution_count": 5,
   "metadata": {},
   "outputs": [],
   "source": [
    "features = {\n",
    "    'mag' : ['accel_base_mag','fall_value'],\n",
    "    'XYZ' : ['accel_base_X','accel_base_Y','accel_base_Z','fall_value'],\n",
    "    'XYZ_mag' : ['accel_base_X','accel_base_Y','accel_base_Z','accel_base_mag','fall_value']\n",
    "}"
   ]
  },
  {
   "cell_type": "code",
   "execution_count": 6,
   "metadata": {},
   "outputs": [],
   "source": [
    "\n",
    "lb = 50\n",
    "rem_range = 500\n",
    "skip_val = 25\n",
    "feat_type = \"mag\"\n",
    "fall_buffer = 75\n",
    "feature_count = len(features[feat_type])-1\n",
    "\n",
    "# subjects = [S1, S2, S3, C1, C2, C3]\n",
    "subject_names = [\"S1\", \"S2\", \"S3\", \"C1\", \"C2\", \"C3\"]"
   ]
  },
  {
   "cell_type": "code",
   "execution_count": 7,
   "metadata": {},
   "outputs": [],
   "source": [
    "params = { # With Feature Scaling\n",
    "    'drop1' : 0.2,\n",
    "    'drop2': 0.2,\n",
    "    'w1' : 750.,\n",
    "    'w0' : 1.,\n",
    "    'batch' : 7500,\n",
    "    'epochs' : 2,\n",
    "    'patience' : 5,\n",
    "    'HL_1' : 15,\n",
    "    'HL_2' : 5,\n",
    "    'lr': 0.001,\n",
    "}\n"
   ]
  },
  {
   "cell_type": "markdown",
   "metadata": {},
   "source": [
    "## Collecting all TPR and FPR information"
   ]
  },
  {
   "cell_type": "code",
   "execution_count": 8,
   "metadata": {
    "colab": {},
    "colab_type": "code",
    "id": "-UtyKY0EtmCJ",
    "outputId": "35f57d63-485d-4685-b082-93b5e6ac8662"
   },
   "outputs": [
    {
     "name": "stdout",
     "output_type": "stream",
     "text": [
      "predicting on features for lead time:100 ms\n",
      "appending index:  1 length of X_train after appending :  1\n",
      "appending index:  2 length of X_train after appending :  2\n",
      "appending index:  3 length of X_train after appending :  3\n",
      "appending index:  4 length of X_train after appending :  4\n",
      "appending index:  5 length of X_train after appending :  5\n",
      "test_index is 0\n",
      "Final X_train:  (225844, 50, 1)\n",
      "Final Y_train:  (225844, 1)\n",
      "Model: \"sequential\"\n",
      "_________________________________________________________________\n",
      "Layer (type)                 Output Shape              Param #   \n",
      "=================================================================\n",
      "lstm (LSTM)                  (None, 15)                1020      \n",
      "_________________________________________________________________\n",
      "dropout (Dropout)            (None, 15)                0         \n",
      "_________________________________________________________________\n",
      "batch_normalization (BatchNo (None, 15)                60        \n",
      "_________________________________________________________________\n",
      "dense (Dense)                (None, 1)                 16        \n",
      "=================================================================\n",
      "Total params: 1,096\n",
      "Trainable params: 1,066\n",
      "Non-trainable params: 30\n",
      "_________________________________________________________________\n",
      "Epoch 1/2\n",
      "31/31 [==============================] - 15s 478ms/step - loss: 2.0840 - accuracy: 0.4754\n",
      "Epoch 2/2\n",
      "31/31 [==============================] - 14s 467ms/step - loss: 1.3637 - accuracy: 0.7383\n",
      "appending index:  0 length of X_train after appending :  1\n",
      "appending index:  2 length of X_train after appending :  2\n",
      "appending index:  3 length of X_train after appending :  3\n",
      "appending index:  4 length of X_train after appending :  4\n",
      "appending index:  5 length of X_train after appending :  5\n",
      "test_index is 1\n",
      "Final X_train:  (182220, 50, 1)\n",
      "Final Y_train:  (182220, 1)\n",
      "Model: \"sequential_1\"\n",
      "_________________________________________________________________\n",
      "Layer (type)                 Output Shape              Param #   \n",
      "=================================================================\n",
      "lstm_1 (LSTM)                (None, 15)                1020      \n",
      "_________________________________________________________________\n",
      "dropout_1 (Dropout)          (None, 15)                0         \n",
      "_________________________________________________________________\n",
      "batch_normalization_1 (Batch (None, 15)                60        \n",
      "_________________________________________________________________\n",
      "dense_1 (Dense)              (None, 1)                 16        \n",
      "=================================================================\n",
      "Total params: 1,096\n",
      "Trainable params: 1,066\n",
      "Non-trainable params: 30\n",
      "_________________________________________________________________\n",
      "Epoch 1/2\n",
      "25/25 [==============================] - 11s 439ms/step - loss: 2.4131 - accuracy: 0.3221\n",
      "Epoch 2/2\n",
      "25/25 [==============================] - 11s 438ms/step - loss: 1.3032 - accuracy: 0.6064\n",
      "appending index:  0 length of X_train after appending :  1\n",
      "appending index:  1 length of X_train after appending :  2\n",
      "appending index:  3 length of X_train after appending :  3\n",
      "appending index:  4 length of X_train after appending :  4\n",
      "appending index:  5 length of X_train after appending :  5\n",
      "test_index is 2\n",
      "Final X_train:  (198546, 50, 1)\n",
      "Final Y_train:  (198546, 1)\n",
      "Model: \"sequential_2\"\n",
      "_________________________________________________________________\n",
      "Layer (type)                 Output Shape              Param #   \n",
      "=================================================================\n",
      "lstm_2 (LSTM)                (None, 15)                1020      \n",
      "_________________________________________________________________\n",
      "dropout_2 (Dropout)          (None, 15)                0         \n",
      "_________________________________________________________________\n",
      "batch_normalization_2 (Batch (None, 15)                60        \n",
      "_________________________________________________________________\n",
      "dense_2 (Dense)              (None, 1)                 16        \n",
      "=================================================================\n",
      "Total params: 1,096\n",
      "Trainable params: 1,066\n",
      "Non-trainable params: 30\n",
      "_________________________________________________________________\n",
      "Epoch 1/2\n",
      "27/27 [==============================] - 13s 463ms/step - loss: 1.2545 - accuracy: 0.6830\n",
      "Epoch 2/2\n",
      "27/27 [==============================] - 13s 496ms/step - loss: 0.9021 - accuracy: 0.8026\n",
      "appending index:  0 length of X_train after appending :  1\n",
      "appending index:  1 length of X_train after appending :  2\n",
      "appending index:  2 length of X_train after appending :  3\n",
      "appending index:  4 length of X_train after appending :  4\n",
      "appending index:  5 length of X_train after appending :  5\n",
      "test_index is 3\n",
      "Final X_train:  (184895, 50, 1)\n",
      "Final Y_train:  (184895, 1)\n",
      "Model: \"sequential_3\"\n",
      "_________________________________________________________________\n",
      "Layer (type)                 Output Shape              Param #   \n",
      "=================================================================\n",
      "lstm_3 (LSTM)                (None, 15)                1020      \n",
      "_________________________________________________________________\n",
      "dropout_3 (Dropout)          (None, 15)                0         \n",
      "_________________________________________________________________\n",
      "batch_normalization_3 (Batch (None, 15)                60        \n",
      "_________________________________________________________________\n",
      "dense_3 (Dense)              (None, 1)                 16        \n",
      "=================================================================\n",
      "Total params: 1,096\n",
      "Trainable params: 1,066\n",
      "Non-trainable params: 30\n",
      "_________________________________________________________________\n",
      "Epoch 1/2\n",
      "25/25 [==============================] - 11s 443ms/step - loss: 3.5875 - accuracy: 0.4199\n",
      "Epoch 2/2\n",
      "25/25 [==============================] - 12s 476ms/step - loss: 1.6260 - accuracy: 0.6024\n",
      "appending index:  0 length of X_train after appending :  1\n",
      "appending index:  1 length of X_train after appending :  2\n",
      "appending index:  2 length of X_train after appending :  3\n",
      "appending index:  3 length of X_train after appending :  4\n",
      "appending index:  5 length of X_train after appending :  5\n",
      "test_index is 4\n",
      "Final X_train:  (203568, 50, 1)\n",
      "Final Y_train:  (203568, 1)\n",
      "Model: \"sequential_4\"\n",
      "_________________________________________________________________\n",
      "Layer (type)                 Output Shape              Param #   \n",
      "=================================================================\n",
      "lstm_4 (LSTM)                (None, 15)                1020      \n",
      "_________________________________________________________________\n",
      "dropout_4 (Dropout)          (None, 15)                0         \n",
      "_________________________________________________________________\n",
      "batch_normalization_4 (Batch (None, 15)                60        \n",
      "_________________________________________________________________\n",
      "dense_4 (Dense)              (None, 1)                 16        \n",
      "=================================================================\n",
      "Total params: 1,096\n",
      "Trainable params: 1,066\n",
      "Non-trainable params: 30\n",
      "_________________________________________________________________\n",
      "Epoch 1/2\n",
      "28/28 [==============================] - 12s 442ms/step - loss: 1.8312 - accuracy: 0.7252\n",
      "Epoch 2/2\n",
      "28/28 [==============================] - 11s 402ms/step - loss: 1.4525 - accuracy: 0.8282\n",
      "appending index:  0 length of X_train after appending :  1\n",
      "appending index:  1 length of X_train after appending :  2\n",
      "appending index:  2 length of X_train after appending :  3\n",
      "appending index:  3 length of X_train after appending :  4\n",
      "appending index:  4 length of X_train after appending :  5\n",
      "test_index is 5\n",
      "Final X_train:  (202767, 50, 1)\n",
      "Final Y_train:  (202767, 1)\n",
      "Model: \"sequential_5\"\n",
      "_________________________________________________________________\n",
      "Layer (type)                 Output Shape              Param #   \n",
      "=================================================================\n",
      "lstm_5 (LSTM)                (None, 15)                1020      \n",
      "_________________________________________________________________\n",
      "dropout_5 (Dropout)          (None, 15)                0         \n",
      "_________________________________________________________________\n",
      "batch_normalization_5 (Batch (None, 15)                60        \n",
      "_________________________________________________________________\n",
      "dense_5 (Dense)              (None, 1)                 16        \n",
      "=================================================================\n",
      "Total params: 1,096\n",
      "Trainable params: 1,066\n",
      "Non-trainable params: 30\n",
      "_________________________________________________________________\n",
      "Epoch 1/2\n"
     ]
    },
    {
     "name": "stdout",
     "output_type": "stream",
     "text": [
      "28/28 [==============================] - 11s 393ms/step - loss: 0.8370 - accuracy: 0.7853\n",
      "Epoch 2/2\n",
      "28/28 [==============================] - 12s 424ms/step - loss: 0.7327 - accuracy: 0.8451\n"
     ]
    }
   ],
   "source": [
    "lead_times = [10,100,200,300,400,2000]\n",
    "lead_times = [100]\n",
    "\n",
    "auc_values = []\n",
    "dict_tpr = dict()\n",
    "dict_fpr = dict()\n",
    "dict_auc = dict()\n",
    "\n",
    "for lead_time in lead_times:\n",
    "    X = []\n",
    "    Y = []\n",
    "    print(\"predicting on features for lead time:{} ms\".format(lead_time))\n",
    "    for sub in subject_names:\n",
    "        temp_path = \"../../../Features/Lead_Times/\"+str(lead_time)+\"ms/mag/\"\n",
    "        meta = \"_\" + str(feat_type) + \"_\" + str(lead_time) + \"ms_\" + str(lb) + \"lb\"\n",
    "        temp_sub_X = \"X_\" + sub + meta + \".npy\"\n",
    "        temp_sub_Y = \"Y_\" + sub + meta + \".npy\"\n",
    "        \n",
    "        temp_X = np.load(temp_path+ temp_sub_X).astype(np.float32)\n",
    "        temp_Y = np.load(temp_path+ temp_sub_Y).astype(np.float32)\n",
    "        \n",
    "        X.append(temp_X)\n",
    "        Y.append(temp_Y)\n",
    "    \n",
    "    tprs,mean_fpr,aucs = roc_outer_cross_val(X, Y, params,lb,feature_count)\n",
    "    mean_tpr = np.mean(tprs, axis=0)\n",
    "    mean_tpr[-1] = 1.0\n",
    "    mean_auc = auc(mean_fpr, mean_tpr)\n",
    "    auc_values.append(round(mean_auc,3))\n",
    "    std_auc = np.std(aucs)\n",
    "    dict_tpr[lead_time] = mean_tpr\n",
    "    dict_fpr[lead_time] = mean_fpr\n",
    "    dict_auc[lead_time] = aucs"
   ]
  },
  {
   "cell_type": "markdown",
   "metadata": {},
   "source": [
    "## Ploting ROC curve and Calculating sensitivity with fixed specificity (0.99)"
   ]
  },
  {
   "cell_type": "code",
   "execution_count": 35,
   "metadata": {
    "colab": {},
    "colab_type": "code",
    "id": "Yp3X3t6ctmCM",
    "outputId": "050c2ae2-5800-4c26-9a79-c9f70b3224c9"
   },
   "outputs": [],
   "source": []
  },
  {
   "cell_type": "code",
   "execution_count": 36,
   "metadata": {
    "colab": {},
    "colab_type": "code",
    "id": "Yp3X3t6ctmCM",
    "outputId": "050c2ae2-5800-4c26-9a79-c9f70b3224c9"
   },
   "outputs": [
    {
     "data": {
      "image/png": "[encoded data removed]",
      "text/plain": [
       "<Figure size 720x504 with 1 Axes>"
      ]
     },
     "metadata": {
      "needs_background": "light"
     },
     "output_type": "display_data"
    }
   ],
   "source": [
    "lead_times = [10,100,200,300,400,2000]\n",
    "lead_times = [100]\n",
    "auc_values = []\n",
    "\n",
    "specificity = 0.97\n",
    "tpr_tnr_table = pd.DataFrame(columns={'lead time(in ms)','sensitivity','specificity'})\n",
    "plt.figure(figsize=(10,7))\n",
    "\n",
    "for lead_time in lead_times:\n",
    "    mean_tpr = dict_tpr[lead_time]\n",
    "    mean_fpr = dict_fpr[lead_time]\n",
    "    sensitivity = np.interp(1-specificity,mean_fpr,mean_tpr)\n",
    "    tpr_tnr_table = tpr_tnr_table.append({'lead time(in ms)':lead_time,'sensitivity':round(sensitivity,3),'specificity':(specificity)},\n",
    "                       ignore_index = True)\n",
    "\n",
    "    aucs = dict_auc[lead_time] \n",
    "    mean_auc = auc(mean_fpr, mean_tpr)\n",
    "    auc_values.append(round(mean_auc,3))\n",
    "    std_auc = np.std(aucs)\n",
    "    plt.plot(mean_fpr, mean_tpr,\n",
    "             label=str(index)+' ms ROC (AUC = %0.2f )' % (mean_auc),\n",
    "             lw=2, alpha=.9)\n",
    "    \n",
    "plt.plot([0, 1], [0, 1], linestyle='--', lw=2, color='r',\n",
    "     label='Chance', alpha=.8) \n",
    "\n",
    "plt.xlim([-0.05, 1.05])\n",
    "plt.ylim([-0.05, 1.05])\n",
    "\n",
    "plt.tick_params(labelsize=11)\n",
    "plt.xlabel('False Positive Rate',fontsize = 14 )\n",
    "plt.ylabel('True Positive Rate', fontsize = 14 )\n",
    "plt.legend(loc=\"lower right\")\n",
    "img_name = 'ROC_curve'+' ms.png'\n",
    "plt.savefig(img_name,bbox_inches='tight')\n",
    "plt.show()"
   ]
  },
  {
   "cell_type": "markdown",
   "metadata": {
    "colab_type": "text",
    "id": "hlSsmgr6tmBQ"
   },
   "source": [
    "## Sensitivity with Specificity"
   ]
  },
  {
   "cell_type": "code",
   "execution_count": 37,
   "metadata": {},
   "outputs": [
    {
     "data": {
      "text/html": [
       "<div>\n",
       "<style scoped>\n",
       "    .dataframe tbody tr th:only-of-type {\n",
       "        vertical-align: middle;\n",
       "    }\n",
       "\n",
       "    .dataframe tbody tr th {\n",
       "        vertical-align: top;\n",
       "    }\n",
       "\n",
       "    .dataframe thead th {\n",
       "        text-align: right;\n",
       "    }\n",
       "</style>\n",
       "<table border=\"1\" class=\"dataframe\">\n",
       "  <thead>\n",
       "    <tr style=\"text-align: right;\">\n",
       "      <th></th>\n",
       "      <th>specificity</th>\n",
       "      <th>lead time(in ms)</th>\n",
       "      <th>sensitivity</th>\n",
       "    </tr>\n",
       "  </thead>\n",
       "  <tbody>\n",
       "    <tr>\n",
       "      <th>0</th>\n",
       "      <td>0.97</td>\n",
       "      <td>100.0</td>\n",
       "      <td>0.742</td>\n",
       "    </tr>\n",
       "  </tbody>\n",
       "</table>\n",
       "</div>"
      ],
      "text/plain": [
       "   specificity  lead time(in ms)  sensitivity\n",
       "0         0.97             100.0        0.742"
      ]
     },
     "execution_count": 37,
     "metadata": {},
     "output_type": "execute_result"
    }
   ],
   "source": [
    "tpr_tnr_table.head()"
   ]
  },
  {
   "cell_type": "code",
   "execution_count": 38,
   "metadata": {},
   "outputs": [
    {
     "data": {
      "text/html": [
       "<div>\n",
       "<style scoped>\n",
       "    .dataframe tbody tr th:only-of-type {\n",
       "        vertical-align: middle;\n",
       "    }\n",
       "\n",
       "    .dataframe tbody tr th {\n",
       "        vertical-align: top;\n",
       "    }\n",
       "\n",
       "    .dataframe thead th {\n",
       "        text-align: right;\n",
       "    }\n",
       "</style>\n",
       "<table border=\"1\" class=\"dataframe\">\n",
       "  <thead>\n",
       "    <tr style=\"text-align: right;\">\n",
       "      <th></th>\n",
       "      <th>specificity</th>\n",
       "      <th>lead time(in ms)</th>\n",
       "      <th>sensitivity</th>\n",
       "    </tr>\n",
       "  </thead>\n",
       "  <tbody>\n",
       "    <tr>\n",
       "      <th>0</th>\n",
       "      <td>0.97</td>\n",
       "      <td>100</td>\n",
       "      <td>74.2 %</td>\n",
       "    </tr>\n",
       "  </tbody>\n",
       "</table>\n",
       "</div>"
      ],
      "text/plain": [
       "   specificity  lead time(in ms) sensitivity\n",
       "0         0.97               100      74.2 %"
      ]
     },
     "execution_count": 38,
     "metadata": {},
     "output_type": "execute_result"
    }
   ],
   "source": [
    "# converting decimal to percentage \n",
    "tpr_tnr_table['sensitivity'] = tpr_tnr_table['sensitivity'].apply(lambda x : str(round(x*100,1))+\" %\") \n",
    "#converting float to int\n",
    "tpr_tnr_table['lead time(in ms)'] = tpr_tnr_table['lead time(in ms)'].apply(lambda x : int(x)) \n",
    "\n",
    "tpr_tnr_table.head()"
   ]
  },
  {
   "cell_type": "code",
   "execution_count": null,
   "metadata": {},
   "outputs": [],
   "source": []
  }
 ],
 "metadata": {
  "accelerator": "GPU",
  "colab": {
   "collapsed_sections": [
    "E4pOx9MhtmA7",
    "orYEPNhItmBA",
    "iMeFzCCPtmBF",
    "fGhYLjlwtmBJ",
    "341kNOAoQWoV",
    "GE7LBnAEtmBU",
    "c6plf75CtmBV",
    "H6YGAlxGtmBZ",
    "2SOJryBptmBf",
    "RT0fVJeNtmBj",
    "uksNNXettmBp",
    "IDYkKyDRtmBt",
    "_UKufdhHtmCC",
    "st8qho5KjFrf",
    "GoM6U7uhtmB3",
    "Wnbw0HLutmCJ"
   ],
   "name": "moving window.ipynb",
   "provenance": [],
   "toc_visible": true
  },
  "kernelspec": {
   "display_name": "Python 3",
   "language": "python",
   "name": "python3"
  },
  "language_info": {
   "codemirror_mode": {
    "name": "ipython",
    "version": 3
   },
   "file_extension": ".py",
   "mimetype": "text/x-python",
   "name": "python",
   "nbconvert_exporter": "python",
   "pygments_lexer": "ipython3",
   "version": "3.7.6"
  },
  "toc": {
   "base_numbering": 1,
   "nav_menu": {},
   "number_sections": true,
   "sideBar": true,
   "skip_h1_title": false,
   "title_cell": "Table of Contents",
   "title_sidebar": "Contents",
   "toc_cell": false,
   "toc_position": {
    "height": "calc(100% - 180px)",
    "left": "10px",
    "top": "150px",
    "width": "174.188px"
   },
   "toc_section_display": true,
   "toc_window_display": true
  }
 },
 "nbformat": 4,
 "nbformat_minor": 1
}
