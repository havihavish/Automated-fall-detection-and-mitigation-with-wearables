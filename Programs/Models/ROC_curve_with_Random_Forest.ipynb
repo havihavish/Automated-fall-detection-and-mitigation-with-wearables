{
 "cells": [
  {
   "cell_type": "markdown",
   "metadata": {},
   "source": [
    "# Packages "
   ]
  },
  {
   "cell_type": "code",
   "execution_count": 6,
   "metadata": {},
   "outputs": [],
   "source": [
    "import pandas as pd\n",
    "import matplotlib.pyplot as plt\n",
    "import numpy as np\n",
    "\n",
    "from pandas import ExcelWriter\n",
    "from pandas import ExcelFile\n",
    "from sklearn.utils import shuffle\n",
    "\n",
    "from sklearn.model_selection import GridSearchCV\n",
    "from sklearn.ensemble import RandomForestClassifier\n",
    "from sklearn import svm\n",
    "from sklearn.neighbors import KNeighborsClassifier\n",
    "from sklearn.linear_model import LogisticRegression\n",
    "from sklearn.model_selection import LeaveOneGroupOut\n",
    "from sklearn.metrics import confusion_matrix\n",
    "from sklearn.metrics import roc_curve, auc\n",
    "\n",
    "from sklearn.preprocessing import MinMaxScaler\n",
    "from sklearn.metrics import mean_squared_error"
   ]
  },
  {
   "cell_type": "markdown",
   "metadata": {},
   "source": [
    "## Inner CV"
   ]
  },
  {
   "cell_type": "code",
   "execution_count": 3,
   "metadata": {},
   "outputs": [],
   "source": [
    "def inner_nested_cross_val(X, Y, cv, split_model, model, params):\n",
    "    test_model = GridSearchCV(model, params, cv = cv ).fit(X, Y.values.ravel())\n",
    "    return test_model.best_estimator_"
   ]
  },
  {
   "cell_type": "markdown",
   "metadata": {},
   "source": [
    "## Roc_outer_cross_val"
   ]
  },
  {
   "cell_type": "code",
   "execution_count": 12,
   "metadata": {},
   "outputs": [],
   "source": [
    "def roc_outer_cross_val(X, Y, model, params):\n",
    "    \n",
    "    tprs = []\n",
    "    aucs = []\n",
    "    mean_fpr = np.linspace(0, 1, 300)\n",
    "    fold = 0\n",
    "    groups = [1,2,3,4,5,6]\n",
    "    # subject wise cross validation\n",
    "    split_model = LeaveOneGroupOut()\n",
    "    for train_index, test_index in split_model.split(X, Y, groups):\n",
    "        \n",
    "        X_train = X[train_index[0]]\n",
    "        X_test = X[test_index[0]]\n",
    "        Y_train = Y[train_index[0]]\n",
    "        Y_test = Y[test_index[0]]\n",
    "        \n",
    "        for i in train_index[1:]:\n",
    "            print( \"index =\",i)\n",
    "            X_train = pd.concat([X_train,X[i]])\n",
    "            Y_train = pd.concat([Y_train,Y[i]])\n",
    "\n",
    "        print(\"--------------------\")\n",
    "        print('X_train:',str(X_train.shape),'Y_train:',str(Y_train.shape),'X_test:',str(X_test.shape),'Y_test:',str(Y_test.shape))\n",
    "        \n",
    "        \n",
    "        cv = len(train_index)\n",
    "        best_inner_model = inner_nested_cross_val(X_train, Y_train, cv, LeaveOneGroupOut(), model, params)\n",
    "\n",
    "        best_inner_model.fit(X_train,Y_train.values.ravel())\n",
    "        probas_ = best_inner_model.predict_proba(X_test)\n",
    "        \n",
    "        fpr, tpr, thresholds = roc_curve(Y_test.values.ravel(), probas_[:, 1])\n",
    "        tprs.append(np.interp(mean_fpr, fpr, tpr))\n",
    "        tprs[-1][0] = 0.0\n",
    "        roc_auc = auc(fpr, tpr)\n",
    "        aucs.append(roc_auc)\n",
    "        \n",
    "        fold += 1\n",
    "    \n",
    "    return tprs,mean_fpr,aucs"
   ]
  },
  {
   "cell_type": "markdown",
   "metadata": {},
   "source": [
    "# Load features with moving window"
   ]
  },
  {
   "cell_type": "code",
   "execution_count": 9,
   "metadata": {},
   "outputs": [
    {
     "name": "stdout",
     "output_type": "stream",
     "text": [
      "reading features on moved window frame by:10 ms\n",
      "(3138, 1)\n",
      "(2840, 1)\n",
      "(3027, 1)\n",
      "(2710, 1)\n",
      "(1777, 1)\n",
      "(1815, 1)\n"
     ]
    }
   ],
   "source": [
    "X = []\n",
    "Y = []\n",
    "print(\"reading features on moved window frame by:{} ms\".format(10))\n",
    "min_max_right_path = \"../../../Features/min_max_right_feature/\"\n",
    "subjects = ['S1','S2','S3','C1','C2','C3']\n",
    "lead_time = 200\n",
    "for i in range(len(subjects)):\n",
    "    feature = pd.read_csv(min_max_right_path+subjects[i]+\"_\"+str(lead_time)+ \"ms.csv\")\n",
    "    X.append(feature[['min_acc','max_acc','right_most']])\n",
    "    print(feature[['fall_value']].shape)\n",
    "    Y.append(feature[['fall_value']])\n"
   ]
  },
  {
   "cell_type": "code",
   "execution_count": 13,
   "metadata": {},
   "outputs": [
    {
     "data": {
      "text/html": [
       "<div>\n",
       "<style scoped>\n",
       "    .dataframe tbody tr th:only-of-type {\n",
       "        vertical-align: middle;\n",
       "    }\n",
       "\n",
       "    .dataframe tbody tr th {\n",
       "        vertical-align: top;\n",
       "    }\n",
       "\n",
       "    .dataframe thead th {\n",
       "        text-align: right;\n",
       "    }\n",
       "</style>\n",
       "<table border=\"1\" class=\"dataframe\">\n",
       "  <thead>\n",
       "    <tr style=\"text-align: right;\">\n",
       "      <th></th>\n",
       "      <th>min_acc</th>\n",
       "      <th>max_acc</th>\n",
       "      <th>right_most</th>\n",
       "    </tr>\n",
       "  </thead>\n",
       "  <tbody>\n",
       "    <tr>\n",
       "      <th>0</th>\n",
       "      <td>862.481304</td>\n",
       "      <td>12665.353607</td>\n",
       "      <td>12665.353607</td>\n",
       "    </tr>\n",
       "    <tr>\n",
       "      <th>1</th>\n",
       "      <td>1108.108749</td>\n",
       "      <td>9574.734931</td>\n",
       "      <td>9574.734931</td>\n",
       "    </tr>\n",
       "    <tr>\n",
       "      <th>2</th>\n",
       "      <td>1365.536158</td>\n",
       "      <td>12653.205365</td>\n",
       "      <td>12653.205365</td>\n",
       "    </tr>\n",
       "    <tr>\n",
       "      <th>3</th>\n",
       "      <td>973.963552</td>\n",
       "      <td>13097.308006</td>\n",
       "      <td>13097.308006</td>\n",
       "    </tr>\n",
       "    <tr>\n",
       "      <th>4</th>\n",
       "      <td>349.598341</td>\n",
       "      <td>15686.813124</td>\n",
       "      <td>13457.327149</td>\n",
       "    </tr>\n",
       "  </tbody>\n",
       "</table>\n",
       "</div>"
      ],
      "text/plain": [
       "       min_acc       max_acc    right_most\n",
       "0   862.481304  12665.353607  12665.353607\n",
       "1  1108.108749   9574.734931   9574.734931\n",
       "2  1365.536158  12653.205365  12653.205365\n",
       "3   973.963552  13097.308006  13097.308006\n",
       "4   349.598341  15686.813124  13457.327149"
      ]
     },
     "execution_count": 13,
     "metadata": {},
     "output_type": "execute_result"
    }
   ],
   "source": [
    "X[0].head()"
   ]
  },
  {
   "cell_type": "code",
   "execution_count": 14,
   "metadata": {},
   "outputs": [],
   "source": [
    "model = RandomForestClassifier(random_state=2)\n",
    "n_estimators = list(range(50,120,10))\n",
    "params = {'n_estimators':n_estimators}\n"
   ]
  },
  {
   "cell_type": "markdown",
   "metadata": {},
   "source": [
    "## ROC graph on moving window"
   ]
  },
  {
   "cell_type": "code",
   "execution_count": 16,
   "metadata": {},
   "outputs": [
    {
     "name": "stdout",
     "output_type": "stream",
     "text": [
      "predicting on features by moved window frame by:10 ms\n",
      "--------------------\n",
      "X_train: (12203, 3) Y_train: (12203, 1) X_test: (3142, 3) Y_test: (3142, 1)\n",
      "--------------------\n",
      "X_train: (12496, 3) Y_train: (12496, 1) X_test: (2849, 3) Y_test: (2849, 1)\n",
      "--------------------\n",
      "X_train: (12312, 3) Y_train: (12312, 1) X_test: (3033, 3) Y_test: (3033, 1)\n",
      "--------------------\n",
      "X_train: (12629, 3) Y_train: (12629, 1) X_test: (2716, 3) Y_test: (2716, 1)\n",
      "--------------------\n",
      "X_train: (13560, 3) Y_train: (13560, 1) X_test: (1785, 3) Y_test: (1785, 1)\n",
      "--------------------\n",
      "X_train: (13525, 3) Y_train: (13525, 1) X_test: (1820, 3) Y_test: (1820, 1)\n",
      "predicting on features by moved window frame by:100 ms\n",
      "--------------------\n",
      "X_train: (12185, 3) Y_train: (12185, 1) X_test: (3140, 3) Y_test: (3140, 1)\n",
      "--------------------\n",
      "X_train: (12479, 3) Y_train: (12479, 1) X_test: (2846, 3) Y_test: (2846, 1)\n",
      "--------------------\n",
      "X_train: (12295, 3) Y_train: (12295, 1) X_test: (3030, 3) Y_test: (3030, 1)\n",
      "--------------------\n",
      "X_train: (12613, 3) Y_train: (12613, 1) X_test: (2712, 3) Y_test: (2712, 1)\n",
      "--------------------\n",
      "X_train: (13546, 3) Y_train: (13546, 1) X_test: (1779, 3) Y_test: (1779, 1)\n",
      "--------------------\n",
      "X_train: (13507, 3) Y_train: (13507, 1) X_test: (1818, 3) Y_test: (1818, 1)\n",
      "predicting on features by moved window frame by:200 ms\n",
      "--------------------\n",
      "X_train: (12169, 3) Y_train: (12169, 1) X_test: (3138, 3) Y_test: (3138, 1)\n",
      "--------------------\n",
      "X_train: (12467, 3) Y_train: (12467, 1) X_test: (2840, 3) Y_test: (2840, 1)\n",
      "--------------------\n",
      "X_train: (12280, 3) Y_train: (12280, 1) X_test: (3027, 3) Y_test: (3027, 1)\n",
      "--------------------\n",
      "X_train: (12597, 3) Y_train: (12597, 1) X_test: (2710, 3) Y_test: (2710, 1)\n",
      "--------------------\n",
      "X_train: (13530, 3) Y_train: (13530, 1) X_test: (1777, 3) Y_test: (1777, 1)\n",
      "--------------------\n",
      "X_train: (13492, 3) Y_train: (13492, 1) X_test: (1815, 3) Y_test: (1815, 1)\n",
      "predicting on features by moved window frame by:300 ms\n",
      "--------------------\n",
      "X_train: (12155, 3) Y_train: (12155, 1) X_test: (3135, 3) Y_test: (3135, 1)\n",
      "--------------------\n",
      "X_train: (12450, 3) Y_train: (12450, 1) X_test: (2840, 3) Y_test: (2840, 1)\n",
      "--------------------\n",
      "X_train: (12266, 3) Y_train: (12266, 1) X_test: (3024, 3) Y_test: (3024, 1)\n",
      "--------------------\n",
      "X_train: (12583, 3) Y_train: (12583, 1) X_test: (2707, 3) Y_test: (2707, 1)\n",
      "--------------------\n",
      "X_train: (13519, 3) Y_train: (13519, 1) X_test: (1771, 3) Y_test: (1771, 1)\n",
      "--------------------\n",
      "X_train: (13477, 3) Y_train: (13477, 1) X_test: (1813, 3) Y_test: (1813, 1)\n",
      "predicting on features by moved window frame by:400 ms\n",
      "--------------------\n",
      "X_train: (12147, 3) Y_train: (12147, 1) X_test: (3132, 3) Y_test: (3132, 1)\n",
      "--------------------\n",
      "X_train: (12439, 3) Y_train: (12439, 1) X_test: (2840, 3) Y_test: (2840, 1)\n",
      "--------------------\n",
      "X_train: (12259, 3) Y_train: (12259, 1) X_test: (3020, 3) Y_test: (3020, 1)\n",
      "--------------------\n",
      "X_train: (12574, 3) Y_train: (12574, 1) X_test: (2705, 3) Y_test: (2705, 1)\n",
      "--------------------\n",
      "X_train: (13509, 3) Y_train: (13509, 1) X_test: (1770, 3) Y_test: (1770, 1)\n",
      "--------------------\n",
      "X_train: (13467, 3) Y_train: (13467, 1) X_test: (1812, 3) Y_test: (1812, 1)\n",
      "predicting on features by moved window frame by:2000 ms\n",
      "--------------------\n",
      "X_train: (11902, 3) Y_train: (11902, 1) X_test: (3092, 3) Y_test: (3092, 1)\n",
      "--------------------\n",
      "X_train: (12204, 3) Y_train: (12204, 1) X_test: (2790, 3) Y_test: (2790, 1)\n",
      "--------------------\n",
      "X_train: (12021, 3) Y_train: (12021, 1) X_test: (2973, 3) Y_test: (2973, 1)\n",
      "--------------------\n",
      "X_train: (12338, 3) Y_train: (12338, 1) X_test: (2656, 3) Y_test: (2656, 1)\n",
      "--------------------\n",
      "X_train: (13269, 3) Y_train: (13269, 1) X_test: (1725, 3) Y_test: (1725, 1)\n",
      "--------------------\n",
      "X_train: (13236, 3) Y_train: (13236, 1) X_test: (1758, 3) Y_test: (1758, 1)\n"
     ]
    },
    {
     "data": {
      "text/plain": [
       "<Figure size 720x504 with 0 Axes>"
      ]
     },
     "metadata": {},
     "output_type": "display_data"
    }
   ],
   "source": [
    "lead_times = [10,100,200,300,400,2000]\n",
    "plt.figure(figsize=(10,7))\n",
    "auc_values = []\n",
    "dict_tpr = dict()\n",
    "dict_fpr = dict()\n",
    "dict_auc = dict()\n",
    "\n",
    "for lead_time in lead_times:\n",
    "    X = []\n",
    "    Y = []\n",
    "    print(\"predicting on features by moved window frame by:{} ms\".format(lead_time))\n",
    "    for i in range(len(subjects)):\n",
    "        feature = pd.read_csv(min_max_right_path+subjects[i]+\"_\"+str(lead_time)+ \"ms.csv\")\n",
    "        X.append(feature[['min_acc','max_acc','right_most']])\n",
    "        Y.append(feature[['fall_value']])\n",
    "    tprs,mean_fpr,aucs = roc_outer_cross_val(X, Y, model, params)\n",
    "    mean_tpr = np.mean(tprs, axis=0)\n",
    "    mean_tpr[-1] = 1.0\n",
    "    mean_auc = auc(mean_fpr, mean_tpr)\n",
    "    auc_values.append(round(mean_auc,3))\n",
    "    std_auc = np.std(aucs)\n",
    "    dict_tpr[lead_time] = mean_tpr\n",
    "    dict_fpr[lead_time] = mean_fpr\n",
    "    dict_auc[lead_time] = aucs"
   ]
  },
  {
   "cell_type": "code",
   "execution_count": 17,
   "metadata": {},
   "outputs": [
    {
     "data": {
      "image/png": "[encoded data removed]",
      "text/plain": [
       "<Figure size 720x504 with 1 Axes>"
      ]
     },
     "metadata": {
      "needs_background": "light"
     },
     "output_type": "display_data"
    }
   ],
   "source": [
    "move_window = [10,100,200,300,400,2000]\n",
    "plt.figure(figsize=(10,7))\n",
    "auc_values = []\n",
    "specificity = 0.99\n",
    "tpr_tnr_table = pd.DataFrame(columns={'lead time(in ms)','sensitivity','specificity'})\n",
    "\n",
    "for lead_time in lead_times:\n",
    "    mean_tpr = dict_tpr[lead_time]\n",
    "    mean_fpr = dict_fpr[lead_time]\n",
    "    aucs = dict_auc[lead_time] \n",
    "    sensitivity = np.interp(1-specificity,mean_fpr,mean_tpr)\n",
    "    tpr_tnr_table = tpr_tnr_table.append({'lead time(in ms)':lead_time,'sensitivity':round(sensitivity,3),\n",
    "                                          'specificity':(specificity)},\n",
    "                       ignore_index = True)\n",
    "    mean_auc = auc(mean_fpr, mean_tpr)\n",
    "    auc_values.append(round(mean_auc,3))\n",
    "    std_auc = np.std(aucs)\n",
    "    plt.plot(mean_fpr, mean_tpr,\n",
    "             label=str(lead_time)+' ms ROC (AUC = %0.2f )' % (mean_auc),\n",
    "             lw=2, alpha=.9)\n",
    "    \n",
    "plt.plot([0, 1], [0, 1], linestyle='--', lw=2, color='r',\n",
    "     label='Chance', alpha=.8) \n",
    "\n",
    "plt.xlim([-0.002, 0.08])\n",
    "plt.ylim([-0.03, 1.05])\n",
    "\n",
    "plt.tick_params(labelsize=11)\n",
    "plt.xlabel('False Positive Rate',fontsize = 14 )\n",
    "plt.ylabel('True Positive Rate', fontsize = 14 )\n",
    "plt.legend(loc=\"lower right\")\n",
    "img_name = 'ROC_curve'+' ms.png'\n",
    "plt.savefig(img_name,bbox_inches='tight')\n",
    "plt.show()"
   ]
  },
  {
   "cell_type": "code",
   "execution_count": 18,
   "metadata": {},
   "outputs": [],
   "source": [
    "tpr_tnr_table['AUC'] = auc_values"
   ]
  },
  {
   "cell_type": "code",
   "execution_count": 19,
   "metadata": {},
   "outputs": [
    {
     "data": {
      "text/html": [
       "<div>\n",
       "<style scoped>\n",
       "    .dataframe tbody tr th:only-of-type {\n",
       "        vertical-align: middle;\n",
       "    }\n",
       "\n",
       "    .dataframe tbody tr th {\n",
       "        vertical-align: top;\n",
       "    }\n",
       "\n",
       "    .dataframe thead th {\n",
       "        text-align: right;\n",
       "    }\n",
       "</style>\n",
       "<table border=\"1\" class=\"dataframe\">\n",
       "  <thead>\n",
       "    <tr style=\"text-align: right;\">\n",
       "      <th></th>\n",
       "      <th>specificity</th>\n",
       "      <th>lead time(in ms)</th>\n",
       "      <th>sensitivity</th>\n",
       "      <th>AUC</th>\n",
       "    </tr>\n",
       "  </thead>\n",
       "  <tbody>\n",
       "    <tr>\n",
       "      <th>0</th>\n",
       "      <td>0.99</td>\n",
       "      <td>10.0</td>\n",
       "      <td>0.962</td>\n",
       "      <td>0.979</td>\n",
       "    </tr>\n",
       "    <tr>\n",
       "      <th>1</th>\n",
       "      <td>0.99</td>\n",
       "      <td>100.0</td>\n",
       "      <td>0.704</td>\n",
       "      <td>0.964</td>\n",
       "    </tr>\n",
       "    <tr>\n",
       "      <th>2</th>\n",
       "      <td>0.99</td>\n",
       "      <td>200.0</td>\n",
       "      <td>0.620</td>\n",
       "      <td>0.927</td>\n",
       "    </tr>\n",
       "    <tr>\n",
       "      <th>3</th>\n",
       "      <td>0.99</td>\n",
       "      <td>300.0</td>\n",
       "      <td>0.602</td>\n",
       "      <td>0.923</td>\n",
       "    </tr>\n",
       "    <tr>\n",
       "      <th>4</th>\n",
       "      <td>0.99</td>\n",
       "      <td>400.0</td>\n",
       "      <td>0.536</td>\n",
       "      <td>0.894</td>\n",
       "    </tr>\n",
       "    <tr>\n",
       "      <th>5</th>\n",
       "      <td>0.99</td>\n",
       "      <td>2000.0</td>\n",
       "      <td>0.002</td>\n",
       "      <td>0.509</td>\n",
       "    </tr>\n",
       "  </tbody>\n",
       "</table>\n",
       "</div>"
      ],
      "text/plain": [
       "   specificity  lead time(in ms)  sensitivity    AUC\n",
       "0         0.99              10.0        0.962  0.979\n",
       "1         0.99             100.0        0.704  0.964\n",
       "2         0.99             200.0        0.620  0.927\n",
       "3         0.99             300.0        0.602  0.923\n",
       "4         0.99             400.0        0.536  0.894\n",
       "5         0.99            2000.0        0.002  0.509"
      ]
     },
     "execution_count": 19,
     "metadata": {},
     "output_type": "execute_result"
    }
   ],
   "source": [
    "tpr_tnr_table.head(7)"
   ]
  },
  {
   "cell_type": "code",
   "execution_count": null,
   "metadata": {},
   "outputs": [],
   "source": [
    "# Modifying the data like converting float to int and adding percentage value to sensitivity\n",
    "tpr_tnr_table['lead time(in ms)'] = tpr_tnr_table['lead time(in ms)'].astype('int64')\n",
    "# Dropped the sensitivity column\n",
    "tpr_tnr_table = tpr_tnr_table.drop('specificity',axis=1)\n",
    "tpr_tnr_table['sensitivity'] = tpr_tnr_table['sensitivity'].apply(lambda x : str(round(x*100,1))+\" %\") \n",
    "tpr_tnr_table.head(7)"
   ]
  },
  {
   "cell_type": "code",
   "execution_count": 22,
   "metadata": {},
   "outputs": [
    {
     "data": {
      "text/html": [
       "<div>\n",
       "<style scoped>\n",
       "    .dataframe tbody tr th:only-of-type {\n",
       "        vertical-align: middle;\n",
       "    }\n",
       "\n",
       "    .dataframe tbody tr th {\n",
       "        vertical-align: top;\n",
       "    }\n",
       "\n",
       "    .dataframe thead th {\n",
       "        text-align: right;\n",
       "    }\n",
       "</style>\n",
       "<table border=\"1\" class=\"dataframe\">\n",
       "  <thead>\n",
       "    <tr style=\"text-align: right;\">\n",
       "      <th></th>\n",
       "      <th>lead time(in ms)</th>\n",
       "      <th>sensitivity</th>\n",
       "      <th>AUC</th>\n",
       "    </tr>\n",
       "  </thead>\n",
       "  <tbody>\n",
       "    <tr>\n",
       "      <th>0</th>\n",
       "      <td>10</td>\n",
       "      <td>96.2 %</td>\n",
       "      <td>0.979</td>\n",
       "    </tr>\n",
       "    <tr>\n",
       "      <th>1</th>\n",
       "      <td>100</td>\n",
       "      <td>70.4 %</td>\n",
       "      <td>0.964</td>\n",
       "    </tr>\n",
       "    <tr>\n",
       "      <th>2</th>\n",
       "      <td>200</td>\n",
       "      <td>62.0 %</td>\n",
       "      <td>0.927</td>\n",
       "    </tr>\n",
       "    <tr>\n",
       "      <th>3</th>\n",
       "      <td>300</td>\n",
       "      <td>60.2 %</td>\n",
       "      <td>0.923</td>\n",
       "    </tr>\n",
       "    <tr>\n",
       "      <th>4</th>\n",
       "      <td>400</td>\n",
       "      <td>53.6 %</td>\n",
       "      <td>0.894</td>\n",
       "    </tr>\n",
       "    <tr>\n",
       "      <th>5</th>\n",
       "      <td>2000</td>\n",
       "      <td>0.2 %</td>\n",
       "      <td>0.509</td>\n",
       "    </tr>\n",
       "  </tbody>\n",
       "</table>\n",
       "</div>"
      ],
      "text/plain": [
       "   lead time(in ms) sensitivity    AUC\n",
       "0                10      96.2 %  0.979\n",
       "1               100      70.4 %  0.964\n",
       "2               200      62.0 %  0.927\n",
       "3               300      60.2 %  0.923\n",
       "4               400      53.6 %  0.894\n",
       "5              2000       0.2 %  0.509"
      ]
     },
     "execution_count": 22,
     "metadata": {},
     "output_type": "execute_result"
    }
   ],
   "source": [
    "tpr_tnr_table.head(7)"
   ]
  },
  {
   "cell_type": "code",
   "execution_count": null,
   "metadata": {},
   "outputs": [],
   "source": []
  }
 ],
 "metadata": {
  "kernelspec": {
   "display_name": "Python 3",
   "language": "python",
   "name": "python3"
  },
  "language_info": {
   "codemirror_mode": {
    "name": "ipython",
    "version": 3
   },
   "file_extension": ".py",
   "mimetype": "text/x-python",
   "name": "python",
   "nbconvert_exporter": "python",
   "pygments_lexer": "ipython3",
   "version": "3.7.6"
  },
  "toc": {
   "base_numbering": 1,
   "nav_menu": {},
   "number_sections": true,
   "sideBar": true,
   "skip_h1_title": false,
   "title_cell": "Table of Contents",
   "title_sidebar": "Contents",
   "toc_cell": false,
   "toc_position": {
    "height": "calc(100% - 180px)",
    "left": "10px",
    "top": "150px",
    "width": "174.188px"
   },
   "toc_section_display": true,
   "toc_window_display": true
  },
  "widgets": {
   "state": {},
   "version": "1.1.2"
  }
 },
 "nbformat": 4,
 "nbformat_minor": 2
}
