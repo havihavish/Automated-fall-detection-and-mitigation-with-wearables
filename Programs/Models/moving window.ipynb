{
 "cells": [
  {
   "cell_type": "code",
   "execution_count": 0,
   "metadata": {
    "colab": {
     "base_uri": "https://localhost:8080/",
     "height": 54
    },
    "colab_type": "code",
    "executionInfo": {
     "elapsed": 909,
     "status": "ok",
     "timestamp": 1590178514691,
     "user": {
      "displayName": "Havish Nallapareddy",
      "photoUrl": "https://lh3.googleusercontent.com/a-/AOh14GhdLRYStZQgUBSm9r1X-IQHs7fMtPZbv323wDBB=s64",
      "userId": "05259030961832886810"
     },
     "user_tz": 300
    },
    "id": "FCtzGLO9tvH5",
    "outputId": "0a757b85-a196-4d4f-c395-1f6a00d593e3"
   },
   "outputs": [
    {
     "name": "stdout",
     "output_type": "stream",
     "text": [
      "Drive already mounted at /content/gdrive; to attempt to forcibly remount, call drive.mount(\"/content/gdrive\", force_remount=True).\n"
     ]
    }
   ],
   "source": [
    "from google.colab import drive\n",
    "drive.mount('/content/gdrive')"
   ]
  },
  {
   "cell_type": "code",
   "execution_count": 0,
   "metadata": {
    "colab": {
     "base_uri": "https://localhost:8080/",
     "height": 187
    },
    "colab_type": "code",
    "executionInfo": {
     "elapsed": 2931,
     "status": "ok",
     "timestamp": 1590178519706,
     "user": {
      "displayName": "Havish Nallapareddy",
      "photoUrl": "https://lh3.googleusercontent.com/a-/AOh14GhdLRYStZQgUBSm9r1X-IQHs7fMtPZbv323wDBB=s64",
      "userId": "05259030961832886810"
     },
     "user_tz": 300
    },
    "id": "oFiAqqf8vH0G",
    "outputId": "303bf04d-1aa5-44d9-b4a8-0e14a0aafc4d"
   },
   "outputs": [
    {
     "name": "stdout",
     "output_type": "stream",
     "text": [
      " abstract\t\t      Fall_detection_report.docx\n",
      "'BMES 2020 payementpdf.pdf'   Features\n",
      "'BMES 2020 payment.pdf'       Programs\n",
      "'BMES 2020 Site.pdf'\t     'ROC_curve ms.png'\n",
      " C1-Combined.xlsx\t      ROC_results.pdf\n",
      " C2-Combined.xlsx\t      S1-Combined.xlsx\n",
      " C3-Combined.xlsx\t      S2-Combined.xlsx\n",
      " desktop.ini\t\t      S3-Combined.xlsx\n",
      " Documents\t\t      Specificity_with_sensitivity.JPG\n",
      " FallCatcher_Data\n"
     ]
    }
   ],
   "source": [
    "!ls"
   ]
  },
  {
   "cell_type": "code",
   "execution_count": 0,
   "metadata": {
    "colab": {
     "base_uri": "https://localhost:8080/",
     "height": 34
    },
    "colab_type": "code",
    "executionInfo": {
     "elapsed": 688,
     "status": "ok",
     "timestamp": 1590174300911,
     "user": {
      "displayName": "Havish Nallapareddy",
      "photoUrl": "https://lh3.googleusercontent.com/a-/AOh14GhdLRYStZQgUBSm9r1X-IQHs7fMtPZbv323wDBB=s64",
      "userId": "05259030961832886810"
     },
     "user_tz": 300
    },
    "id": "bVziCtIIvKcS",
    "outputId": "aa12de37-3858-44ed-c48f-b2757f5b8fac"
   },
   "outputs": [
    {
     "name": "stdout",
     "output_type": "stream",
     "text": [
      "/content/gdrive/My Drive/Pre_fall_project\n"
     ]
    }
   ],
   "source": [
    "cd gdrive/My\\ Drive/Pre_fall_project"
   ]
  },
  {
   "cell_type": "markdown",
   "metadata": {
    "colab_type": "text",
    "id": "4izO2n_XtmAW"
   },
   "source": [
    "# Packages "
   ]
  },
  {
   "cell_type": "code",
   "execution_count": 0,
   "metadata": {
    "colab": {},
    "colab_type": "code",
    "id": "t2wimTMRtmAY"
   },
   "outputs": [],
   "source": [
    "import pandas as pd\n",
    "import matplotlib.pyplot as plt\n",
    "import numpy as np\n",
    "\n",
    "from pandas import ExcelWriter\n",
    "from pandas import ExcelFile\n",
    "from sklearn.utils import shuffle\n",
    "\n",
    "from sklearn.model_selection import GridSearchCV\n",
    "from sklearn.ensemble import RandomForestClassifier\n",
    "from sklearn import svm\n",
    "from sklearn.neighbors import KNeighborsClassifier\n",
    "from sklearn.linear_model import LogisticRegression\n",
    "from sklearn.model_selection import LeaveOneGroupOut\n",
    "from sklearn.metrics import confusion_matrix\n",
    "from sklearn.metrics import roc_curve, auc\n",
    "from sklearn.metrics import confusion_matrix"
   ]
  },
  {
   "cell_type": "code",
   "execution_count": 3,
   "metadata": {
    "colab": {
     "base_uri": "https://localhost:8080/",
     "height": 34
    },
    "colab_type": "code",
    "executionInfo": {
     "elapsed": 2748,
     "status": "ok",
     "timestamp": 1590189212790,
     "user": {
      "displayName": "Havish Nallapareddy",
      "photoUrl": "https://lh3.googleusercontent.com/a-/AOh14GhdLRYStZQgUBSm9r1X-IQHs7fMtPZbv323wDBB=s64",
      "userId": "05259030961832886810"
     },
     "user_tz": 300
    },
    "id": "ZVAdzK2atmAf",
    "outputId": "f8376f40-57a9-44e2-9b5e-ba30f8610015"
   },
   "outputs": [
    {
     "name": "stderr",
     "output_type": "stream",
     "text": [
      "Using TensorFlow backend.\n"
     ]
    }
   ],
   "source": [
    "import numpy\n",
    "import matplotlib.pyplot as plt\n",
    "import pandas\n",
    "import math\n",
    "from keras.models import Sequential\n",
    "from keras.layers import Dense\n",
    "from keras.layers import LSTM\n",
    "from sklearn.preprocessing import MinMaxScaler\n",
    "from sklearn.metrics import mean_squared_error\n",
    "from numpy.random import seed\n",
    "seed(1)\n",
    "import tensorflow\n",
    "tensorflow.random.set_seed(2)"
   ]
  },
  {
   "cell_type": "markdown",
   "metadata": {
    "colab_type": "text",
    "id": "A0y_t-uItmAj"
   },
   "source": [
    "# Functions "
   ]
  },
  {
   "cell_type": "markdown",
   "metadata": {
    "colab_type": "text",
    "id": "eCl6YGovtmAl"
   },
   "source": [
    "## Read airbag data"
   ]
  },
  {
   "cell_type": "code",
   "execution_count": 0,
   "metadata": {
    "colab": {},
    "colab_type": "code",
    "id": "pJBSjc-5tmAn"
   },
   "outputs": [],
   "source": [
    "def read_data(file_name):\n",
    "    file_path = 'FallCatcher_Data/' + file_name\n",
    "    data = pd.read_csv(file_path,sep=',',names = ['time_counter','accel_base_X','accel_base_Y','accel_base_Z','gyro_base_X',\n",
    "                                                  'gyro_base_Y','gyro_base_Z','accel_right_X','accel_right_Y','accel_right_Z',\n",
    "                                                  'gyro_right_X','gyro_right_Y','gyro_right_Z','accel_left_X','accel_left_Y',\n",
    "                                                  'accel_left_Z','gyro_left_X','gyro_left_Y','gyro_left_Z','fall_detection',\n",
    "                                                  'fall_check','impact_value'])\n",
    "    return data"
   ]
  },
  {
   "cell_type": "markdown",
   "metadata": {
    "colab_type": "text",
    "id": "SijJyj_ItmAr"
   },
   "source": [
    "## Read Manual Data"
   ]
  },
  {
   "cell_type": "code",
   "execution_count": 0,
   "metadata": {
    "colab": {},
    "colab_type": "code",
    "id": "SMe6KIUitmAs"
   },
   "outputs": [],
   "source": [
    "def read_combined_data(file_name,airbag_data):T\n",
    "    file_path = 'FallCatcher_Data/Combined/'+file_name\n",
    "    data = pd.read_excel(file_path, sheet_name=0)\n",
    "    data.to_csv(file_name, encoding='utf-8')\n",
    "    data['Time Point Name'] = pd.to_numeric(data['Time Point Name'], errors='coerce')\n",
    "    data = data[(data['Time Point Name']>100) & (data['Time Point Name'] < 200) &\n",
    "                (data['Impact milisec'].notnull()) & ((data['Start milisec']) < (airbag_data.iloc[-1][0]))]\n",
    "    data = data[['Time Point Name','Start milisec','Impact milisec', 'End Milisec','Duration']]\n",
    "    return data"
   ]
  },
  {
   "cell_type": "markdown",
   "metadata": {
    "colab_type": "text",
    "id": "MCfoxROntmAy"
   },
   "source": [
    "## Merge Airbag Data and manual Data  "
   ]
  },
  {
   "cell_type": "code",
   "execution_count": 0,
   "metadata": {
    "colab": {},
    "colab_type": "code",
    "id": "-dmmjxvbtmAz"
   },
   "outputs": [],
   "source": [
    "def add_new_fall_value(airbag_data,manual_data):\n",
    "    airbag_data['accel_base_mag'] =  np.sqrt(airbag_data['accel_base_X']**2 + airbag_data['accel_base_Y']**2 + \n",
    "                                             airbag_data['accel_base_Z']**2)\n",
    "    for index, row in manual_data.iterrows():\n",
    "        airbag_data.loc[(airbag_data['accel_base_mag'] == \\\n",
    "                                                  (airbag_data.loc[(airbag_data['time_counter'] >= row['Start milisec']) & \\\n",
    "                                                                   (airbag_data['time_counter'] < row['End Milisec']),\n",
    "                                                                   'accel_base_mag'].max())) & \\\n",
    "                                                 (airbag_data['time_counter'] >= row['Start milisec']) & \\\n",
    "                                                 (airbag_data['time_counter'] < row['End Milisec']),\n",
    "                                                 'cal_impact_milisec'] = 80"
   ]
  },
  {
   "cell_type": "markdown",
   "metadata": {
    "colab_type": "text",
    "id": "ZLy9fW-0tmA2"
   },
   "source": [
    "## Extract Feature"
   ]
  },
  {
   "cell_type": "code",
   "execution_count": 0,
   "metadata": {
    "colab": {},
    "colab_type": "code",
    "id": "Tq0NlmoptmA3"
   },
   "outputs": [],
   "source": [
    "def extract_feature(data,window_time=1000,move_window = 0):\n",
    "    if move_window != 0:\n",
    "        move_window += int(window_time/2);\n",
    "    max_ms = data['time_counter'].max()\n",
    "    feature = pd.DataFrame(columns={'time_counter','min_acc','max_acc','right_most','fall_value'})\n",
    "    impact_list = data.loc[(data['cal_impact_milisec'] == 80),'time_counter'].values\n",
    "    \n",
    "    end_list = []  #edge condition for non-fall values\n",
    "    start_list = []\n",
    "    non_falls_end_list = [0]\n",
    "    \n",
    "    #prepare window frame \n",
    "    for index in impact_list:\n",
    "        end_list.append(index + int(window_time/2) - move_window)\n",
    "        start_list.append(index - int(window_time/2) - move_window)\n",
    "        non_falls_end_list.append(index + 2000)\n",
    "    start_list.append(max_ms)  #edge condition for non-fall values\n",
    "    \n",
    "    #add fall values\n",
    "    for index in range(len(impact_list)):\n",
    "        start = start_list[index]\n",
    "        end = end_list[index]\n",
    "        \n",
    "        temp_data = data.loc[(data['time_counter'] >= start) & (data['time_counter'] < end),['time_counter','accel_base_mag']]\n",
    "        time_counter = temp_data.iloc[:,0].min()\n",
    "        min_acc =  temp_data.iloc[:,1].min()\n",
    "        max_acc = temp_data.iloc[:,1].max()\n",
    "#         print(temp_data.tail(1))\n",
    "#         print(temp_data.tail(1).values[0][1])\n",
    "#         print()\n",
    "        right_most = temp_data.tail(1).values[0][1]\n",
    "        fall_value = 1\n",
    "        feature = feature.append({'time_counter':time_counter,'min_acc':min_acc,'max_acc':max_acc,'right_most':right_most,'fall_value':fall_value},\n",
    "                       ignore_index = True)\n",
    "        \n",
    "    #add non-fall values\n",
    "    for start,end in zip(non_falls_end_list,start_list):\n",
    "        for index in range(start,end,window_time):\n",
    "            end_index = index + window_time\n",
    "            if end_index < end:\n",
    "                temp_data = data.loc[(data['time_counter'] >= index) & (data['time_counter'] < end_index),['time_counter','accel_base_mag']]\n",
    "                time_counter = temp_data.iloc[:,0].min()\n",
    "                min_acc =  temp_data.iloc[:,1].min()\n",
    "                max_acc = temp_data.iloc[:,1].max()\n",
    "                right_most = temp_data.tail(1).values[0][1]\n",
    "                fall_value = 0\n",
    "                feature = feature.append({'time_counter':time_counter,'min_acc':min_acc,'max_acc':max_acc,'right_most':right_most,\n",
    "                                          'fall_value':fall_value},ignore_index = True)\n",
    "\n",
    "    return feature"
   ]
  },
  {
   "cell_type": "markdown",
   "metadata": {
    "colab_type": "text",
    "id": "E4pOx9MhtmA7"
   },
   "source": [
    "\n",
    "\n",
    "\n",
    "## Nested Subject wise CV "
   ]
  },
  {
   "cell_type": "code",
   "execution_count": 0,
   "metadata": {
    "colab": {},
    "colab_type": "code",
    "id": "e9YeRTBMtmA8"
   },
   "outputs": [],
   "source": [
    "def outer_cross_val(X, Y, groups, split_model, model, params):\n",
    "\n",
    "    print(\"Outer Cross Validation\")\n",
    "    Sensitivity = []\n",
    "    Specificity = []\n",
    "\n",
    "    for train_index, test_index in split_model.split(X, Y, groups):\n",
    "        \n",
    "        X_train = X[train_index[0]]\n",
    "        X_test = X[test_index[0]]\n",
    "        Y_train = Y[train_index[0]]\n",
    "        Y_test = Y[test_index[0]]\n",
    "        \n",
    "        for i in train_index[1:]:\n",
    "            X_train.append(X[i], sort=False)\n",
    "            Y_train.append(X[i], sort=False)\n",
    "        \n",
    "        for i in test_index[1:]:\n",
    "            X_test.append(X[i])\n",
    "            Y_test.append(X[i])\n",
    "        \n",
    "        cv = len(train_index)\n",
    "        best_inner_model = inner_nested_cross_val(X_train, Y_train, cv, LeaveOneGroupOut(), model, params)\n",
    "\n",
    "        best_inner_model.fit(X_train,Y_train.values.ravel())\n",
    "        predicted = best_inner_model.predict(X_test)\n",
    "        \n",
    "        cm1 = confusion_matrix(Y_test,predicted)\n",
    "        sensitivity1 = cm1[1,1]/(cm1[1,0]+cm1[1,1])\n",
    "        Sensitivity.append(sensitivity1)  \n",
    "\n",
    "        specificity1 =  cm1[0,0]/(cm1[0,0]+cm1[0,1])\n",
    "        Specificity.append(specificity1)\n",
    "        #print('Specificity : ', specificity1)\n",
    "        \n",
    "    return sum(Sensitivity)/float(len(Sensitivity)), sum(Specificity)/float(len(Specificity))\n",
    "\n"
   ]
  },
  {
   "cell_type": "markdown",
   "metadata": {
    "colab_type": "text",
    "id": "orYEPNhItmBA"
   },
   "source": [
    "## Inner CV"
   ]
  },
  {
   "cell_type": "code",
   "execution_count": 0,
   "metadata": {
    "colab": {},
    "colab_type": "code",
    "id": "atDVHb9mtmBB"
   },
   "outputs": [],
   "source": [
    "def inner_nested_cross_val(X, Y, cv, split_model, model, params):\n",
    "    test_model = GridSearchCV(model, params, cv = cv ).fit(X, Y.values.ravel())\n",
    "    return test_model.best_estimator_"
   ]
  },
  {
   "cell_type": "markdown",
   "metadata": {
    "colab_type": "text",
    "id": "iMeFzCCPtmBF"
   },
   "source": [
    "## MIX ROC "
   ]
  },
  {
   "cell_type": "code",
   "execution_count": 0,
   "metadata": {
    "colab": {},
    "colab_type": "code",
    "id": "NI5qA2SHtmBF"
   },
   "outputs": [],
   "source": [
    "def roc_outer_cross_val(X, Y, groups, split_model, model, params,moving_window):\n",
    "    \n",
    "    title = 'ROC_AUC curve for MV = '+str(moving_window)\n",
    "#     print(\"Outer Cross Validation\")\n",
    "    tprs = []\n",
    "    aucs = []\n",
    "    mean_fpr = np.linspace(0, 1, 100)\n",
    "    plt.figure(figsize=(10,7))\n",
    "    plt.title(title)\n",
    "    fold = 0\n",
    "    for train_index, test_index in split_model.split(X, Y, groups):\n",
    "        \n",
    "        X_train = X[train_index[0]]\n",
    "        X_test = X[test_index[0]]\n",
    "        Y_train = Y[train_index[0]]\n",
    "        Y_test = Y[test_index[0]]\n",
    "        \n",
    "        for i in train_index[1:]:\n",
    "            X_train.append(X[i], sort=False)\n",
    "            Y_train.append(X[i], sort=False)\n",
    "        \n",
    "        for i in test_index[1:]:\n",
    "            X_test.append(X[i])\n",
    "            Y_test.append(X[i])\n",
    "        \n",
    "        cv = len(train_index)\n",
    "        best_inner_model = inner_nested_cross_val(X_train, Y_train, cv, LeaveOneGroupOut(), model, params)\n",
    "\n",
    "        best_inner_model.fit(X_train,Y_train.values.ravel())\n",
    "        probas_ = best_inner_model.predict_proba(X_test)\n",
    "        \n",
    "        fpr, tpr, thresholds = roc_curve(Y_test.values.ravel(), probas_[:, 1])\n",
    "        \n",
    "        tprs.append(np.interp(mean_fpr, fpr, tpr))\n",
    "        tprs[-1][0] = 0.0\n",
    "        roc_auc = auc(fpr, tpr)\n",
    "        aucs.append(roc_auc)\n",
    "        plt.plot(fpr, tpr, lw=1, alpha=0.4,\n",
    "                 label='ROC fold %d (AUC = %0.2f)' % (fold, roc_auc))\n",
    "\n",
    "        fold += 1\n",
    "    \n",
    "    \n",
    "    plt.plot([0, 1], [0, 1], linestyle='--', lw=2, color='r',\n",
    "         label='Chance', alpha=.8) \n",
    "    mean_tpr = np.mean(tprs, axis=0)\n",
    "    mean_tpr[-1] = 1.0\n",
    "    mean_auc = auc(mean_fpr, mean_tpr)\n",
    "    std_auc = np.std(aucs)\n",
    "    plt.plot(mean_fpr, mean_tpr, color='b',\n",
    "             label=r'Mean ROC (AUC = %0.2f $\\pm$ %0.2f)' % (mean_auc, std_auc),\n",
    "             lw=2, alpha=.9)\n",
    "\n",
    "    std_tpr = np.std(tprs, axis=0)\n",
    "    tprs_upper = np.minimum(mean_tpr + std_tpr, 1)\n",
    "    tprs_lower = np.maximum(mean_tpr - std_tpr, 0)\n",
    "    plt.fill_between(mean_fpr, tprs_lower, tprs_upper, color='grey', alpha=.2,\n",
    "                     label=r'$\\pm$ 1 std. dev.')\n",
    "\n",
    "    plt.xlim([-0.05, 1.05])\n",
    "    plt.ylim([-0.05, 1.05])\n",
    "    plt.xlabel('False Positive Rate')\n",
    "    plt.ylabel('True Positive Rate')\n",
    "    plt.legend(loc=\"lower right\")\n",
    "    img_name = 'MV '+str(moving_window)+' ms.png'\n",
    "    plt.savefig(img_name, bbox_inches='tight')\n",
    "    plt.show()"
   ]
  },
  {
   "cell_type": "markdown",
   "metadata": {
    "colab_type": "text",
    "id": "fGhYLjlwtmBJ"
   },
   "source": [
    "## trail_roc_outer_cross_val"
   ]
  },
  {
   "cell_type": "code",
   "execution_count": 0,
   "metadata": {
    "colab": {},
    "colab_type": "code",
    "id": "OlbrXFbgtmBL"
   },
   "outputs": [],
   "source": [
    "\n",
    "def trail_roc_outer_cross_val(X, Y, groups, split_model, model, params):\n",
    "    \n",
    "    tprs = []\n",
    "    aucs = []\n",
    "    mean_fpr = np.linspace(0, 1, 300)\n",
    "    fold = 0\n",
    "    for train_index, test_index in split_model.split(X, Y, groups):\n",
    "        \n",
    "        X_train = X[train_index[0]]\n",
    "        X_test = X[test_index[0]]\n",
    "        Y_train = Y[train_index[0]]\n",
    "        Y_test = Y[test_index[0]]\n",
    "        \n",
    "        for i in train_index[1:]:\n",
    "            X_train.append(X[i], sort=False)\n",
    "            Y_train.append(X[i], sort=False)\n",
    "        \n",
    "        for i in test_index[1:]:\n",
    "            X_test.append(X[i])\n",
    "            Y_test.append(X[i])\n",
    "        \n",
    "        cv = len(train_index)\n",
    "        best_inner_model = inner_nested_cross_val(X_train, Y_train, cv, LeaveOneGroupOut(), model, params)\n",
    "\n",
    "        best_inner_model.fit(X_train,Y_train.values.ravel())\n",
    "        probas_ = best_inner_model.predict_proba(X_test)\n",
    "        \n",
    "        fpr, tpr, thresholds = roc_curve(Y_test.values.ravel(), probas_[:, 1])\n",
    "        tprs.append(np.interp(mean_fpr, fpr, tpr))\n",
    "        tprs[-1][0] = 0.0\n",
    "        roc_auc = auc(fpr, tpr)\n",
    "        aucs.append(roc_auc)\n",
    "        \n",
    "        fold += 1\n",
    "    \n",
    "    return tprs,mean_fpr,aucs"
   ]
  },
  {
   "cell_type": "markdown",
   "metadata": {
    "colab_type": "text",
    "id": "hlSsmgr6tmBQ"
   },
   "source": [
    "## Sensitivity with Specificity"
   ]
  },
  {
   "cell_type": "code",
   "execution_count": 0,
   "metadata": {
    "colab": {},
    "colab_type": "code",
    "id": "nZoRswwbtmBR"
   },
   "outputs": [],
   "source": [
    "def cal_sensitivity_with_specificity(X, Y, groups, split_model, model, params,specificity):\n",
    "    \n",
    "    print(\"trail Outer Cross Validation\")\n",
    "    tprs = []\n",
    "    mean_fpr = np.linspace(0, 1, 100)\n",
    "\n",
    "    for train_index, test_index in split_model.split(X, Y, groups):\n",
    "        \n",
    "        X_train = X[train_index[0]]\n",
    "        X_test = X[test_index[0]]\n",
    "        Y_train = Y[train_index[0]]\n",
    "        Y_test = Y[test_index[0]]\n",
    "        \n",
    "        for i in train_index[1:]:\n",
    "            X_train.append(X[i], sort=False)\n",
    "            Y_train.append(X[i], sort=False)\n",
    "        \n",
    "        for i in test_index[1:]:\n",
    "            X_test.append(X[i])\n",
    "            Y_test.append(X[i])\n",
    "        \n",
    "        cv = len(train_index)\n",
    "        best_inner_model = inner_nested_cross_val(X_train, Y_train, cv, LeaveOneGroupOut(), model, params)\n",
    "\n",
    "        best_inner_model.fit(X_train,Y_train.values.ravel())\n",
    "        probas_ = best_inner_model.predict_proba(X_test)\n",
    "        \n",
    "        fpr, tpr, thresholds = roc_curve(Y_test.values.ravel(), probas_[:, 1])\n",
    "        tprs.append(np.interp(mean_fpr,fpr,tpr))\n",
    "    mean_tpr = np.mean(tprs, axis=0)\n",
    "    \n",
    "    return np.interp(1-specificity,mean_fpr,mean_tpr)"
   ]
  },
  {
   "cell_type": "markdown",
   "metadata": {
    "colab_type": "text",
    "id": "341kNOAoQWoV"
   },
   "source": [
    "## Features for RNN"
   ]
  },
  {
   "cell_type": "code",
   "execution_count": 0,
   "metadata": {
    "colab": {},
    "colab_type": "code",
    "id": "lGo48yXbQlF6"
   },
   "outputs": [],
   "source": [
    "def extract_rnn_feature(data,window_time=1000,move_window = 0):\n",
    "    \n",
    "    max_ms = data['time_counter'].max()\n",
    "    feature = pd.DataFrame(columns={'time_counter','accel_base_X','accel_base_Y','accel_base_Z','accel_base_mag','fall_value'})\n",
    "    impact_list = data.loc[(data['cal_impact_milisec'] == 80),'time_counter'].values\n",
    "    feature[['time_counter','accel_base_mag','accel_base_X','accel_base_Y','accel_base_Z']] = data[['time_counter','accel_base_mag','accel_base_X','accel_base_Y','accel_base_Z']]  \n",
    "    feature['fall_value'] = np.zeros((feature.shape[0],1))\n",
    "    \n",
    "    for i in impact_list:\n",
    "      temp = data.loc[data['time_counter'] <= i-move_window].tail(1).values[0][0]\n",
    "      feature.loc[feature['time_counter'] == temp,'fall_value' ] = 1\n",
    "    return feature\n",
    "    "
   ]
  },
  {
   "cell_type": "markdown",
   "metadata": {
    "colab_type": "text",
    "id": "GE7LBnAEtmBU"
   },
   "source": [
    "## Read and Combine Airbag data and manual data"
   ]
  },
  {
   "cell_type": "markdown",
   "metadata": {
    "colab_type": "text",
    "id": "c6plf75CtmBV"
   },
   "source": [
    "### For S1"
   ]
  },
  {
   "cell_type": "code",
   "execution_count": 0,
   "metadata": {
    "colab": {},
    "colab_type": "code",
    "id": "JN5eE0rTtmBW"
   },
   "outputs": [],
   "source": [
    "s1_data=read_data('Airbag-S1.CSV')\n",
    "s1_combined = read_combined_data('S1-Combined.xlsx',s1_data)\n",
    "add_new_fall_value(s1_data,s1_combined)"
   ]
  },
  {
   "cell_type": "code",
   "execution_count": 0,
   "metadata": {
    "colab": {
     "base_uri": "https://localhost:8080/",
     "height": 224
    },
    "colab_type": "code",
    "executionInfo": {
     "elapsed": 7319,
     "status": "ok",
     "timestamp": 1590072310379,
     "user": {
      "displayName": "Havish Nallapareddy",
      "photoUrl": "https://lh3.googleusercontent.com/a-/AOh14GhdLRYStZQgUBSm9r1X-IQHs7fMtPZbv323wDBB=s64",
      "userId": "05259030961832886810"
     },
     "user_tz": 300
    },
    "id": "YaGx7zECQze9",
    "outputId": "f668f049-33c0-491e-cc4f-e2866cd3129c"
   },
   "outputs": [
    {
     "data": {
      "text/html": [
       "<div>\n",
       "<style scoped>\n",
       "    .dataframe tbody tr th:only-of-type {\n",
       "        vertical-align: middle;\n",
       "    }\n",
       "\n",
       "    .dataframe tbody tr th {\n",
       "        vertical-align: top;\n",
       "    }\n",
       "\n",
       "    .dataframe thead th {\n",
       "        text-align: right;\n",
       "    }\n",
       "</style>\n",
       "<table border=\"1\" class=\"dataframe\">\n",
       "  <thead>\n",
       "    <tr style=\"text-align: right;\">\n",
       "      <th></th>\n",
       "      <th>time_counter</th>\n",
       "      <th>accel_base_X</th>\n",
       "      <th>accel_base_Y</th>\n",
       "      <th>accel_base_Z</th>\n",
       "      <th>gyro_base_X</th>\n",
       "      <th>gyro_base_Y</th>\n",
       "      <th>gyro_base_Z</th>\n",
       "      <th>accel_right_X</th>\n",
       "      <th>accel_right_Y</th>\n",
       "      <th>accel_right_Z</th>\n",
       "      <th>gyro_right_X</th>\n",
       "      <th>gyro_right_Y</th>\n",
       "      <th>gyro_right_Z</th>\n",
       "      <th>accel_left_X</th>\n",
       "      <th>accel_left_Y</th>\n",
       "      <th>accel_left_Z</th>\n",
       "      <th>gyro_left_X</th>\n",
       "      <th>gyro_left_Y</th>\n",
       "      <th>gyro_left_Z</th>\n",
       "      <th>fall_detection</th>\n",
       "      <th>fall_check</th>\n",
       "      <th>impact_value</th>\n",
       "      <th>accel_base_mag</th>\n",
       "      <th>cal_impact_milisec</th>\n",
       "    </tr>\n",
       "  </thead>\n",
       "  <tbody>\n",
       "    <tr>\n",
       "      <th>0</th>\n",
       "      <td>733</td>\n",
       "      <td>1372</td>\n",
       "      <td>1441</td>\n",
       "      <td>-674</td>\n",
       "      <td>1001</td>\n",
       "      <td>449</td>\n",
       "      <td>-437</td>\n",
       "      <td>-244</td>\n",
       "      <td>-141</td>\n",
       "      <td>1887</td>\n",
       "      <td>12</td>\n",
       "      <td>83</td>\n",
       "      <td>24</td>\n",
       "      <td>1721</td>\n",
       "      <td>17</td>\n",
       "      <td>-1322</td>\n",
       "      <td>221</td>\n",
       "      <td>357</td>\n",
       "      <td>-77</td>\n",
       "      <td>0</td>\n",
       "      <td>NaN</td>\n",
       "      <td>NaN</td>\n",
       "      <td>2100.747724</td>\n",
       "      <td>NaN</td>\n",
       "    </tr>\n",
       "    <tr>\n",
       "      <th>1</th>\n",
       "      <td>735</td>\n",
       "      <td>1403</td>\n",
       "      <td>1514</td>\n",
       "      <td>-695</td>\n",
       "      <td>978</td>\n",
       "      <td>455</td>\n",
       "      <td>-372</td>\n",
       "      <td>-263</td>\n",
       "      <td>-125</td>\n",
       "      <td>1886</td>\n",
       "      <td>3</td>\n",
       "      <td>85</td>\n",
       "      <td>26</td>\n",
       "      <td>1690</td>\n",
       "      <td>8</td>\n",
       "      <td>-1355</td>\n",
       "      <td>185</td>\n",
       "      <td>346</td>\n",
       "      <td>-93</td>\n",
       "      <td>3</td>\n",
       "      <td>NaN</td>\n",
       "      <td>NaN</td>\n",
       "      <td>2177.987603</td>\n",
       "      <td>NaN</td>\n",
       "    </tr>\n",
       "    <tr>\n",
       "      <th>2</th>\n",
       "      <td>737</td>\n",
       "      <td>1414</td>\n",
       "      <td>1555</td>\n",
       "      <td>-556</td>\n",
       "      <td>954</td>\n",
       "      <td>452</td>\n",
       "      <td>-325</td>\n",
       "      <td>-276</td>\n",
       "      <td>-124</td>\n",
       "      <td>1888</td>\n",
       "      <td>3</td>\n",
       "      <td>81</td>\n",
       "      <td>25</td>\n",
       "      <td>1725</td>\n",
       "      <td>-22</td>\n",
       "      <td>-1302</td>\n",
       "      <td>118</td>\n",
       "      <td>377</td>\n",
       "      <td>-93</td>\n",
       "      <td>3</td>\n",
       "      <td>NaN</td>\n",
       "      <td>NaN</td>\n",
       "      <td>2174.064626</td>\n",
       "      <td>NaN</td>\n",
       "    </tr>\n",
       "    <tr>\n",
       "      <th>3</th>\n",
       "      <td>739</td>\n",
       "      <td>1460</td>\n",
       "      <td>1658</td>\n",
       "      <td>-588</td>\n",
       "      <td>897</td>\n",
       "      <td>468</td>\n",
       "      <td>-280</td>\n",
       "      <td>-279</td>\n",
       "      <td>-124</td>\n",
       "      <td>1896</td>\n",
       "      <td>-3</td>\n",
       "      <td>84</td>\n",
       "      <td>22</td>\n",
       "      <td>1741</td>\n",
       "      <td>-20</td>\n",
       "      <td>-1281</td>\n",
       "      <td>73</td>\n",
       "      <td>424</td>\n",
       "      <td>-85</td>\n",
       "      <td>3</td>\n",
       "      <td>NaN</td>\n",
       "      <td>NaN</td>\n",
       "      <td>2286.111983</td>\n",
       "      <td>NaN</td>\n",
       "    </tr>\n",
       "    <tr>\n",
       "      <th>4</th>\n",
       "      <td>741</td>\n",
       "      <td>1440</td>\n",
       "      <td>1660</td>\n",
       "      <td>-576</td>\n",
       "      <td>830</td>\n",
       "      <td>499</td>\n",
       "      <td>-232</td>\n",
       "      <td>-294</td>\n",
       "      <td>-114</td>\n",
       "      <td>1903</td>\n",
       "      <td>-7</td>\n",
       "      <td>77</td>\n",
       "      <td>18</td>\n",
       "      <td>1711</td>\n",
       "      <td>43</td>\n",
       "      <td>-1307</td>\n",
       "      <td>56</td>\n",
       "      <td>478</td>\n",
       "      <td>-88</td>\n",
       "      <td>3</td>\n",
       "      <td>NaN</td>\n",
       "      <td>NaN</td>\n",
       "      <td>2271.778158</td>\n",
       "      <td>NaN</td>\n",
       "    </tr>\n",
       "  </tbody>\n",
       "</table>\n",
       "</div>"
      ],
      "text/plain": [
       "   time_counter  accel_base_X  ...  accel_base_mag  cal_impact_milisec\n",
       "0           733          1372  ...     2100.747724                 NaN\n",
       "1           735          1403  ...     2177.987603                 NaN\n",
       "2           737          1414  ...     2174.064626                 NaN\n",
       "3           739          1460  ...     2286.111983                 NaN\n",
       "4           741          1440  ...     2271.778158                 NaN\n",
       "\n",
       "[5 rows x 24 columns]"
      ]
     },
     "execution_count": 17,
     "metadata": {
      "tags": []
     },
     "output_type": "execute_result"
    }
   ],
   "source": [
    "s1_data.head()"
   ]
  },
  {
   "cell_type": "markdown",
   "metadata": {
    "colab_type": "text",
    "id": "H6YGAlxGtmBZ"
   },
   "source": [
    "### For S2"
   ]
  },
  {
   "cell_type": "code",
   "execution_count": 0,
   "metadata": {
    "colab": {},
    "colab_type": "code",
    "id": "1ffmLWmAtmBa"
   },
   "outputs": [],
   "source": [
    "s2_data=read_data('Airbag-S2.CSV')\n",
    "s2_combined = read_combined_data('S2-Combined.xlsx',s2_data)\n",
    "add_new_fall_value(s2_data,s2_combined)"
   ]
  },
  {
   "cell_type": "markdown",
   "metadata": {
    "colab_type": "text",
    "id": "2SOJryBptmBf"
   },
   "source": [
    "### For S3"
   ]
  },
  {
   "cell_type": "code",
   "execution_count": 0,
   "metadata": {
    "colab": {},
    "colab_type": "code",
    "id": "eWHtTKM4tmBf"
   },
   "outputs": [],
   "source": [
    "s3_data=read_data('Airbag-S3.CSV')\n",
    "s3_combined = read_combined_data('S3-Combined.xlsx',s3_data)\n",
    "add_new_fall_value(s3_data,s3_combined)"
   ]
  },
  {
   "cell_type": "markdown",
   "metadata": {
    "colab_type": "text",
    "id": "RT0fVJeNtmBj"
   },
   "source": [
    "### For C1"
   ]
  },
  {
   "cell_type": "code",
   "execution_count": 0,
   "metadata": {
    "colab": {},
    "colab_type": "code",
    "id": "pdB5FuRItmBk"
   },
   "outputs": [],
   "source": [
    "c1_data=read_data('C1-Airbag.CSV')\n",
    "c1_combined = read_combined_data('C1-Combined.xlsx',c1_data)\n",
    "add_new_fall_value(c1_data,c1_combined)"
   ]
  },
  {
   "cell_type": "markdown",
   "metadata": {
    "colab_type": "text",
    "id": "uksNNXettmBp"
   },
   "source": [
    "### For C2"
   ]
  },
  {
   "cell_type": "code",
   "execution_count": 0,
   "metadata": {
    "colab": {},
    "colab_type": "code",
    "id": "LRywtVHCtmBq"
   },
   "outputs": [],
   "source": [
    "c2_data=read_data('C2-Airbag.CSV')\n",
    "c2_combined = read_combined_data('C2-Combined.xlsx',c2_data)\n",
    "add_new_fall_value(c2_data,c2_combined)"
   ]
  },
  {
   "cell_type": "markdown",
   "metadata": {
    "colab_type": "text",
    "id": "IDYkKyDRtmBt"
   },
   "source": [
    "\n",
    "### For C3"
   ]
  },
  {
   "cell_type": "code",
   "execution_count": 0,
   "metadata": {
    "colab": {},
    "colab_type": "code",
    "id": "OeWDTWqwtmBu"
   },
   "outputs": [],
   "source": [
    "c3_data=read_data('C3-Airbag.CSV')\n",
    "c3_combined = read_combined_data('C3-Combined.xlsx',c3_data)\n",
    "add_new_fall_value(c3_data,c3_combined)"
   ]
  },
  {
   "cell_type": "markdown",
   "metadata": {
    "colab_type": "text",
    "id": "nyj5AxhktmBx"
   },
   "source": [
    "# Create features with moving window"
   ]
  },
  {
   "cell_type": "code",
   "execution_count": 0,
   "metadata": {
    "colab": {
     "base_uri": "https://localhost:8080/",
     "height": 34
    },
    "colab_type": "code",
    "executionInfo": {
     "elapsed": 19685,
     "status": "ok",
     "timestamp": 1590072336489,
     "user": {
      "displayName": "Havish Nallapareddy",
      "photoUrl": "https://lh3.googleusercontent.com/a-/AOh14GhdLRYStZQgUBSm9r1X-IQHs7fMtPZbv323wDBB=s64",
      "userId": "05259030961832886810"
     },
     "user_tz": 300
    },
    "id": "DAOzI3BetmBx",
    "outputId": "f8d79940-f3d6-4c1d-8176-92c97725ad38"
   },
   "outputs": [
    {
     "data": {
      "text/plain": [
       "[50, 60, 70, 80, 90, 100, 110]"
      ]
     },
     "execution_count": 23,
     "metadata": {
      "tags": []
     },
     "output_type": "execute_result"
    }
   ],
   "source": [
    "window_size = 1000\n",
    "last_window = 210\n",
    "move_window = [10,20,50,100,150,200,250,300,350,400,2000]\n",
    "# for index in range(window_size,last_window,window_size):\n",
    "#     move_window.append(1000+index)\n",
    "\n",
    "\n",
    "model = RandomForestClassifier(random_state=2)\n",
    "n_estimators = list(range(50,120,10))\n",
    "params = {'n_estimators':n_estimators}\n",
    "groups = [1,2,3,4,5,6]\n",
    "split_model = LeaveOneGroupOut()\n",
    "data = [s1_data,s2_data,s3_data,c1_data,c2_data,c3_data]\n",
    "\n",
    "table = pd.DataFrame(columns={'lead time(in ms)','sensitivity','specificity'})\n",
    "move_window\n",
    "n_estimators"
   ]
  },
  {
   "cell_type": "code",
   "execution_count": 0,
   "metadata": {
    "colab": {
     "base_uri": "https://localhost:8080/",
     "height": 49
    },
    "colab_type": "code",
    "executionInfo": {
     "elapsed": 655,
     "status": "ok",
     "timestamp": 1590072337176,
     "user": {
      "displayName": "Havish Nallapareddy",
      "photoUrl": "https://lh3.googleusercontent.com/a-/AOh14GhdLRYStZQgUBSm9r1X-IQHs7fMtPZbv323wDBB=s64",
      "userId": "05259030961832886810"
     },
     "user_tz": 300
    },
    "id": "RHrBo68StmB0",
    "outputId": "6f471162-eca6-4a1d-fdcd-247514e031f2"
   },
   "outputs": [
    {
     "data": {
      "text/html": [
       "<div>\n",
       "<style scoped>\n",
       "    .dataframe tbody tr th:only-of-type {\n",
       "        vertical-align: middle;\n",
       "    }\n",
       "\n",
       "    .dataframe tbody tr th {\n",
       "        vertical-align: top;\n",
       "    }\n",
       "\n",
       "    .dataframe thead th {\n",
       "        text-align: right;\n",
       "    }\n",
       "</style>\n",
       "<table border=\"1\" class=\"dataframe\">\n",
       "  <thead>\n",
       "    <tr style=\"text-align: right;\">\n",
       "      <th></th>\n",
       "      <th>lead time(in ms)</th>\n",
       "      <th>sensitivity</th>\n",
       "      <th>specificity</th>\n",
       "    </tr>\n",
       "  </thead>\n",
       "  <tbody>\n",
       "  </tbody>\n",
       "</table>\n",
       "</div>"
      ],
      "text/plain": [
       "Empty DataFrame\n",
       "Columns: [lead time(in ms), sensitivity, specificity]\n",
       "Index: []"
      ]
     },
     "execution_count": 24,
     "metadata": {
      "tags": []
     },
     "output_type": "execute_result"
    }
   ],
   "source": [
    "table.head(10)"
   ]
  },
  {
   "cell_type": "markdown",
   "metadata": {
    "colab_type": "text",
    "id": "_UKufdhHtmCC"
   },
   "source": [
    "## Feature Extraction and Saving"
   ]
  },
  {
   "cell_type": "code",
   "execution_count": 0,
   "metadata": {
    "colab": {},
    "colab_type": "code",
    "id": "DqwM4-_jtmCE"
   },
   "outputs": [],
   "source": [
    "for index in move_window:\n",
    "    print(\"extracting features on moved window frame by:{} ms\".format(index))\n",
    "    data_count = 1\n",
    "    for temp_data in data:\n",
    "        feature = extract_feature(temp_data,move_window=index)\n",
    "        #saving features of each subject on a particular moving window\n",
    "        feature.to_csv(\"Programs/3_features/\"+str(index)+\"_\"+str(data_count)+ \".csv\", sep=',',index=False)\n",
    "        data_count += 1"
   ]
  },
  {
   "cell_type": "markdown",
   "metadata": {
    "colab_type": "text",
    "id": "nuGn-m9K4ti1"
   },
   "source": [
    "## RNN model"
   ]
  },
  {
   "cell_type": "markdown",
   "metadata": {
    "colab_type": "text",
    "id": "st8qho5KjFrf"
   },
   "source": [
    "### Feature extraction and saving rnn"
   ]
  },
  {
   "cell_type": "code",
   "execution_count": 0,
   "metadata": {
    "colab": {
     "base_uri": "https://localhost:8080/",
     "height": 204
    },
    "colab_type": "code",
    "executionInfo": {
     "elapsed": 465047,
     "status": "ok",
     "timestamp": 1590014943147,
     "user": {
      "displayName": "Havish Nallapareddy",
      "photoUrl": "https://lh3.googleusercontent.com/a-/AOh14GhdLRYStZQgUBSm9r1X-IQHs7fMtPZbv323wDBB=s64",
      "userId": "05259030961832886810"
     },
     "user_tz": 300
    },
    "id": "9F8EzIlv4tOn",
    "outputId": "2cd4afc9-5612-48fd-f811-f1a084c4f393"
   },
   "outputs": [
    {
     "name": "stdout",
     "output_type": "stream",
     "text": [
      "extracting features on moved window frame by:10 ms\n",
      "extracting features on moved window frame by:20 ms\n",
      "extracting features on moved window frame by:50 ms\n",
      "extracting features on moved window frame by:100 ms\n",
      "extracting features on moved window frame by:150 ms\n",
      "extracting features on moved window frame by:200 ms\n",
      "extracting features on moved window frame by:250 ms\n",
      "extracting features on moved window frame by:300 ms\n",
      "extracting features on moved window frame by:350 ms\n",
      "extracting features on moved window frame by:400 ms\n",
      "extracting features on moved window frame by:2000 ms\n"
     ]
    }
   ],
   "source": [
    "for index in move_window:\n",
    "    print(\"extracting features on moved window frame by:{} ms\".format(index))\n",
    "    data_count = 1\n",
    "    for temp_data in data:\n",
    "        feature = extract_rnn_feature(temp_data,move_window=index)\n",
    "        #saving features of each subject on a particular moving window\n",
    "        feature.to_csv(\"Programs/RNN_features/\"+str(index)+\"_\"+str(data_count)+ \".csv\", sep=',',index=False)\n",
    "        data_count += 1"
   ]
  },
  {
   "cell_type": "code",
   "execution_count": 0,
   "metadata": {
    "colab": {},
    "colab_type": "code",
    "id": "b_4l3wy3mk7h"
   },
   "outputs": [],
   "source": [
    "def create_dataset_mag(dataset, look_back=1):\n",
    "\tdataset = dataset[['accel_base_mag','fall_value']]\n",
    "\tdataX, dataY = [], []\n",
    "\tfor i in range(len(dataset)-look_back-1):\n",
    "\t\ta = dataset[i:(i+look_back), 0]\n",
    "\t\tdataX.append(a)\n",
    "\t\tdataY.append(dataset[i + look_back, 1])\n",
    "\treturn numpy.array(dataX), numpy.array(dataY)"
   ]
  },
  {
   "cell_type": "code",
   "execution_count": 0,
   "metadata": {
    "colab": {},
    "colab_type": "code",
    "id": "jFrBBCMqtRYS"
   },
   "outputs": [],
   "source": [
    "def create_df_xyz(dataset,look_back):\n",
    "  dataset = dataset[['accel_base_X','accel_base_Y','accel_base_Z','fall_value']]\n",
    "  data_df = pd.DataFrame(columns=['X','Y'])\n",
    "  print(\"hello\")\n",
    "\n",
    "  for i in range(0,dataset.shape[0]-look_back-1,60):\n",
    "    a = dataset.iloc[i:i+look_back, :3].values\n",
    "    b = dataset.iloc[i + look_back, 3]\n",
    "    # print(a)\n",
    "    # print(b)\n",
    "    if(i%1000 == 0):\n",
    "       print(i) \n",
    "    data_df = data_df.append({'X':a,'Y':b},ignore_index=True)\n",
    "  return data_df"
   ]
  },
  {
   "cell_type": "code",
   "execution_count": 0,
   "metadata": {
    "colab": {},
    "colab_type": "code",
    "id": "2nLhxVnM9B2V"
   },
   "outputs": [],
   "source": [
    "def create_df_mag(dataset,look_back,rem_range = 500,skip = 50):\n",
    "\n",
    "  fall_sec = dataset[dataset['fall_value']==1].index.values.tolist()\n",
    "  dataset = dataset[['accel_base_mag','fall_value']]\n",
    "  data_df = pd.DataFrame(columns=['X','Y'])\n",
    "  print('Fall_sec: ',fall_sec)\n",
    "  \n",
    "  end_list = []  #edge condition for non-fall values\n",
    "  start_list = [0]\n",
    "  #prepare window frame \n",
    "  for i in range(len(fall_sec)):\n",
    "      end_list.append(fall_sec[i] - rem_range)\n",
    "      start_list.append(fall_sec[i] + rem_range)\n",
    "  end_list.append(dataset.shape[0]-look_back-1)  \n",
    "  \n",
    "  #add fall values\n",
    "  for i in range(len(fall_sec)):\n",
    "    # print('row claculating fall: ',fall_sec[i])\n",
    "    a = dataset.iloc[fall_sec[i]-look_back:fall_sec[i], 0].values\n",
    "    a = numpy.reshape(a,(100,1,)).tolist()\n",
    "    b = dataset.iloc[fall_sec[i], 1]\n",
    "    data_df = data_df.append({'X':a,'Y':b},ignore_index=True)\n",
    "  print(\"Added total falls of \",str(len(fall_sec)))\n",
    "  #add non-fall values\n",
    "  for start,end in zip(start_list,end_list):\n",
    "      for i in range(start,end,skip):\n",
    "        a = dataset.iloc[i:i+look_back, 0].values\n",
    "        a = numpy.reshape(a,(100,1,)).tolist()\n",
    "        b = dataset.iloc[i + look_back, 1]\n",
    "        if(i%100000 == 0):\n",
    "          print('row claculating',i) \n",
    "        data_df = data_df.append({'X':a,'Y':b},ignore_index=True)\n",
    "  \n",
    "  val = data_df.values\n",
    "  X = np.reshape(val[:,0].tolist(),(val.shape[0],look_back,1))\n",
    "  Y = np.reshape(val[:,1].tolist(),(val.shape[0],1))\n",
    "  return X,Y"
   ]
  },
  {
   "cell_type": "code",
   "execution_count": 0,
   "metadata": {
    "colab": {},
    "colab_type": "code",
    "id": "GRFheIJHNT0a"
   },
   "outputs": [],
   "source": [
    "look_back = 100"
   ]
  },
  {
   "cell_type": "code",
   "execution_count": 0,
   "metadata": {
    "colab": {},
    "colab_type": "code",
    "id": "bOAKtadZtt8L"
   },
   "outputs": [],
   "source": [
    "trainX,trainY = create_df_mag(temp_df,look_back)"
   ]
  },
  {
   "cell_type": "code",
   "execution_count": 0,
   "metadata": {
    "colab": {
     "base_uri": "https://localhost:8080/",
     "height": 51
    },
    "colab_type": "code",
    "executionInfo": {
     "elapsed": 865,
     "status": "ok",
     "timestamp": 1590174465475,
     "user": {
      "displayName": "Havish Nallapareddy",
      "photoUrl": "https://lh3.googleusercontent.com/a-/AOh14GhdLRYStZQgUBSm9r1X-IQHs7fMtPZbv323wDBB=s64",
      "userId": "05259030961832886810"
     },
     "user_tz": 300
    },
    "id": "hsao-LqyFKNN",
    "outputId": "7b892eb2-f5cc-4857-8fb6-054faad4ea41"
   },
   "outputs": [
    {
     "name": "stdout",
     "output_type": "stream",
     "text": [
      "(31566, 100, 1)\n",
      "(31566, 1)\n"
     ]
    }
   ],
   "source": [
    "print(trainX.shape)\n",
    "print(trainY.shape)"
   ]
  },
  {
   "cell_type": "code",
   "execution_count": 0,
   "metadata": {
    "colab": {},
    "colab_type": "code",
    "id": "bZmCZqpvhkUN"
   },
   "outputs": [],
   "source": [
    "temp_df = pd.read_csv('Programs/RNN_features/10_2.csv')"
   ]
  },
  {
   "cell_type": "code",
   "execution_count": 0,
   "metadata": {
    "colab": {},
    "colab_type": "code",
    "id": "ZmnR-nLuiLvx"
   },
   "outputs": [],
   "source": [
    "testX,testY = create_df_mag(temp_df,look_back)"
   ]
  },
  {
   "cell_type": "code",
   "execution_count": 0,
   "metadata": {
    "colab": {
     "base_uri": "https://localhost:8080/",
     "height": 51
    },
    "colab_type": "code",
    "executionInfo": {
     "elapsed": 822,
     "status": "ok",
     "timestamp": 1590174587225,
     "user": {
      "displayName": "Havish Nallapareddy",
      "photoUrl": "https://lh3.googleusercontent.com/a-/AOh14GhdLRYStZQgUBSm9r1X-IQHs7fMtPZbv323wDBB=s64",
      "userId": "05259030961832886810"
     },
     "user_tz": 300
    },
    "id": "GVeYt-wsJu6q",
    "outputId": "8fe567aa-9911-412a-8406-a8815564050d"
   },
   "outputs": [
    {
     "name": "stdout",
     "output_type": "stream",
     "text": [
      "(28696, 100, 1)\n",
      "(28696, 1)\n"
     ]
    }
   ],
   "source": [
    "print(testX.shape)\n",
    "print(testY.shape)"
   ]
  },
  {
   "cell_type": "code",
   "execution_count": 0,
   "metadata": {
    "colab": {
     "base_uri": "https://localhost:8080/",
     "height": 34
    },
    "colab_type": "code",
    "executionInfo": {
     "elapsed": 803,
     "status": "ok",
     "timestamp": 1590174589577,
     "user": {
      "displayName": "Havish Nallapareddy",
      "photoUrl": "https://lh3.googleusercontent.com/a-/AOh14GhdLRYStZQgUBSm9r1X-IQHs7fMtPZbv323wDBB=s64",
      "userId": "05259030961832886810"
     },
     "user_tz": 300
    },
    "id": "dXKItKBpgdSj",
    "outputId": "6c835019-8183-4768-a4fb-3d6f5b648aea"
   },
   "outputs": [
    {
     "name": "stdout",
     "output_type": "stream",
     "text": [
      "30\n"
     ]
    }
   ],
   "source": [
    "count = 0\n",
    "for i in testY:\n",
    "  if i == [1]:\n",
    "    count+=1\n",
    "print(count)"
   ]
  },
  {
   "cell_type": "code",
   "execution_count": 0,
   "metadata": {
    "colab": {},
    "colab_type": "code",
    "id": "V6ureeaSLT4L"
   },
   "outputs": [],
   "source": [
    "# dumtrainX.append(dumtestX)\n",
    "\n",
    "for i in range(1,6):\n",
    "  temp_df = pd.read_csv('Programs/RNN_features/10_'+str(i)+'.csv')\n",
    "  print('calculating for ', i)\n",
    "  X,Y = create_df_mag(temp_df,look_back)\n",
    "  if i == 1:\n",
    "    dumtrainX = X\n",
    "    dumtrainY = Y\n",
    "  else:\n",
    "    dumtrainX = np.concatenate((dumtrainX,X))\n",
    "    dumtrainY = np.concatenate((dumtrainY,Y))"
   ]
  },
  {
   "cell_type": "markdown",
   "metadata": {
    "colab_type": "text",
    "id": "hyJFZBRimhpz"
   },
   "source": [
    "### RNN Model"
   ]
  },
  {
   "cell_type": "code",
   "execution_count": 0,
   "metadata": {
    "colab": {
     "base_uri": "https://localhost:8080/",
     "height": 527
    },
    "colab_type": "code",
    "executionInfo": {
     "elapsed": 617261,
     "status": "ok",
     "timestamp": 1590183222029,
     "user": {
      "displayName": "Havish Nallapareddy",
      "photoUrl": "https://lh3.googleusercontent.com/a-/AOh14GhdLRYStZQgUBSm9r1X-IQHs7fMtPZbv323wDBB=s64",
      "userId": "05259030961832886810"
     },
     "user_tz": 300
    },
    "id": "zX6f9455gizz",
    "outputId": "9e8a7236-6284-476a-e3c7-6e47ad4cc4ea"
   },
   "outputs": [
    {
     "name": "stdout",
     "output_type": "stream",
     "text": [
      "Model: \"sequential_10\"\n",
      "_________________________________________________________________\n",
      "Layer (type)                 Output Shape              Param #   \n",
      "=================================================================\n",
      "lstm_10 (LSTM)               (None, 100)               40800     \n",
      "_________________________________________________________________\n",
      "dense_10 (Dense)             (None, 1)                 101       \n",
      "=================================================================\n",
      "Total params: 40,901\n",
      "Trainable params: 40,901\n",
      "Non-trainable params: 0\n",
      "_________________________________________________________________\n",
      "None\n",
      "Epoch 1/8\n",
      "126168/126168 [==============================] - 79s 625us/step - loss: 0.0894 - accuracy: 0.9847\n",
      "Epoch 2/8\n",
      "126168/126168 [==============================] - 79s 626us/step - loss: 0.0093 - accuracy: 0.9989\n",
      "Epoch 3/8\n",
      "126168/126168 [==============================] - 80s 636us/step - loss: 0.0076 - accuracy: 0.9989\n",
      "Epoch 4/8\n",
      "126168/126168 [==============================] - 76s 606us/step - loss: 0.0071 - accuracy: 0.9989\n",
      "Epoch 5/8\n",
      "126168/126168 [==============================] - 76s 604us/step - loss: 0.0067 - accuracy: 0.9989\n",
      "Epoch 6/8\n",
      "126168/126168 [==============================] - 76s 599us/step - loss: 0.0064 - accuracy: 0.9989\n",
      "Epoch 7/8\n",
      "126168/126168 [==============================] - 75s 594us/step - loss: 0.0061 - accuracy: 0.9989\n",
      "Epoch 8/8\n",
      "126168/126168 [==============================] - 75s 591us/step - loss: 0.0058 - accuracy: 0.9989\n"
     ]
    },
    {
     "data": {
      "text/plain": [
       "<keras.callbacks.callbacks.History at 0x7fd78ffdb4a8>"
      ]
     },
     "execution_count": 56,
     "metadata": {
      "tags": []
     },
     "output_type": "execute_result"
    }
   ],
   "source": [
    "# model.compile(loss='mean_squared_error', optimizer='adam')\n",
    "# history = model.fit(trainX, trainY, epochs=10, batch_size=1024, verbose=2)\n",
    "\n",
    "# create the model\n",
    "model = Sequential()\n",
    "model.add(LSTM(100, input_shape=(look_back, 1)))\n",
    "model.add(Dense(1,activation='sigmoid'))\n",
    "model.compile(loss='binary_crossentropy', optimizer='adam', metrics=['accuracy'])\n",
    "print(model.summary())\n",
    "# model.fit(trainX, trainY, validation_data=(testX, testY), epochs=5, batch_size=256)\n",
    "model.fit(dumtrainX, dumtrainY, epochs=8, batch_size=256)"
   ]
  },
  {
   "cell_type": "code",
   "execution_count": 0,
   "metadata": {
    "colab": {
     "base_uri": "https://localhost:8080/",
     "height": 34
    },
    "colab_type": "code",
    "executionInfo": {
     "elapsed": 1094,
     "status": "ok",
     "timestamp": 1590183482455,
     "user": {
      "displayName": "Havish Nallapareddy",
      "photoUrl": "https://lh3.googleusercontent.com/a-/AOh14GhdLRYStZQgUBSm9r1X-IQHs7fMtPZbv323wDBB=s64",
      "userId": "05259030961832886810"
     },
     "user_tz": 300
    },
    "id": "cqq8b1o9UXhf",
    "outputId": "96eaf5d2-7afc-414c-d235-c6c01a869449"
   },
   "outputs": [
    {
     "name": "stdout",
     "output_type": "stream",
     "text": [
      "139\n"
     ]
    }
   ],
   "source": [
    "count = 0\n",
    "for i in dumtrainY:\n",
    "  if i == [1]:\n",
    "    count+=1\n",
    "print(count)"
   ]
  },
  {
   "cell_type": "code",
   "execution_count": 0,
   "metadata": {
    "colab": {
     "base_uri": "https://localhost:8080/",
     "height": 34
    },
    "colab_type": "code",
    "executionInfo": {
     "elapsed": 12514,
     "status": "ok",
     "timestamp": 1590183257063,
     "user": {
      "displayName": "Havish Nallapareddy",
      "photoUrl": "https://lh3.googleusercontent.com/a-/AOh14GhdLRYStZQgUBSm9r1X-IQHs7fMtPZbv323wDBB=s64",
      "userId": "05259030961832886810"
     },
     "user_tz": 300
    },
    "id": "pmSmLoUw6gW-",
    "outputId": "90945d12-abb7-48ea-f861-774ef70a993c"
   },
   "outputs": [
    {
     "name": "stdout",
     "output_type": "stream",
     "text": [
      "Accuracy: 99.90%\n"
     ]
    }
   ],
   "source": [
    "# Final evaluation of the model\n",
    "scores = model.evaluate(testX, testY, verbose=0)\n",
    "print(\"Accuracy: %.2f%%\" % (scores[1]*100))"
   ]
  },
  {
   "cell_type": "code",
   "execution_count": 0,
   "metadata": {
    "colab": {},
    "colab_type": "code",
    "id": "Z0_SHDuxD-Ce"
   },
   "outputs": [],
   "source": [
    "testPredict = model.predict(testX)"
   ]
  },
  {
   "cell_type": "code",
   "execution_count": 0,
   "metadata": {
    "colab": {},
    "colab_type": "code",
    "id": "m1_Jrnt8ysWG"
   },
   "outputs": [],
   "source": [
    "testPredict_class = model.predict_classes(testX)"
   ]
  },
  {
   "cell_type": "code",
   "execution_count": 0,
   "metadata": {
    "colab": {
     "base_uri": "https://localhost:8080/",
     "height": 34
    },
    "colab_type": "code",
    "executionInfo": {
     "elapsed": 1189,
     "status": "ok",
     "timestamp": 1590178550325,
     "user": {
      "displayName": "Havish Nallapareddy",
      "photoUrl": "https://lh3.googleusercontent.com/a-/AOh14GhdLRYStZQgUBSm9r1X-IQHs7fMtPZbv323wDBB=s64",
      "userId": "05259030961832886810"
     },
     "user_tz": 300
    },
    "id": "dfEO-6-xzI_W",
    "outputId": "99d99b9a-b7f3-4e19-e19f-6a55464fa00b"
   },
   "outputs": [
    {
     "data": {
      "text/plain": [
       "array([0], dtype=int32)"
      ]
     },
     "execution_count": 37,
     "metadata": {
      "tags": []
     },
     "output_type": "execute_result"
    }
   ],
   "source": [
    "testPredict[1]"
   ]
  },
  {
   "cell_type": "code",
   "execution_count": 0,
   "metadata": {
    "colab": {
     "base_uri": "https://localhost:8080/",
     "height": 265
    },
    "colab_type": "code",
    "executionInfo": {
     "elapsed": 785,
     "status": "ok",
     "timestamp": 1590179254337,
     "user": {
      "displayName": "Havish Nallapareddy",
      "photoUrl": "https://lh3.googleusercontent.com/a-/AOh14GhdLRYStZQgUBSm9r1X-IQHs7fMtPZbv323wDBB=s64",
      "userId": "05259030961832886810"
     },
     "user_tz": 300
    },
    "id": "wPPM1Z9-EZtS",
    "outputId": "cd0c6a43-464b-4418-b6d2-51a7dadb23e2"
   },
   "outputs": [
    {
     "data": {
      "image/png": "[encoded data removed]",
      "text/plain": [
       "<Figure size 432x288 with 1 Axes>"
      ]
     },
     "metadata": {
      "needs_background": "light",
      "tags": []
     },
     "output_type": "display_data"
    }
   ],
   "source": [
    "plt.plot(testY)\n",
    "plt.show()"
   ]
  },
  {
   "cell_type": "code",
   "execution_count": 0,
   "metadata": {
    "colab": {
     "base_uri": "https://localhost:8080/",
     "height": 265
    },
    "colab_type": "code",
    "executionInfo": {
     "elapsed": 1001,
     "status": "ok",
     "timestamp": 1590183393300,
     "user": {
      "displayName": "Havish Nallapareddy",
      "photoUrl": "https://lh3.googleusercontent.com/a-/AOh14GhdLRYStZQgUBSm9r1X-IQHs7fMtPZbv323wDBB=s64",
      "userId": "05259030961832886810"
     },
     "user_tz": 300
    },
    "id": "obWaJdcGywjm",
    "outputId": "acdb0b06-d3f9-4d51-b064-f49fca2765b8"
   },
   "outputs": [
    {
     "data": {
      "image/png": "[encoded data removed]",
      "text/plain": [
       "<Figure size 432x288 with 1 Axes>"
      ]
     },
     "metadata": {
      "needs_background": "light",
      "tags": []
     },
     "output_type": "display_data"
    }
   ],
   "source": [
    "plt.plot(testPredict_class)\n",
    "plt.show()"
   ]
  },
  {
   "cell_type": "markdown",
   "metadata": {
    "colab_type": "text",
    "id": "H2tAbLjVmpuD"
   },
   "source": [
    "### RNN sensitivity with specificity"
   ]
  },
  {
   "cell_type": "code",
   "execution_count": 0,
   "metadata": {
    "colab": {},
    "colab_type": "code",
    "id": "puyWb1CpxEx5"
   },
   "outputs": [],
   "source": [
    "def create_df_mag(dataset,look_back,rem_range = 500,skip = 50):\n",
    "\n",
    "  fall_sec = dataset[dataset['fall_value']==1].index.values.tolist()\n",
    "  dataset = dataset[['accel_base_mag','fall_value']]\n",
    "  data_df = pd.DataFrame(columns=['X','Y'])\n",
    "  print('Fall_sec: ',fall_sec)\n",
    "  \n",
    "  end_list = []  #edge condition for non-fall values\n",
    "  start_list = [0]\n",
    "  #prepare window frame \n",
    "  for i in range(len(fall_sec)):\n",
    "      end_list.append(fall_sec[i] - rem_range)\n",
    "      start_list.append(fall_sec[i] + rem_range)\n",
    "  end_list.append(dataset.shape[0]-look_back-1)  \n",
    "  \n",
    "  #add fall values\n",
    "  for i in range(len(fall_sec)):\n",
    "    # print('row claculating fall: ',fall_sec[i])\n",
    "    a = dataset.iloc[fall_sec[i]-look_back:fall_sec[i], 0].values\n",
    "    a = numpy.reshape(a,(100,1,)).tolist()\n",
    "    b = dataset.iloc[fall_sec[i], 1]\n",
    "    data_df = data_df.append({'X':a,'Y':b},ignore_index=True)\n",
    "  print(\"Added total falls of \",str(len(fall_sec)))\n",
    "  #add non-fall values\n",
    "  for start,end in zip(start_list,end_list):\n",
    "      for i in range(start,end,skip):\n",
    "        a = dataset.iloc[i:i+look_back, 0].values\n",
    "        a = numpy.reshape(a,(100,1,)).tolist()\n",
    "        b = dataset.iloc[i + look_back, 1]\n",
    "        if(i%100000 == 0):\n",
    "          print('row claculating',i) \n",
    "        data_df = data_df.append({'X':a,'Y':b},ignore_index=True)\n",
    "  \n",
    "  # val = data_df.values\n",
    "  # X = np.reshape(val[:,0].tolist(),(val.shape[0],look_back,1))\n",
    "  # Y = np.reshape(val[:,1].tolist(),(val.shape[0],1))\n",
    "  # return X,Y\n",
    "  return data_df"
   ]
  },
  {
   "cell_type": "code",
   "execution_count": 0,
   "metadata": {
    "colab": {},
    "colab_type": "code",
    "id": "jyE6YHd1mkiq"
   },
   "outputs": [],
   "source": [
    "specificity = 0.99\n",
    "tpr_tnr_table = pd.DataFrame(columns={'lead time(in ms)','sensitivity','specificity'})\n",
    "move_window = [10,100,200,300,400,2000]"
   ]
  },
  {
   "cell_type": "code",
   "execution_count": 0,
   "metadata": {
    "colab": {},
    "colab_type": "code",
    "id": "gijFNAH2uVV2"
   },
   "outputs": [],
   "source": [
    "move_window = [10,100,200,300,400,2000]\n",
    "look_back = 100\n",
    "for index in move_window:\n",
    "  for i in range(1,7):\n",
    "    temp_df = pd.read_csv('Programs/RNN_features/'+str(index)+\"_\"+str(i)+'.csv')\n",
    "    print('calculating for ', i)\n",
    "    temp_df = create_df_mag(temp_df,look_back)\n",
    "    temp_df.to_csv(\"Programs/RNN_sequence_features/\"+str(index)+\"_\"+str(i)+ \".csv\", sep=',',index=False)"
   ]
  },
  {
   "cell_type": "code",
   "execution_count": 0,
   "metadata": {
    "colab": {},
    "colab_type": "code",
    "id": "35YnraE8sVmv"
   },
   "outputs": [],
   "source": [
    "for index in move_window:\n",
    "    X = []\n",
    "    Y = []\n",
    "    print(\"reading features on moved window frame by:{} ms\".format(index))\n",
    "    \n",
    "    for inner_index in range(1,7):\n",
    "        feature = pd.read_csv(\"Programs/RNN_sequence_features/\"+str(index)+\"_\"+str(inner_index)+ \".csv\")\n",
    "        val = feature.values\n",
    "        if i == 1:\n",
    "          dumtrainX = X\n",
    "          dumtrainY = Y\n",
    "        else:\n",
    "          dumtrainX = np.concatenate((dumtrainX,X))\n",
    "          dumtrainY = np.concatenate((dumtrainY,Y))\n",
    "        dumX = np.reshape(val[:,0].tolist(),(val.shape[0],look_back,1))\n",
    "        dumY = np.reshape(val[:,1].tolist(),(val.shape[0],1))\n",
    "        X.append(feature[['min_acc','max_acc','right_most']])\n",
    "        Y.append(feature[['fall_value']])\n",
    "        \n",
    "    print(\"calculating sensitivity on moved window frame by:{} ms\".format(index))\n",
    "    \n",
    "    sens = cal_sensitivity_with_specificity(X, Y, groups, split_model, model, params,specificity)\n",
    "    tpr_tnr_table = tpr_tnr_table.append({'lead time(in ms)':index,'sensitivity':round(sens,3),'specificity':(specificity)},\n",
    "                       ignore_index = True)"
   ]
  },
  {
   "cell_type": "markdown",
   "metadata": {
    "colab_type": "text",
    "id": "GoM6U7uhtmB3"
   },
   "source": [
    "## Sensitivity with specificity"
   ]
  },
  {
   "cell_type": "code",
   "execution_count": 0,
   "metadata": {
    "colab": {},
    "colab_type": "code",
    "id": "1PZZMhvbtmB4"
   },
   "outputs": [],
   "source": [
    "specificity = 0.99\n",
    "tpr_tnr_table = pd.DataFrame(columns={'lead time(in ms)','sensitivity','specificity'})\n",
    "move_window = [10,100,200,300,400,2000]"
   ]
  },
  {
   "cell_type": "code",
   "execution_count": 0,
   "metadata": {
    "colab": {},
    "colab_type": "code",
    "id": "nbVyyoYWtmB6",
    "outputId": "52438110-24a0-4ddd-fabb-b801f7b7706f",
    "scrolled": true
   },
   "outputs": [
    {
     "name": "stdout",
     "output_type": "stream",
     "text": [
      "reading features on moved window frame by:10 ms\n",
      "calculating sensitivity on moved window frame by:10 ms\n",
      "trail Outer Cross Validation\n",
      "reading features on moved window frame by:100 ms\n",
      "calculating sensitivity on moved window frame by:100 ms\n",
      "trail Outer Cross Validation\n",
      "reading features on moved window frame by:200 ms\n",
      "calculating sensitivity on moved window frame by:200 ms\n",
      "trail Outer Cross Validation\n",
      "reading features on moved window frame by:300 ms\n",
      "calculating sensitivity on moved window frame by:300 ms\n",
      "trail Outer Cross Validation\n",
      "reading features on moved window frame by:400 ms\n",
      "calculating sensitivity on moved window frame by:400 ms\n",
      "trail Outer Cross Validation\n",
      "reading features on moved window frame by:2000 ms\n",
      "calculating sensitivity on moved window frame by:2000 ms\n",
      "trail Outer Cross Validation\n"
     ]
    }
   ],
   "source": [
    "for index in move_window:\n",
    "    X = []\n",
    "    Y = []\n",
    "    print(\"reading features on moved window frame by:{} ms\".format(index))\n",
    "    \n",
    "    for inner_index in range(1,7):\n",
    "        feature = pd.read_csv(\"./3_features/\"+str(index)+\"_\"+str(inner_index)+ \".csv\")\n",
    "        X.append(feature[['min_acc','max_acc','right_most']])\n",
    "        Y.append(feature[['fall_value']])\n",
    "        \n",
    "    print(\"calculating sensitivity on moved window frame by:{} ms\".format(index))\n",
    "    \n",
    "    sens = cal_sensitivity_with_specificity(X, Y, groups, split_model, model, params,specificity)\n",
    "    tpr_tnr_table = tpr_tnr_table.append({'lead time(in ms)':index,'sensitivity':round(sens,3),'specificity':(specificity)},\n",
    "                       ignore_index = True)"
   ]
  },
  {
   "cell_type": "code",
   "execution_count": 0,
   "metadata": {
    "colab": {},
    "colab_type": "code",
    "id": "TDxDRWgLtmB-",
    "outputId": "76f09e76-7140-45e4-96a0-022ae54540f1"
   },
   "outputs": [
    {
     "data": {
      "text/html": [
       "<div>\n",
       "<style scoped>\n",
       "    .dataframe tbody tr th:only-of-type {\n",
       "        vertical-align: middle;\n",
       "    }\n",
       "\n",
       "    .dataframe tbody tr th {\n",
       "        vertical-align: top;\n",
       "    }\n",
       "\n",
       "    .dataframe thead th {\n",
       "        text-align: right;\n",
       "    }\n",
       "</style>\n",
       "<table border=\"1\" class=\"dataframe\">\n",
       "  <thead>\n",
       "    <tr style=\"text-align: right;\">\n",
       "      <th></th>\n",
       "      <th>lead time(in ms)</th>\n",
       "      <th>specificity</th>\n",
       "      <th>sensitivity</th>\n",
       "    </tr>\n",
       "  </thead>\n",
       "  <tbody>\n",
       "    <tr>\n",
       "      <th>0</th>\n",
       "      <td>10.0</td>\n",
       "      <td>0.99</td>\n",
       "      <td>0.944</td>\n",
       "    </tr>\n",
       "    <tr>\n",
       "      <th>1</th>\n",
       "      <td>100.0</td>\n",
       "      <td>0.99</td>\n",
       "      <td>0.664</td>\n",
       "    </tr>\n",
       "    <tr>\n",
       "      <th>2</th>\n",
       "      <td>200.0</td>\n",
       "      <td>0.99</td>\n",
       "      <td>0.629</td>\n",
       "    </tr>\n",
       "    <tr>\n",
       "      <th>3</th>\n",
       "      <td>300.0</td>\n",
       "      <td>0.99</td>\n",
       "      <td>0.511</td>\n",
       "    </tr>\n",
       "    <tr>\n",
       "      <th>4</th>\n",
       "      <td>400.0</td>\n",
       "      <td>0.99</td>\n",
       "      <td>0.395</td>\n",
       "    </tr>\n",
       "    <tr>\n",
       "      <th>5</th>\n",
       "      <td>2000.0</td>\n",
       "      <td>0.99</td>\n",
       "      <td>0.006</td>\n",
       "    </tr>\n",
       "  </tbody>\n",
       "</table>\n",
       "</div>"
      ],
      "text/plain": [
       "   lead time(in ms)  specificity  sensitivity\n",
       "0              10.0         0.99        0.944\n",
       "1             100.0         0.99        0.664\n",
       "2             200.0         0.99        0.629\n",
       "3             300.0         0.99        0.511\n",
       "4             400.0         0.99        0.395\n",
       "5            2000.0         0.99        0.006"
      ]
     },
     "execution_count": 55,
     "metadata": {
      "tags": []
     },
     "output_type": "execute_result"
    }
   ],
   "source": [
    "tpr_tnr_table.head(6)"
   ]
  },
  {
   "cell_type": "markdown",
   "metadata": {
    "colab_type": "text",
    "id": "Wnbw0HLutmCJ"
   },
   "source": [
    "## ROC graph on moving window"
   ]
  },
  {
   "cell_type": "code",
   "execution_count": 0,
   "metadata": {
    "colab": {},
    "colab_type": "code",
    "id": "-UtyKY0EtmCJ",
    "outputId": "35f57d63-485d-4685-b082-93b5e6ac8662"
   },
   "outputs": [
    {
     "name": "stdout",
     "output_type": "stream",
     "text": [
      "predicting on features by moved window frame by:10 ms\n",
      "predicting on features by moved window frame by:100 ms\n",
      "predicting on features by moved window frame by:200 ms\n",
      "predicting on features by moved window frame by:300 ms\n",
      "predicting on features by moved window frame by:400 ms\n",
      "predicting on features by moved window frame by:2000 ms\n"
     ]
    },
    {
     "data": {
      "image/png": "[encoded data removed]",
      "text/plain": [
       "<Figure size 720x504 with 1 Axes>"
      ]
     },
     "metadata": {
      "needs_background": "light",
      "tags": []
     },
     "output_type": "display_data"
    }
   ],
   "source": [
    "move_window = [10,100,200,300,400,2000]\n",
    "plt.figure(figsize=(10,7))\n",
    "auc_values = []\n",
    "dict_tpr = dict()\n",
    "dict_fpr = dict()\n",
    "dict_auc = dict()\n",
    "\n",
    "for index in move_window:\n",
    "    X = []\n",
    "    Y = []\n",
    "    print(\"predicting on features by moved window frame by:{} ms\".format(index))\n",
    "    for inner_index in range(1,7):\n",
    "        feature = pd.read_csv(\"./3_features/\"+str(index)+\"_\"+str(inner_index)+ \".csv\")\n",
    "        X.append(feature[['min_acc','max_acc','right_most']])\n",
    "        Y.append(feature[['fall_value']])\n",
    "    tprs,mean_fpr,aucs = trail_roc_outer_cross_val(X, Y, groups, split_model, model, params)\n",
    "    mean_tpr = np.mean(tprs, axis=0)\n",
    "    mean_tpr[-1] = 1.0\n",
    "    mean_auc = auc(mean_fpr, mean_tpr)\n",
    "    auc_values.append(round(mean_auc,3))\n",
    "    std_auc = np.std(aucs)\n",
    "    dict_tpr[index] = mean_tpr\n",
    "    dict_fpr[index] = mean_fpr\n",
    "    dict_auc[index] = aucs\n",
    "    plt.plot(mean_fpr, mean_tpr,\n",
    "             label=str(index)+' ms ROC (AUC = %0.2f $\\pm$ %0.2f)' % (mean_auc, std_auc),\n",
    "             lw=2, alpha=.9)\n",
    "    \n",
    "plt.plot([0, 1], [0, 1], linestyle='--', lw=2, color='r',\n",
    "     label='Chance', alpha=.8) \n",
    "\n",
    "plt.xlim([-0.01, 0.1])\n",
    "plt.ylim([0, 1.05])\n",
    "\n",
    "plt.tick_params(labelsize=11)\n",
    "plt.xlabel('False Positive Rate',fontsize = 14 )\n",
    "plt.ylabel('True Positive Rate', fontsize = 14 )\n",
    "plt.legend(loc=\"lower right\")\n",
    "img_name = 'ROC_curve'+' ms.png'\n",
    "plt.savefig(img_name)\n",
    "plt.show()"
   ]
  },
  {
   "cell_type": "code",
   "execution_count": 0,
   "metadata": {
    "colab": {},
    "colab_type": "code",
    "id": "Yp3X3t6ctmCM",
    "outputId": "050c2ae2-5800-4c26-9a79-c9f70b3224c9"
   },
   "outputs": [
    {
     "data": {
      "image/png": "[encoded data removed]",
      "text/plain": [
       "<Figure size 720x504 with 1 Axes>"
      ]
     },
     "metadata": {
      "needs_background": "light",
      "tags": []
     },
     "output_type": "display_data"
    }
   ],
   "source": [
    "move_window = [10,100,200,300,400,2000]\n",
    "plt.figure(figsize=(10,7))\n",
    "auc_values = []\n",
    "\n",
    "for index in move_window:\n",
    "    mean_tpr = dict_tpr[index]\n",
    "    mean_fpr = dict_fpr[index]\n",
    "    aucs = dict_auc[index] \n",
    "    mean_auc = auc(mean_fpr, mean_tpr)\n",
    "    auc_values.append(round(mean_auc,3))\n",
    "    std_auc = np.std(aucs)\n",
    "    plt.plot(mean_fpr, mean_tpr,\n",
    "             label=str(index)+' ms ROC (AUC = %0.2f )' % (mean_auc),\n",
    "             lw=2, alpha=.9)\n",
    "    \n",
    "plt.plot([0, 1], [0, 1], linestyle='--', lw=2, color='r',\n",
    "     label='Chance', alpha=.8) \n",
    "\n",
    "plt.xlim([-0.002, 0.05])\n",
    "plt.ylim([-0.03, 1.05])\n",
    "\n",
    "plt.tick_params(labelsize=11)\n",
    "plt.xlabel('False Positive Rate',fontsize = 14 )\n",
    "plt.ylabel('True Positive Rate', fontsize = 14 )\n",
    "plt.legend(loc=\"lower right\")\n",
    "img_name = 'ROC_curve'+' ms.png'\n",
    "plt.savefig(img_name,bbox_inches='tight')\n",
    "plt.show()"
   ]
  },
  {
   "cell_type": "code",
   "execution_count": 0,
   "metadata": {
    "colab": {},
    "colab_type": "code",
    "id": "hgLhPShdtmCP"
   },
   "outputs": [],
   "source": [
    "tpr_tnr_table['AUC'] = auc_values"
   ]
  },
  {
   "cell_type": "code",
   "execution_count": 0,
   "metadata": {
    "colab": {},
    "colab_type": "code",
    "id": "8jG8Xhy6tmCX",
    "outputId": "2e232109-cb60-471b-bee0-b20c348674bd"
   },
   "outputs": [
    {
     "data": {
      "text/html": [
       "<div>\n",
       "<style scoped>\n",
       "    .dataframe tbody tr th:only-of-type {\n",
       "        vertical-align: middle;\n",
       "    }\n",
       "\n",
       "    .dataframe tbody tr th {\n",
       "        vertical-align: top;\n",
       "    }\n",
       "\n",
       "    .dataframe thead th {\n",
       "        text-align: right;\n",
       "    }\n",
       "</style>\n",
       "<table border=\"1\" class=\"dataframe\">\n",
       "  <thead>\n",
       "    <tr style=\"text-align: right;\">\n",
       "      <th></th>\n",
       "      <th>lead time(in ms)</th>\n",
       "      <th>specificity</th>\n",
       "      <th>sensitivity</th>\n",
       "      <th>AUC</th>\n",
       "    </tr>\n",
       "  </thead>\n",
       "  <tbody>\n",
       "    <tr>\n",
       "      <th>0</th>\n",
       "      <td>10</td>\n",
       "      <td>0.99</td>\n",
       "      <td>0.944</td>\n",
       "      <td>0.973</td>\n",
       "    </tr>\n",
       "    <tr>\n",
       "      <th>1</th>\n",
       "      <td>100</td>\n",
       "      <td>0.99</td>\n",
       "      <td>0.664</td>\n",
       "      <td>0.932</td>\n",
       "    </tr>\n",
       "    <tr>\n",
       "      <th>2</th>\n",
       "      <td>200</td>\n",
       "      <td>0.99</td>\n",
       "      <td>0.629</td>\n",
       "      <td>0.901</td>\n",
       "    </tr>\n",
       "    <tr>\n",
       "      <th>3</th>\n",
       "      <td>300</td>\n",
       "      <td>0.99</td>\n",
       "      <td>0.511</td>\n",
       "      <td>0.892</td>\n",
       "    </tr>\n",
       "    <tr>\n",
       "      <th>4</th>\n",
       "      <td>400</td>\n",
       "      <td>0.99</td>\n",
       "      <td>0.395</td>\n",
       "      <td>0.796</td>\n",
       "    </tr>\n",
       "    <tr>\n",
       "      <th>5</th>\n",
       "      <td>2000</td>\n",
       "      <td>0.99</td>\n",
       "      <td>0.006</td>\n",
       "      <td>0.494</td>\n",
       "    </tr>\n",
       "  </tbody>\n",
       "</table>\n",
       "</div>"
      ],
      "text/plain": [
       "   lead time(in ms)  specificity  sensitivity    AUC\n",
       "0                10         0.99        0.944  0.973\n",
       "1               100         0.99        0.664  0.932\n",
       "2               200         0.99        0.629  0.901\n",
       "3               300         0.99        0.511  0.892\n",
       "4               400         0.99        0.395  0.796\n",
       "5              2000         0.99        0.006  0.494"
      ]
     },
     "execution_count": 155,
     "metadata": {
      "tags": []
     },
     "output_type": "execute_result"
    }
   ],
   "source": [
    "tpr_tnr_table.head(7)"
   ]
  },
  {
   "cell_type": "code",
   "execution_count": 0,
   "metadata": {
    "colab": {},
    "colab_type": "code",
    "id": "k9ecfTi4tmCZ",
    "outputId": "9ba72e9c-b420-4ab1-8def-52ce51decc80"
   },
   "outputs": [
    {
     "data": {
      "text/html": [
       "<div>\n",
       "<style scoped>\n",
       "    .dataframe tbody tr th:only-of-type {\n",
       "        vertical-align: middle;\n",
       "    }\n",
       "\n",
       "    .dataframe tbody tr th {\n",
       "        vertical-align: top;\n",
       "    }\n",
       "\n",
       "    .dataframe thead th {\n",
       "        text-align: right;\n",
       "    }\n",
       "</style>\n",
       "<table border=\"1\" class=\"dataframe\">\n",
       "  <thead>\n",
       "    <tr style=\"text-align: right;\">\n",
       "      <th></th>\n",
       "      <th>lead time(in ms)</th>\n",
       "      <th>sensitivity</th>\n",
       "      <th>AUC</th>\n",
       "    </tr>\n",
       "  </thead>\n",
       "  <tbody>\n",
       "    <tr>\n",
       "      <th>0</th>\n",
       "      <td>10</td>\n",
       "      <td>0.944</td>\n",
       "      <td>0.973</td>\n",
       "    </tr>\n",
       "    <tr>\n",
       "      <th>1</th>\n",
       "      <td>100</td>\n",
       "      <td>0.664</td>\n",
       "      <td>0.932</td>\n",
       "    </tr>\n",
       "    <tr>\n",
       "      <th>2</th>\n",
       "      <td>200</td>\n",
       "      <td>0.629</td>\n",
       "      <td>0.901</td>\n",
       "    </tr>\n",
       "    <tr>\n",
       "      <th>3</th>\n",
       "      <td>300</td>\n",
       "      <td>0.511</td>\n",
       "      <td>0.892</td>\n",
       "    </tr>\n",
       "    <tr>\n",
       "      <th>4</th>\n",
       "      <td>400</td>\n",
       "      <td>0.395</td>\n",
       "      <td>0.796</td>\n",
       "    </tr>\n",
       "    <tr>\n",
       "      <th>5</th>\n",
       "      <td>2000</td>\n",
       "      <td>0.006</td>\n",
       "      <td>0.494</td>\n",
       "    </tr>\n",
       "  </tbody>\n",
       "</table>\n",
       "</div>"
      ],
      "text/plain": [
       "   lead time(in ms)  sensitivity    AUC\n",
       "0                10        0.944  0.973\n",
       "1               100        0.664  0.932\n",
       "2               200        0.629  0.901\n",
       "3               300        0.511  0.892\n",
       "4               400        0.395  0.796\n",
       "5              2000        0.006  0.494"
      ]
     },
     "execution_count": 156,
     "metadata": {
      "tags": []
     },
     "output_type": "execute_result"
    }
   ],
   "source": [
    "# tpr_tnr_table['lead time(in ms)'] = tpr_tnr_table['lead time(in ms)'].astype('int64')\n",
    "new_df = tpr_tnr_table.drop('specificity',axis=1)\n",
    "new_df.head(7)"
   ]
  },
  {
   "cell_type": "code",
   "execution_count": 0,
   "metadata": {
    "colab": {},
    "colab_type": "code",
    "id": "D2mYsXHgtmCp"
   },
   "outputs": [],
   "source": [
    "df =pd.DataFrame( {'Lead time\\n(in ms)':[ 10,100,200,300,400,2000 ], \n",
    "               'Sensitivity': ['94.4%','66.4%','62.9%','51.1%','39.5%','0.6%'],\n",
    "                'AUC':[ 0.973,0.932,0.901,0.892,0.796,0.494]})\n",
    "df.to_csv('results.csv')"
   ]
  },
  {
   "cell_type": "code",
   "execution_count": 0,
   "metadata": {
    "colab": {},
    "colab_type": "code",
    "id": "feaigLO5tmCr"
   },
   "outputs": [],
   "source": [
    "rd = pd.read_csv('change.csv')"
   ]
  },
  {
   "cell_type": "code",
   "execution_count": 0,
   "metadata": {
    "colab": {},
    "colab_type": "code",
    "id": "EokMt6WUtmCu",
    "outputId": "84305809-a254-4c50-cbc8-0774fda7d939"
   },
   "outputs": [
    {
     "data": {
      "text/html": [
       "<div>\n",
       "<style scoped>\n",
       "    .dataframe tbody tr th:only-of-type {\n",
       "        vertical-align: middle;\n",
       "    }\n",
       "\n",
       "    .dataframe tbody tr th {\n",
       "        vertical-align: top;\n",
       "    }\n",
       "\n",
       "    .dataframe thead th {\n",
       "        text-align: right;\n",
       "    }\n",
       "</style>\n",
       "<table border=\"1\" class=\"dataframe\">\n",
       "  <thead>\n",
       "    <tr style=\"text-align: right;\">\n",
       "      <th></th>\n",
       "      <th>Lead time\n",
       " (in ms)</th>\n",
       "      <th>Sensitivity</th>\n",
       "      <th>AUC</th>\n",
       "    </tr>\n",
       "  </thead>\n",
       "  <tbody>\n",
       "    <tr>\n",
       "      <th>0</th>\n",
       "      <td>10</td>\n",
       "      <td>94.40%</td>\n",
       "      <td>0.973</td>\n",
       "    </tr>\n",
       "    <tr>\n",
       "      <th>1</th>\n",
       "      <td>100</td>\n",
       "      <td>66.40%</td>\n",
       "      <td>0.932</td>\n",
       "    </tr>\n",
       "    <tr>\n",
       "      <th>2</th>\n",
       "      <td>200</td>\n",
       "      <td>62.90%</td>\n",
       "      <td>0.901</td>\n",
       "    </tr>\n",
       "    <tr>\n",
       "      <th>3</th>\n",
       "      <td>300</td>\n",
       "      <td>51.10%</td>\n",
       "      <td>0.892</td>\n",
       "    </tr>\n",
       "    <tr>\n",
       "      <th>4</th>\n",
       "      <td>400</td>\n",
       "      <td>39.50%</td>\n",
       "      <td>0.796</td>\n",
       "    </tr>\n",
       "    <tr>\n",
       "      <th>5</th>\n",
       "      <td>2000</td>\n",
       "      <td>0.60%</td>\n",
       "      <td>0.494</td>\n",
       "    </tr>\n",
       "  </tbody>\n",
       "</table>\n",
       "</div>"
      ],
      "text/plain": [
       "   Lead time\\n (in ms) Sensitivity     AUC\n",
       "0                   10       94.40%  0.973\n",
       "1                  100       66.40%  0.932\n",
       "2                  200       62.90%  0.901\n",
       "3                  300       51.10%  0.892\n",
       "4                  400       39.50%  0.796\n",
       "5                 2000        0.60%  0.494"
      ]
     },
     "execution_count": 29,
     "metadata": {
      "tags": []
     },
     "output_type": "execute_result"
    }
   ],
   "source": [
    "rd.head(7)"
   ]
  },
  {
   "cell_type": "code",
   "execution_count": 0,
   "metadata": {
    "colab": {},
    "colab_type": "code",
    "id": "n0RWt5uvtmC0"
   },
   "outputs": [],
   "source": [
    "new_df['sensitivity'] = new_df['sensitivity'].apply(lambda x : str(round(x*100,1))+\" %\") "
   ]
  },
  {
   "cell_type": "code",
   "execution_count": 0,
   "metadata": {
    "colab": {},
    "colab_type": "code",
    "id": "pCVgk3GbtmC4",
    "outputId": "0a94a38e-2533-4f40-b64a-064292f1f9d1"
   },
   "outputs": [
    {
     "data": {
      "text/html": [
       "<div>\n",
       "<style scoped>\n",
       "    .dataframe tbody tr th:only-of-type {\n",
       "        vertical-align: middle;\n",
       "    }\n",
       "\n",
       "    .dataframe tbody tr th {\n",
       "        vertical-align: top;\n",
       "    }\n",
       "\n",
       "    .dataframe thead th {\n",
       "        text-align: right;\n",
       "    }\n",
       "</style>\n",
       "<table border=\"1\" class=\"dataframe\">\n",
       "  <thead>\n",
       "    <tr style=\"text-align: right;\">\n",
       "      <th></th>\n",
       "      <th>lead time(in ms)</th>\n",
       "      <th>sensitivity</th>\n",
       "      <th>AUC</th>\n",
       "    </tr>\n",
       "  </thead>\n",
       "  <tbody>\n",
       "    <tr>\n",
       "      <th>0</th>\n",
       "      <td>10</td>\n",
       "      <td>94.4 %</td>\n",
       "      <td>0.973</td>\n",
       "    </tr>\n",
       "    <tr>\n",
       "      <th>1</th>\n",
       "      <td>100</td>\n",
       "      <td>66.4 %</td>\n",
       "      <td>0.932</td>\n",
       "    </tr>\n",
       "    <tr>\n",
       "      <th>2</th>\n",
       "      <td>200</td>\n",
       "      <td>62.9 %</td>\n",
       "      <td>0.901</td>\n",
       "    </tr>\n",
       "    <tr>\n",
       "      <th>3</th>\n",
       "      <td>300</td>\n",
       "      <td>51.1 %</td>\n",
       "      <td>0.892</td>\n",
       "    </tr>\n",
       "    <tr>\n",
       "      <th>4</th>\n",
       "      <td>400</td>\n",
       "      <td>39.5 %</td>\n",
       "      <td>0.796</td>\n",
       "    </tr>\n",
       "    <tr>\n",
       "      <th>5</th>\n",
       "      <td>2000</td>\n",
       "      <td>0.6 %</td>\n",
       "      <td>0.494</td>\n",
       "    </tr>\n",
       "  </tbody>\n",
       "</table>\n",
       "</div>"
      ],
      "text/plain": [
       "   lead time(in ms) sensitivity    AUC\n",
       "0                10      94.4 %  0.973\n",
       "1               100      66.4 %  0.932\n",
       "2               200      62.9 %  0.901\n",
       "3               300      51.1 %  0.892\n",
       "4               400      39.5 %  0.796\n",
       "5              2000       0.6 %  0.494"
      ]
     },
     "execution_count": 158,
     "metadata": {
      "tags": []
     },
     "output_type": "execute_result"
    }
   ],
   "source": [
    "new_df"
   ]
  }
 ],
 "metadata": {
  "accelerator": "GPU",
  "colab": {
   "collapsed_sections": [
    "E4pOx9MhtmA7",
    "orYEPNhItmBA",
    "iMeFzCCPtmBF",
    "fGhYLjlwtmBJ",
    "341kNOAoQWoV",
    "GE7LBnAEtmBU",
    "c6plf75CtmBV",
    "H6YGAlxGtmBZ",
    "2SOJryBptmBf",
    "RT0fVJeNtmBj",
    "uksNNXettmBp",
    "IDYkKyDRtmBt",
    "_UKufdhHtmCC",
    "st8qho5KjFrf",
    "GoM6U7uhtmB3",
    "Wnbw0HLutmCJ"
   ],
   "name": "moving window.ipynb",
   "provenance": [],
   "toc_visible": true
  },
  "kernelspec": {
   "display_name": "Python 3",
   "language": "python",
   "name": "python3"
  },
  "language_info": {
   "codemirror_mode": {
    "name": "ipython",
    "version": 3
   },
   "file_extension": ".py",
   "mimetype": "text/x-python",
   "name": "python",
   "nbconvert_exporter": "python",
   "pygments_lexer": "ipython3",
   "version": "3.7.6"
  },
  "toc": {
   "base_numbering": 1,
   "nav_menu": {},
   "number_sections": true,
   "sideBar": true,
   "skip_h1_title": false,
   "title_cell": "Table of Contents",
   "title_sidebar": "Contents",
   "toc_cell": false,
   "toc_position": {
    "height": "calc(100% - 180px)",
    "left": "10px",
    "top": "150px",
    "width": "174.188px"
   },
   "toc_section_display": true,
   "toc_window_display": true
  }
 },
 "nbformat": 4,
 "nbformat_minor": 1
}
