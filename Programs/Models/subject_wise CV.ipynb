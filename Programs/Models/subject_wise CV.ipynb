{
 "cells": [
  {
   "cell_type": "markdown",
   "metadata": {},
   "source": [
    "# Packages"
   ]
  },
  {
   "cell_type": "code",
   "execution_count": 3,
   "metadata": {},
   "outputs": [],
   "source": [
    "from sklearn.linear_model import LogisticRegression\n",
    "import pandas as pd\n",
    "import matplotlib.pyplot as plt\n",
    "import numpy as np\n",
    "from pandas import ExcelWriter\n",
    "from pandas import ExcelFile\n",
    "from sklearn.utils import shuffle\n",
    "from sklearn.model_selection import GridSearchCV\n",
    "from sklearn.ensemble import RandomForestClassifier\n",
    "from sklearn import svm\n",
    "from sklearn.neighbors import KNeighborsClassifier\n",
    "from sklearn.linear_model import LogisticRegression\n",
    "from sklearn.model_selection import LeaveOneGroupOut"
   ]
  },
  {
   "cell_type": "markdown",
   "metadata": {},
   "source": [
    "# Functions"
   ]
  },
  {
   "cell_type": "code",
   "execution_count": 4,
   "metadata": {
    "cell_style": "center",
    "code_folding": []
   },
   "outputs": [],
   "source": [
    "def read_feature_data(file_name):\n",
    "    file_path = 'Feature/'+file_name\n",
    "    data = pd.read_excel(file_path, sheet_name=0)\n",
    "    data.to_csv(file_name + '.csv', encoding='utf-8')\n",
    "    return data"
   ]
  },
  {
   "cell_type": "code",
   "execution_count": 5,
   "metadata": {
    "cell_style": "center",
    "code_folding": []
   },
   "outputs": [],
   "source": [
    "def outer_cross_val(X, Y, groups, split_model, model, params):\n",
    "\n",
    "    print(\"Outer Cross Validation\")\n",
    "\n",
    "    for train_index, test_index in split_model.split(X, Y, groups):\n",
    "        \n",
    "        X_train = X[train_index[0]]\n",
    "        X_test = X[test_index[0]]\n",
    "        Y_train = Y[train_index[0]]\n",
    "        Y_test = Y[test_index[0]]\n",
    "        \n",
    "        for i in train_index[1:]:\n",
    "            X_train.append(X[i], sort=False)\n",
    "            Y_train.append(X[i], sort=False)\n",
    "        \n",
    "        for i in test_index[1:]:\n",
    "            X_test.append(X[i])\n",
    "            Y_test.append(X[i])\n",
    "        \n",
    "        cv = len(train_index)\n",
    "        best_inner_model = nested_cross_val(X_train, Y_train, cv, LeaveOneGroupOut(), model, params)\n",
    "\n",
    "        best_inner_model.fit(X_train,Y_train.values.ravel())\n",
    "\n",
    "        train_score = best_inner_model.score(X_train,Y_train.values.ravel())\n",
    "        test_score =best_inner_model.score(X_test,Y_test.values.ravel())\n",
    "\n",
    "        \n",
    "        print (\"Training score:{} \".format(train_score) )\n",
    "        print (\"Test score :{}\".format(test_score))\n",
    "\n",
    "def nested_cross_val(X, Y, cv, split_model, model, params):\n",
    "    print(\"\\nInner Cross Validation\")\n",
    "    \n",
    "    test_model = GridSearchCV(model, params, cv = cv ).fit(X, Y.values.ravel())\n",
    "    \n",
    "    print(\"{} = {} % with {}\".format(str(test_model.best_estimator_).split('(')[0],\n",
    "                                     round(test_model.best_score_,2)*100,\n",
    "                                     test_model.best_params_))\n",
    "    return test_model.best_estimator_"
   ]
  },
  {
   "cell_type": "markdown",
   "metadata": {},
   "source": [
    "# Initailizers"
   ]
  },
  {
   "cell_type": "code",
   "execution_count": 6,
   "metadata": {},
   "outputs": [],
   "source": [
    "s1_feature = read_feature_data('S1_feature.xlsx')\n",
    "s2_feature = read_feature_data('S2_feature.xlsx')\n",
    "s3_feature = read_feature_data('S3_feature.xlsx')\n",
    "c1_feature = read_feature_data('C1_feature.xlsx')\n",
    "c2_feature = read_feature_data('C2_feature.xlsx')\n",
    "c3_feature = read_feature_data('C3_feature.xlsx')"
   ]
  },
  {
   "cell_type": "code",
   "execution_count": 7,
   "metadata": {
    "cell_style": "split"
   },
   "outputs": [
    {
     "data": {
      "text/plain": [
       "[10000000.0,\n",
       " 1000000.0,\n",
       " 100000.0,\n",
       " 10000.0,\n",
       " 1000.0,\n",
       " 100.0,\n",
       " 10.0,\n",
       " 1.0,\n",
       " 0.1,\n",
       " 0.01,\n",
       " 0.001,\n",
       " 0.0001,\n",
       " 1e-05]"
      ]
     },
     "execution_count": 7,
     "metadata": {},
     "output_type": "execute_result"
    }
   ],
   "source": [
    "param_range = [10.0**-x for x in range(-7,6)]\n",
    "param_range"
   ]
  },
  {
   "cell_type": "code",
   "execution_count": 8,
   "metadata": {
    "cell_style": "split"
   },
   "outputs": [
    {
     "data": {
      "text/plain": [
       "[1, 3, 5, 7, 9]"
      ]
     },
     "execution_count": 8,
     "metadata": {},
     "output_type": "execute_result"
    }
   ],
   "source": [
    "param_odds = list(range(1, 10, 2))\n",
    "param_odds"
   ]
  },
  {
   "cell_type": "code",
   "execution_count": 9,
   "metadata": {
    "cell_style": "split"
   },
   "outputs": [],
   "source": [
    "groups = [1,2,3,4,5,6]\n",
    "split_model = LeaveOneGroupOut()"
   ]
  },
  {
   "cell_type": "code",
   "execution_count": 10,
   "metadata": {
    "cell_style": "split"
   },
   "outputs": [
    {
     "data": {
      "text/plain": [
       "[10, 20, 30, 40, 50, 60, 70, 80, 90, 100, 110, 120, 130, 140]"
      ]
     },
     "execution_count": 10,
     "metadata": {},
     "output_type": "execute_result"
    }
   ],
   "source": [
    "n_estimators = list(range(10,150,10))\n",
    "n_estimators"
   ]
  },
  {
   "cell_type": "code",
   "execution_count": 11,
   "metadata": {
    "code_folding": [
     0,
     2
    ]
   },
   "outputs": [],
   "source": [
    "X = [s1_feature[['min_acc','max_acc']],s2_feature[['min_acc','max_acc']],s3_feature[['min_acc','max_acc']], \\\n",
    "     c1_feature[['min_acc','max_acc']],c2_feature[['min_acc','max_acc']],c3_feature[['min_acc','max_acc']]]\n",
    "Y = [s1_feature[['fall_value']],s2_feature[['fall_value']],s3_feature[['fall_value']],\\\n",
    "     c1_feature[['fall_value']],c2_feature[['fall_value']],c3_feature[['fall_value']]]"
   ]
  },
  {
   "cell_type": "markdown",
   "metadata": {},
   "source": [
    "# Nested SVM"
   ]
  },
  {
   "cell_type": "code",
   "execution_count": 12,
   "metadata": {},
   "outputs": [],
   "source": [
    "model = svm.SVC(kernel=\"rbf\")\n",
    "params = {'C':param_range,'gamma':param_range}"
   ]
  },
  {
   "cell_type": "code",
   "execution_count": 13,
   "metadata": {},
   "outputs": [
    {
     "name": "stdout",
     "output_type": "stream",
     "text": [
      "Outer Cross Validation\n",
      "\n",
      "Inner Cross Validation\n",
      "SVC = 97.0 % with {'C': 10000000.0, 'gamma': 1e-05}\n",
      "Training score:1.0 \n",
      "Test score :0.973384030418251\n",
      "\n",
      "Inner Cross Validation\n",
      "SVC = 97.0 % with {'C': 10000000.0, 'gamma': 1e-05}\n",
      "Training score:1.0 \n",
      "Test score :0.9651324965132496\n",
      "\n",
      "Inner Cross Validation\n",
      "SVC = 97.0 % with {'C': 10000000.0, 'gamma': 1e-05}\n",
      "Training score:1.0 \n",
      "Test score :0.9669902912621359\n",
      "\n",
      "Inner Cross Validation\n",
      "SVC = 97.0 % with {'C': 10000000.0, 'gamma': 1e-05}\n",
      "Training score:1.0 \n",
      "Test score :0.9544117647058824\n",
      "\n",
      "Inner Cross Validation\n",
      "SVC = 97.0 % with {'C': 10000000.0, 'gamma': 1e-05}\n",
      "Training score:1.0 \n",
      "Test score :0.9467849223946785\n",
      "\n",
      "Inner Cross Validation\n",
      "SVC = 97.0 % with {'C': 10000000.0, 'gamma': 1e-05}\n",
      "Training score:1.0 \n",
      "Test score :0.9564270152505446\n"
     ]
    }
   ],
   "source": [
    "outer_cross_val(X, Y, groups, split_model, model, params)"
   ]
  },
  {
   "cell_type": "markdown",
   "metadata": {},
   "source": [
    "# Nested Random Forest"
   ]
  },
  {
   "cell_type": "code",
   "execution_count": 59,
   "metadata": {},
   "outputs": [],
   "source": [
    "model = RandomForestClassifier()\n",
    "params = {'n_estimators':n_estimators}"
   ]
  },
  {
   "cell_type": "code",
   "execution_count": 60,
   "metadata": {},
   "outputs": [
    {
     "name": "stdout",
     "output_type": "stream",
     "text": [
      "Outer Cross Validation\n",
      "\n",
      "Inner Cross Validation\n",
      "RandomForestClassifier = 99.0 % with {'n_estimators': 10}\n",
      "Training score:0.99721059972106 \n",
      "Test score :0.9860583016476553\n",
      "\n",
      "Inner Cross Validation\n",
      "RandomForestClassifier = 99.0 % with {'n_estimators': 60}\n",
      "Training score:1.0 \n",
      "Test score :0.9888423988842399\n",
      "\n",
      "Inner Cross Validation\n",
      "RandomForestClassifier = 99.0 % with {'n_estimators': 80}\n",
      "Training score:1.0 \n",
      "Test score :0.9728155339805825\n",
      "\n",
      "Inner Cross Validation\n",
      "RandomForestClassifier = 99.0 % with {'n_estimators': 60}\n",
      "Training score:1.0 \n",
      "Test score :0.9764705882352941\n",
      "\n",
      "Inner Cross Validation\n",
      "RandomForestClassifier = 99.0 % with {'n_estimators': 60}\n",
      "Training score:1.0 \n",
      "Test score :0.9667405764966741\n",
      "\n",
      "Inner Cross Validation\n",
      "RandomForestClassifier = 99.0 % with {'n_estimators': 110}\n",
      "Training score:1.0 \n",
      "Test score :0.9651416122004357\n"
     ]
    }
   ],
   "source": [
    "outer_cross_val(X, Y, groups, split_model, model, params)"
   ]
  },
  {
   "cell_type": "markdown",
   "metadata": {},
   "source": [
    "# Nested KNN "
   ]
  },
  {
   "cell_type": "code",
   "execution_count": 51,
   "metadata": {},
   "outputs": [],
   "source": [
    "model = KNeighborsClassifier()\n",
    "params = {'n_neighbors':param_odds}"
   ]
  },
  {
   "cell_type": "code",
   "execution_count": 56,
   "metadata": {},
   "outputs": [
    {
     "name": "stdout",
     "output_type": "stream",
     "text": [
      "Outer Cross Validation\n",
      "\n",
      "Inner Cross Validation\n",
      "KNeighborsClassifier = 99.0 % with {'n_neighbors': 9}\n",
      "Training score:0.9916317991631799 \n",
      "Test score :0.9885931558935361\n",
      "\n",
      "Inner Cross Validation\n",
      "KNeighborsClassifier = 99.0 % with {'n_neighbors': 5}\n",
      "Training score:0.9898605830164765 \n",
      "Test score :0.9888423988842399\n",
      "\n",
      "Inner Cross Validation\n",
      "KNeighborsClassifier = 99.0 % with {'n_neighbors': 5}\n",
      "Training score:0.9898605830164765 \n",
      "Test score :0.9825242718446602\n",
      "\n",
      "Inner Cross Validation\n",
      "KNeighborsClassifier = 99.0 % with {'n_neighbors': 5}\n",
      "Training score:0.9898605830164765 \n",
      "Test score :0.9735294117647059\n",
      "\n",
      "Inner Cross Validation\n",
      "KNeighborsClassifier = 99.0 % with {'n_neighbors': 5}\n",
      "Training score:0.9898605830164765 \n",
      "Test score :0.9733924611973392\n",
      "\n",
      "Inner Cross Validation\n",
      "KNeighborsClassifier = 99.0 % with {'n_neighbors': 5}\n",
      "Training score:0.9898605830164765 \n",
      "Test score :0.971677559912854\n"
     ]
    }
   ],
   "source": [
    "outer_cross_val(X, Y, groups, split_model, model, params)"
   ]
  },
  {
   "cell_type": "markdown",
   "metadata": {},
   "source": [
    "# Nested LASSO"
   ]
  },
  {
   "cell_type": "code",
   "execution_count": 57,
   "metadata": {},
   "outputs": [],
   "source": [
    "    model = LogisticRegression(solver='lbfgs',penalty='l2')\n",
    "    params = {'C':param_range}"
   ]
  },
  {
   "cell_type": "code",
   "execution_count": 58,
   "metadata": {},
   "outputs": [
    {
     "name": "stdout",
     "output_type": "stream",
     "text": [
      "Outer Cross Validation\n",
      "\n",
      "Inner Cross Validation\n",
      "LogisticRegression = 99.0 % with {'C': 100000.0}\n",
      "Training score:0.99302649930265 \n",
      "Test score :0.9873257287705957\n",
      "\n",
      "Inner Cross Validation\n",
      "LogisticRegression = 98.0 % with {'C': 100000.0}\n",
      "Training score:0.9873257287705957 \n",
      "Test score :0.9888423988842399\n",
      "\n",
      "Inner Cross Validation\n",
      "LogisticRegression = 98.0 % with {'C': 100000.0}\n",
      "Training score:0.9873257287705957 \n",
      "Test score :0.9805825242718447\n",
      "\n",
      "Inner Cross Validation\n",
      "LogisticRegression = 98.0 % with {'C': 100000.0}\n",
      "Training score:0.9873257287705957 \n",
      "Test score :0.9735294117647059\n",
      "\n",
      "Inner Cross Validation\n",
      "LogisticRegression = 98.0 % with {'C': 100000.0}\n",
      "Training score:0.9873257287705957 \n",
      "Test score :0.975609756097561\n",
      "\n",
      "Inner Cross Validation\n",
      "LogisticRegression = 98.0 % with {'C': 100000.0}\n",
      "Training score:0.9873257287705957 \n",
      "Test score :0.9586056644880174\n"
     ]
    }
   ],
   "source": [
    "outer_cross_val(X, Y, groups, split_model, model, params)"
   ]
  }
 ],
 "metadata": {
  "gist": {
   "data": {
    "description": "Documents/biomed-ai/Programs/nested_cross_validation.ipynb",
    "public": true
   },
   "id": ""
  },
  "kernelspec": {
   "display_name": "Python 3",
   "language": "python",
   "name": "python3"
  },
  "language_info": {
   "codemirror_mode": {
    "name": "ipython",
    "version": 3
   },
   "file_extension": ".py",
   "mimetype": "text/x-python",
   "name": "python",
   "nbconvert_exporter": "python",
   "pygments_lexer": "ipython3",
   "version": "3.7.6"
  },
  "toc": {
   "base_numbering": 1,
   "nav_menu": {},
   "number_sections": true,
   "sideBar": true,
   "skip_h1_title": false,
   "title_cell": "Table of Contents",
   "title_sidebar": "Contents",
   "toc_cell": false,
   "toc_position": {
    "height": "calc(100% - 180px)",
    "left": "10px",
    "top": "150px",
    "width": "215.188px"
   },
   "toc_section_display": true,
   "toc_window_display": true
  },
  "widgets": {
   "state": {},
   "version": "1.1.2"
  }
 },
 "nbformat": 4,
 "nbformat_minor": 2
}
