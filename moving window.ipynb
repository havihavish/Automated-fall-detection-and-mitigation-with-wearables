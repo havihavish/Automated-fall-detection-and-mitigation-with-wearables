{
 "cells": [
  {
   "cell_type": "markdown",
   "metadata": {},
   "source": [
    "# Packages "
   ]
  },
  {
   "cell_type": "code",
   "execution_count": 1,
   "metadata": {},
   "outputs": [],
   "source": [
    "import pandas as pd\n",
    "import matplotlib.pyplot as plt\n",
    "import numpy as np\n",
    "\n",
    "from pandas import ExcelWriter\n",
    "from pandas import ExcelFile\n",
    "from sklearn.utils import shuffle\n",
    "\n",
    "from sklearn.model_selection import GridSearchCV\n",
    "from sklearn.ensemble import RandomForestClassifier\n",
    "from sklearn import svm\n",
    "from sklearn.neighbors import KNeighborsClassifier\n",
    "from sklearn.linear_model import LogisticRegression\n",
    "from sklearn.model_selection import LeaveOneGroupOut\n",
    "from sklearn.metrics import confusion_matrix\n",
    "from sklearn.metrics import roc_curve, auc"
   ]
  },
  {
   "cell_type": "markdown",
   "metadata": {},
   "source": [
    "# Functions "
   ]
  },
  {
   "cell_type": "markdown",
   "metadata": {},
   "source": [
    "## Read airbag data"
   ]
  },
  {
   "cell_type": "code",
   "execution_count": 2,
   "metadata": {},
   "outputs": [],
   "source": [
    "def read_data(file_name):\n",
    "    file_path = '../FallCatcher_Data/' + file_name\n",
    "    data = pd.read_csv(file_path,sep=',',names = ['time_counter','accel_base_X','accel_base_Y','accel_base_Z','gyro_base_X',\n",
    "                                                  'gyro_base_Y','gyro_base_Z','accel_right_X','accel_right_Y','accel_right_Z',\n",
    "                                                  'gyro_right_X','gyro_right_Y','gyro_right_Z','accel_left_X','accel_left_Y',\n",
    "                                                  'accel_left_Z','gyro_left_X','gyro_left_Y','gyro_left_Z','fall_detection',\n",
    "                                                  'fall_check','impact_value'])\n",
    "    return data"
   ]
  },
  {
   "cell_type": "markdown",
   "metadata": {},
   "source": [
    "## Read Manual Data"
   ]
  },
  {
   "cell_type": "code",
   "execution_count": 3,
   "metadata": {},
   "outputs": [],
   "source": [
    "def read_combined_data(file_name,airbag_data):\n",
    "    file_path = '../FallCatcher_Data/Combined/'+file_name\n",
    "    data = pd.read_excel(file_path, sheet_name=0)\n",
    "    data.to_csv(file_name, encoding='utf-8')\n",
    "    data['Time Point Name'] = pd.to_numeric(data['Time Point Name'], errors='coerce')\n",
    "    data = data[(data['Time Point Name']>100) & (data['Time Point Name'] < 200) &\n",
    "                (data['Impact milisec'].notnull()) & ((data['Start milisec']) < (airbag_data.iloc[-1][0]))]\n",
    "    data = data[['Time Point Name','Start milisec','Impact milisec', 'End Milisec','Duration']]\n",
    "    return data"
   ]
  },
  {
   "cell_type": "markdown",
   "metadata": {},
   "source": [
    "## Merge Airbag Data and manual Data  "
   ]
  },
  {
   "cell_type": "code",
   "execution_count": 4,
   "metadata": {},
   "outputs": [],
   "source": [
    "def add_new_fall_value(airbag_data,manual_data):\n",
    "    airbag_data['accel_base_mag'] =  np.sqrt(airbag_data['accel_base_X']**2 + airbag_data['accel_base_Y']**2 + \n",
    "                                             airbag_data['accel_base_Z']**2)\n",
    "    for index, row in manual_data.iterrows():\n",
    "        airbag_data.loc[(airbag_data['accel_base_mag'] == \\\n",
    "                                                  (airbag_data.loc[(airbag_data['time_counter'] >= row['Start milisec']) & \\\n",
    "                                                                   (airbag_data['time_counter'] < row['End Milisec']),\n",
    "                                                                   'accel_base_mag'].max())) & \\\n",
    "                                                 (airbag_data['time_counter'] >= row['Start milisec']) & \\\n",
    "                                                 (airbag_data['time_counter'] < row['End Milisec']),\n",
    "                                                 'cal_impact_milisec'] = 80"
   ]
  },
  {
   "cell_type": "markdown",
   "metadata": {},
   "source": [
    "## Extract Feature"
   ]
  },
  {
   "cell_type": "code",
   "execution_count": 5,
   "metadata": {},
   "outputs": [],
   "source": [
    "def extract_feature(data,window_time=1000,move_window = 0):\n",
    "    if move_window != 0:\n",
    "        move_window += int(window_time/2);\n",
    "    max_ms = data['time_counter'].max()\n",
    "    feature = pd.DataFrame(columns={'time_counter','min_acc','max_acc','fall_value'})\n",
    "    impact_list = data.loc[(data['cal_impact_milisec'] == 80),'time_counter'].values\n",
    "    \n",
    "    end_list = []  #edge condition for non-fall values\n",
    "    start_list = []\n",
    "    non_falls_end_list = [0]\n",
    "    \n",
    "    #prepare window frame \n",
    "    for index in impact_list:\n",
    "        end_list.append(index + int(window_time/2) - move_window)\n",
    "        start_list.append(index - int(window_time/2) - move_window)\n",
    "        non_falls_end_list.append(index + 2000)\n",
    "    start_list.append(max_ms)  #edge condition for non-fall values\n",
    "    \n",
    "    #add fall values\n",
    "    for index in range(len(impact_list)):\n",
    "        start = start_list[index]\n",
    "        end = end_list[index]\n",
    "        \n",
    "        temp_data = data.loc[(data['time_counter'] >= start) & (data['time_counter'] < end),['time_counter','accel_base_mag']]\n",
    "        time_counter = temp_data.iloc[:,0].min()\n",
    "        min_acc =  temp_data.iloc[:,1].min()\n",
    "        max_acc = temp_data.iloc[:,1].max()\n",
    "        fall_value = 1\n",
    "        feature = feature.append({'time_counter':time_counter,'min_acc':min_acc,'max_acc':max_acc,'fall_value':fall_value},\n",
    "                       ignore_index = True)\n",
    "        \n",
    "    #add non-fall values\n",
    "    for start,end in zip(non_falls_end_list,start_list):\n",
    "        for index in range(start,end,window_time):\n",
    "            end_index = index + window_time\n",
    "            if end_index < end:\n",
    "                temp_data = data.loc[(data['time_counter'] >= index) & (data['time_counter'] < end_index),['time_counter','accel_base_mag']]\n",
    "                time_counter = temp_data.iloc[:,0].min()\n",
    "                min_acc =  temp_data.iloc[:,1].min()\n",
    "                max_acc = temp_data.iloc[:,1].max()\n",
    "                fall_value = 0\n",
    "                feature = feature.append({'time_counter':time_counter,'min_acc':min_acc,'max_acc':max_acc,'fall_value':fall_value},\n",
    "                                         ignore_index = True)\n",
    "\n",
    "    return feature"
   ]
  },
  {
   "cell_type": "markdown",
   "metadata": {},
   "source": [
    "## Nested Subject wise CV "
   ]
  },
  {
   "cell_type": "code",
   "execution_count": 82,
   "metadata": {},
   "outputs": [],
   "source": [
    "def outer_cross_val(X, Y, groups, split_model, model, params):\n",
    "\n",
    "    print(\"Outer Cross Validation\")\n",
    "    Sensitivity = []\n",
    "    Specificity = []\n",
    "\n",
    "    for train_index, test_index in split_model.split(X, Y, groups):\n",
    "        \n",
    "        X_train = X[train_index[0]]\n",
    "        X_test = X[test_index[0]]\n",
    "        Y_train = Y[train_index[0]]\n",
    "        Y_test = Y[test_index[0]]\n",
    "        \n",
    "        for i in train_index[1:]:\n",
    "            X_train.append(X[i], sort=False)\n",
    "            Y_train.append(X[i], sort=False)\n",
    "        \n",
    "        for i in test_index[1:]:\n",
    "            X_test.append(X[i])\n",
    "            Y_test.append(X[i])\n",
    "        \n",
    "        cv = len(train_index)\n",
    "        best_inner_model = inner_nested_cross_val(X_train, Y_train, cv, LeaveOneGroupOut(), model, params)\n",
    "\n",
    "        best_inner_model.fit(X_train,Y_train.values.ravel())\n",
    "        predicted = best_inner_model.predict(X_test)\n",
    "        \n",
    "        cm1 = confusion_matrix(Y_test,predicted)\n",
    "        sensitivity1 = cm1[1,1]/(cm1[1,0]+cm1[1,1])\n",
    "        Sensitivity.append(sensitivity1)  \n",
    "\n",
    "        specificity1 =  cm1[0,0]/(cm1[0,0]+cm1[0,1])\n",
    "        Specificity.append(specificity1)\n",
    "        #print('Specificity : ', specificity1)\n",
    "        \n",
    "    return sum(Sensitivity)/float(len(Sensitivity)), sum(Specificity)/float(len(Specificity))\n",
    "\n"
   ]
  },
  {
   "cell_type": "markdown",
   "metadata": {},
   "source": [
    "## Inner CV"
   ]
  },
  {
   "cell_type": "code",
   "execution_count": 81,
   "metadata": {},
   "outputs": [],
   "source": [
    "def inner_nested_cross_val(X, Y, cv, split_model, model, params):\n",
    "    test_model = GridSearchCV(model, params, cv = cv ).fit(X, Y.values.ravel())\n",
    "    return test_model.best_estimator_"
   ]
  },
  {
   "cell_type": "markdown",
   "metadata": {},
   "source": [
    "## MIX ROC "
   ]
  },
  {
   "cell_type": "code",
   "execution_count": 83,
   "metadata": {},
   "outputs": [],
   "source": [
    "def roc_outer_cross_val(X, Y, groups, split_model, model, params,moving_window):\n",
    "    \n",
    "    title = 'ROC_AUC curve for MV = '+str(moving_window)\n",
    "#     print(\"Outer Cross Validation\")\n",
    "    tprs = []\n",
    "    aucs = []\n",
    "    mean_fpr = np.linspace(0, 1, 100)\n",
    "    plt.figure(figsize=(10,7))\n",
    "    plt.title(title)\n",
    "    fold = 0\n",
    "    for train_index, test_index in split_model.split(X, Y, groups):\n",
    "        \n",
    "        X_train = X[train_index[0]]\n",
    "        X_test = X[test_index[0]]\n",
    "        Y_train = Y[train_index[0]]\n",
    "        Y_test = Y[test_index[0]]\n",
    "        \n",
    "        for i in train_index[1:]:\n",
    "            X_train.append(X[i], sort=False)\n",
    "            Y_train.append(X[i], sort=False)\n",
    "        \n",
    "        for i in test_index[1:]:\n",
    "            X_test.append(X[i])\n",
    "            Y_test.append(X[i])\n",
    "        \n",
    "        cv = len(train_index)\n",
    "        best_inner_model = inner_nested_cross_val(X_train, Y_train, cv, LeaveOneGroupOut(), model, params)\n",
    "\n",
    "        best_inner_model.fit(X_train,Y_train.values.ravel())\n",
    "        probas_ = best_inner_model.predict_proba(X_test)\n",
    "        \n",
    "        fpr, tpr, thresholds = roc_curve(Y_test.values.ravel(), probas_[:, 1])\n",
    "        tprs.append(np.interp(mean_fpr, fpr, tpr))\n",
    "        tprs[-1][0] = 0.0\n",
    "        roc_auc = auc(fpr, tpr)\n",
    "        aucs.append(roc_auc)\n",
    "        plt.plot(fpr, tpr, lw=1, alpha=0.4,\n",
    "                 label='ROC fold %d (AUC = %0.2f)' % (fold, roc_auc))\n",
    "\n",
    "        fold += 1\n",
    "    \n",
    "    \n",
    "    plt.plot([0, 1], [0, 1], linestyle='--', lw=2, color='r',\n",
    "         label='Chance', alpha=.8) \n",
    "    mean_tpr = np.mean(tprs, axis=0)\n",
    "    mean_tpr[-1] = 1.0\n",
    "    mean_auc = auc(mean_fpr, mean_tpr)\n",
    "    std_auc = np.std(aucs)\n",
    "    plt.plot(mean_fpr, mean_tpr, color='b',\n",
    "             label=r'Mean ROC (AUC = %0.2f $\\pm$ %0.2f)' % (mean_auc, std_auc),\n",
    "             lw=2, alpha=.9)\n",
    "\n",
    "    std_tpr = np.std(tprs, axis=0)\n",
    "    tprs_upper = np.minimum(mean_tpr + std_tpr, 1)\n",
    "    tprs_lower = np.maximum(mean_tpr - std_tpr, 0)\n",
    "    plt.fill_between(mean_fpr, tprs_lower, tprs_upper, color='grey', alpha=.2,\n",
    "                     label=r'$\\pm$ 1 std. dev.')\n",
    "\n",
    "    plt.xlim([-0.05, 1.05])\n",
    "    plt.ylim([-0.05, 1.05])\n",
    "    plt.xlabel('False Positive Rate')\n",
    "    plt.ylabel('True Positive Rate')\n",
    "    plt.legend(loc=\"lower right\")\n",
    "    img_name = 'MV '+str(moving_window)+' ms.png'\n",
    "    plt.savefig(img_name)\n",
    "    plt.show()"
   ]
  },
  {
   "cell_type": "markdown",
   "metadata": {},
   "source": [
    "## trail_roc_outer_cross_val"
   ]
  },
  {
   "cell_type": "code",
   "execution_count": 84,
   "metadata": {},
   "outputs": [],
   "source": [
    "def trail_roc_outer_cross_val(X, Y, groups, split_model, model, params):\n",
    "    \n",
    "    tprs = []\n",
    "    aucs = []\n",
    "    mean_fpr = np.linspace(0, 1, 100)\n",
    "    fold = 0\n",
    "    for train_index, test_index in split_model.split(X, Y, groups):\n",
    "        \n",
    "        X_train = X[train_index[0]]\n",
    "        X_test = X[test_index[0]]\n",
    "        Y_train = Y[train_index[0]]\n",
    "        Y_test = Y[test_index[0]]\n",
    "        \n",
    "        for i in train_index[1:]:\n",
    "            X_train.append(X[i], sort=False)\n",
    "            Y_train.append(X[i], sort=False)\n",
    "        \n",
    "        for i in test_index[1:]:\n",
    "            X_test.append(X[i])\n",
    "            Y_test.append(X[i])\n",
    "        \n",
    "        cv = len(train_index)\n",
    "        best_inner_model = roc_nested_cross_val(X_train, Y_train, cv, LeaveOneGroupOut(), model, params)\n",
    "\n",
    "        best_inner_model.fit(X_train,Y_train.values.ravel())\n",
    "        probas_ = best_inner_model.predict_proba(X_test)\n",
    "        \n",
    "        fpr, tpr, thresholds = roc_curve(Y_test.values.ravel(), probas_[:, 1])\n",
    "        tprs.append(np.interp(mean_fpr, fpr, tpr))\n",
    "        tprs[-1][0] = 0.0\n",
    "        roc_auc = auc(fpr, tpr)\n",
    "        aucs.append(roc_auc)\n",
    "        \n",
    "        fold += 1\n",
    "    \n",
    "    return tprs,mean_fpr,aucs"
   ]
  },
  {
   "cell_type": "markdown",
   "metadata": {},
   "source": [
    "## Sensitivity with Specificity"
   ]
  },
  {
   "cell_type": "code",
   "execution_count": 80,
   "metadata": {},
   "outputs": [],
   "source": [
    "def cal_sensitivity_with_specificity(X, Y, groups, split_model, model, params,specificity):\n",
    "    \n",
    "    print(\"trail Outer Cross Validation\")\n",
    "    tprs = []\n",
    "    mean_fpr = np.linspace(0, 1, 1000)\n",
    "\n",
    "    for train_index, test_index in split_model.split(X, Y, groups):\n",
    "        \n",
    "        X_train = X[train_index[0]]\n",
    "        X_test = X[test_index[0]]\n",
    "        Y_train = Y[train_index[0]]\n",
    "        Y_test = Y[test_index[0]]\n",
    "        \n",
    "        for i in train_index[1:]:\n",
    "            X_train.append(X[i], sort=False)\n",
    "            Y_train.append(X[i], sort=False)\n",
    "        \n",
    "        for i in test_index[1:]:\n",
    "            X_test.append(X[i])\n",
    "            Y_test.append(X[i])\n",
    "        \n",
    "        cv = len(train_index)\n",
    "        best_inner_model = inner_nested_cross_val(X_train, Y_train, cv, LeaveOneGroupOut(), model, params)\n",
    "\n",
    "        best_inner_model.fit(X_train,Y_train.values.ravel())\n",
    "        probas_ = best_inner_model.predict_proba(X_test)\n",
    "        \n",
    "        fpr, tpr, thresholds = roc_curve(Y_test.values.ravel(), probas_[:, 1])\n",
    "        tprs.append(np.interp(mean_fpr,fpr,tpr))\n",
    "    mean_tpr = np.mean(tprs, axis=0)\n",
    "    \n",
    "    return np.interp(1-specificity,mean_fpr,mean_tpr)"
   ]
  },
  {
   "cell_type": "markdown",
   "metadata": {},
   "source": [
    "## Read and Combine Airbag data and manual data"
   ]
  },
  {
   "cell_type": "markdown",
   "metadata": {},
   "source": [
    "### For S1"
   ]
  },
  {
   "cell_type": "code",
   "execution_count": 10,
   "metadata": {},
   "outputs": [],
   "source": [
    "s1_data=read_data('Airbag-S1.CSV')\n",
    "s1_combined = read_combined_data('S1-combined.xlsx',s1_data)\n",
    "add_new_fall_value(s1_data,s1_combined)"
   ]
  },
  {
   "cell_type": "markdown",
   "metadata": {},
   "source": [
    "### For S2"
   ]
  },
  {
   "cell_type": "code",
   "execution_count": 11,
   "metadata": {},
   "outputs": [],
   "source": [
    "s2_data=read_data('Airbag-S2.CSV')\n",
    "s2_combined = read_combined_data('S2-combined.xlsx',s2_data)\n",
    "add_new_fall_value(s2_data,s2_combined)"
   ]
  },
  {
   "cell_type": "markdown",
   "metadata": {},
   "source": [
    "### For S3"
   ]
  },
  {
   "cell_type": "code",
   "execution_count": 12,
   "metadata": {},
   "outputs": [],
   "source": [
    "s3_data=read_data('Airbag-S3.CSV')\n",
    "s3_combined = read_combined_data('S3-combined.xlsx',s3_data)\n",
    "add_new_fall_value(s3_data,s3_combined)"
   ]
  },
  {
   "cell_type": "markdown",
   "metadata": {},
   "source": [
    "### For C1"
   ]
  },
  {
   "cell_type": "code",
   "execution_count": 13,
   "metadata": {},
   "outputs": [],
   "source": [
    "c1_data=read_data('C1-Airbag.CSV')\n",
    "c1_combined = read_combined_data('C1-combined.xlsx',c1_data)\n",
    "add_new_fall_value(c1_data,c1_combined)"
   ]
  },
  {
   "cell_type": "markdown",
   "metadata": {},
   "source": [
    "### For C2"
   ]
  },
  {
   "cell_type": "code",
   "execution_count": 14,
   "metadata": {},
   "outputs": [],
   "source": [
    "c2_data=read_data('C2-Airbag.CSV')\n",
    "c2_combined = read_combined_data('C2-combined.xlsx',c2_data)\n",
    "add_new_fall_value(c2_data,c2_combined)"
   ]
  },
  {
   "cell_type": "markdown",
   "metadata": {},
   "source": [
    "### For C3"
   ]
  },
  {
   "cell_type": "code",
   "execution_count": 15,
   "metadata": {},
   "outputs": [],
   "source": [
    "c3_data=read_data('C3-Airbag.CSV')\n",
    "c3_combined = read_combined_data('C3-combined.xlsx',c3_data)\n",
    "add_new_fall_value(c3_data,c3_combined)"
   ]
  },
  {
   "cell_type": "markdown",
   "metadata": {},
   "source": [
    "# Create features with moving window"
   ]
  },
  {
   "cell_type": "code",
   "execution_count": 87,
   "metadata": {},
   "outputs": [
    {
     "data": {
      "text/plain": [
       "[50, 60, 70, 80, 90, 100, 110]"
      ]
     },
     "execution_count": 87,
     "metadata": {},
     "output_type": "execute_result"
    }
   ],
   "source": [
    "window_size = 1000\n",
    "last_window = 210\n",
    "move_window = [10,20,50,100,150,200,250,300,350,400,2000]\n",
    "# for index in range(window_size,last_window,window_size):\n",
    "#     move_window.append(1000+index)\n",
    "\n",
    "\n",
    "model = RandomForestClassifier(random_state=2)\n",
    "n_estimators = list(range(50,120,10))\n",
    "params = {'n_estimators':n_estimators}\n",
    "groups = [1,2,3,4,5,6]\n",
    "split_model = LeaveOneGroupOut()\n",
    "data = [s1_data,s2_data,s3_data,c1_data,c2_data,c3_data]\n",
    "\n",
    "table = pd.DataFrame(columns={'lead time(in ms)','sensitivity','specificity'})\n",
    "move_window\n",
    "n_estimators"
   ]
  },
  {
   "cell_type": "code",
   "execution_count": 35,
   "metadata": {},
   "outputs": [
    {
     "data": {
      "text/html": [
       "<div>\n",
       "<style scoped>\n",
       "    .dataframe tbody tr th:only-of-type {\n",
       "        vertical-align: middle;\n",
       "    }\n",
       "\n",
       "    .dataframe tbody tr th {\n",
       "        vertical-align: top;\n",
       "    }\n",
       "\n",
       "    .dataframe thead th {\n",
       "        text-align: right;\n",
       "    }\n",
       "</style>\n",
       "<table border=\"1\" class=\"dataframe\">\n",
       "  <thead>\n",
       "    <tr style=\"text-align: right;\">\n",
       "      <th></th>\n",
       "      <th>lead time(in ms)</th>\n",
       "      <th>specificity</th>\n",
       "      <th>sensitivity</th>\n",
       "    </tr>\n",
       "  </thead>\n",
       "  <tbody>\n",
       "    <tr>\n",
       "      <th>0</th>\n",
       "      <td>-1000.0</td>\n",
       "      <td>0.99</td>\n",
       "      <td>0.67</td>\n",
       "    </tr>\n",
       "    <tr>\n",
       "      <th>1</th>\n",
       "      <td>50.0</td>\n",
       "      <td>1.00</td>\n",
       "      <td>0.21</td>\n",
       "    </tr>\n",
       "    <tr>\n",
       "      <th>2</th>\n",
       "      <td>100.0</td>\n",
       "      <td>1.00</td>\n",
       "      <td>0.18</td>\n",
       "    </tr>\n",
       "    <tr>\n",
       "      <th>3</th>\n",
       "      <td>150.0</td>\n",
       "      <td>1.00</td>\n",
       "      <td>0.21</td>\n",
       "    </tr>\n",
       "  </tbody>\n",
       "</table>\n",
       "</div>"
      ],
      "text/plain": [
       "   lead time(in ms)  specificity  sensitivity\n",
       "0           -1000.0         0.99         0.67\n",
       "1              50.0         1.00         0.21\n",
       "2             100.0         1.00         0.18\n",
       "3             150.0         1.00         0.21"
      ]
     },
     "execution_count": 35,
     "metadata": {},
     "output_type": "execute_result"
    }
   ],
   "source": [
    "table.head(10)"
   ]
  },
  {
   "cell_type": "markdown",
   "metadata": {},
   "source": [
    "# test"
   ]
  },
  {
   "cell_type": "markdown",
   "metadata": {},
   "source": [
    "## Sensitivity with specificity"
   ]
  },
  {
   "cell_type": "code",
   "execution_count": 99,
   "metadata": {},
   "outputs": [],
   "source": [
    "specificity = 0.99\n",
    "tpr_tnr_table = pd.DataFrame(columns={'lead time(in ms)','sensitivity','specificity'})\n",
    "move_window = [10,100,200,300,400,2000]"
   ]
  },
  {
   "cell_type": "code",
   "execution_count": 100,
   "metadata": {},
   "outputs": [
    {
     "name": "stdout",
     "output_type": "stream",
     "text": [
      "reading features on moved window frame by:10 ms\n",
      "calculating sensitivity on moved window frame by:10 ms\n",
      "trail Outer Cross Validation\n",
      "reading features on moved window frame by:100 ms\n",
      "calculating sensitivity on moved window frame by:100 ms\n",
      "trail Outer Cross Validation\n",
      "reading features on moved window frame by:200 ms\n",
      "calculating sensitivity on moved window frame by:200 ms\n",
      "trail Outer Cross Validation\n",
      "reading features on moved window frame by:300 ms\n",
      "calculating sensitivity on moved window frame by:300 ms\n",
      "trail Outer Cross Validation\n",
      "reading features on moved window frame by:400 ms\n",
      "calculating sensitivity on moved window frame by:400 ms\n",
      "trail Outer Cross Validation\n",
      "reading features on moved window frame by:2000 ms\n",
      "calculating sensitivity on moved window frame by:2000 ms\n",
      "trail Outer Cross Validation\n"
     ]
    }
   ],
   "source": [
    "for index in move_window:\n",
    "    X = []\n",
    "    Y = []\n",
    "    print(\"reading features on moved window frame by:{} ms\".format(index))\n",
    "    \n",
    "    for inner_index in range(1,7):\n",
    "        feature = pd.read_csv(\"./Features/\"+str(index)+\"_\"+str(inner_index)+ \".csv\")\n",
    "        X.append(feature[['min_acc','max_acc']])\n",
    "        Y.append(feature[['fall_value']])\n",
    "        \n",
    "    print(\"calculating sensitivity on moved window frame by:{} ms\".format(index))\n",
    "    \n",
    "    sens = cal_sensitivity_with_specificity(X, Y, groups, split_model, model, params,specificity)\n",
    "    tpr_tnr_table = tpr_tnr_table.append({'lead time(in ms)':index,'sensitivity':round(sens,3),'specificity':(specificity)},\n",
    "                       ignore_index = True)"
   ]
  },
  {
   "cell_type": "code",
   "execution_count": 101,
   "metadata": {},
   "outputs": [
    {
     "data": {
      "text/html": [
       "<div>\n",
       "<style scoped>\n",
       "    .dataframe tbody tr th:only-of-type {\n",
       "        vertical-align: middle;\n",
       "    }\n",
       "\n",
       "    .dataframe tbody tr th {\n",
       "        vertical-align: top;\n",
       "    }\n",
       "\n",
       "    .dataframe thead th {\n",
       "        text-align: right;\n",
       "    }\n",
       "</style>\n",
       "<table border=\"1\" class=\"dataframe\">\n",
       "  <thead>\n",
       "    <tr style=\"text-align: right;\">\n",
       "      <th></th>\n",
       "      <th>lead time(in ms)</th>\n",
       "      <th>specificity</th>\n",
       "      <th>sensitivity</th>\n",
       "    </tr>\n",
       "  </thead>\n",
       "  <tbody>\n",
       "    <tr>\n",
       "      <th>0</th>\n",
       "      <td>10.0</td>\n",
       "      <td>0.99</td>\n",
       "      <td>0.877</td>\n",
       "    </tr>\n",
       "    <tr>\n",
       "      <th>1</th>\n",
       "      <td>100.0</td>\n",
       "      <td>0.99</td>\n",
       "      <td>0.436</td>\n",
       "    </tr>\n",
       "    <tr>\n",
       "      <th>2</th>\n",
       "      <td>200.0</td>\n",
       "      <td>0.99</td>\n",
       "      <td>0.454</td>\n",
       "    </tr>\n",
       "    <tr>\n",
       "      <th>3</th>\n",
       "      <td>300.0</td>\n",
       "      <td>0.99</td>\n",
       "      <td>0.333</td>\n",
       "    </tr>\n",
       "    <tr>\n",
       "      <th>4</th>\n",
       "      <td>400.0</td>\n",
       "      <td>0.99</td>\n",
       "      <td>0.271</td>\n",
       "    </tr>\n",
       "    <tr>\n",
       "      <th>5</th>\n",
       "      <td>2000.0</td>\n",
       "      <td>0.99</td>\n",
       "      <td>0.027</td>\n",
       "    </tr>\n",
       "  </tbody>\n",
       "</table>\n",
       "</div>"
      ],
      "text/plain": [
       "   lead time(in ms)  specificity  sensitivity\n",
       "0              10.0         0.99        0.877\n",
       "1             100.0         0.99        0.436\n",
       "2             200.0         0.99        0.454\n",
       "3             300.0         0.99        0.333\n",
       "4             400.0         0.99        0.271\n",
       "5            2000.0         0.99        0.027"
      ]
     },
     "execution_count": 101,
     "metadata": {},
     "output_type": "execute_result"
    }
   ],
   "source": [
    "tpr_tnr_table.head(7)"
   ]
  },
  {
   "cell_type": "markdown",
   "metadata": {},
   "source": [
    "## Feature Extraction and Saving"
   ]
  },
  {
   "cell_type": "code",
   "execution_count": 50,
   "metadata": {},
   "outputs": [
    {
     "name": "stdout",
     "output_type": "stream",
     "text": [
      "extracting features on moved window frame by:10 ms\n",
      "extracting features on moved window frame by:20 ms\n",
      "extracting features on moved window frame by:50 ms\n",
      "extracting features on moved window frame by:100 ms\n",
      "extracting features on moved window frame by:150 ms\n",
      "extracting features on moved window frame by:200 ms\n",
      "extracting features on moved window frame by:250 ms\n",
      "extracting features on moved window frame by:300 ms\n",
      "extracting features on moved window frame by:350 ms\n",
      "extracting features on moved window frame by:400 ms\n",
      "extracting features on moved window frame by:2000 ms\n"
     ]
    }
   ],
   "source": [
    "for index in move_window:\n",
    "    print(\"extracting features on moved window frame by:{} ms\".format(index))\n",
    "    data_count = 1\n",
    "    for temp_data in data:\n",
    "        feature = extract_feature(temp_data,move_window=index)\n",
    "        #saving features of each subject on a particular moving window\n",
    "        feature.to_csv(\"./Features/\"+str(index)+\"_\"+str(data_count)+ \".csv\", sep=',',index=False)\n",
    "        data_count += 1"
   ]
  },
  {
   "cell_type": "markdown",
   "metadata": {},
   "source": [
    "## ROC graph on moving window"
   ]
  },
  {
   "cell_type": "code",
   "execution_count": 93,
   "metadata": {},
   "outputs": [
    {
     "name": "stdout",
     "output_type": "stream",
     "text": [
      "predicting on features by moved window frame by:10 ms\n",
      "predicting on features by moved window frame by:100 ms\n",
      "predicting on features by moved window frame by:200 ms\n",
      "predicting on features by moved window frame by:300 ms\n",
      "predicting on features by moved window frame by:400 ms\n",
      "predicting on features by moved window frame by:2000 ms\n"
     ]
    },
    {
     "data": {
      "image/png": "[encoded data removed]",
      "text/plain": [
       "<Figure size 720x504 with 1 Axes>"
      ]
     },
     "metadata": {
      "needs_background": "light"
     },
     "output_type": "display_data"
    }
   ],
   "source": [
    "move_window = [10,100,200,300,400,2000]\n",
    "plt.figure(figsize=(10,7))\n",
    "for index in move_window:\n",
    "    X = []\n",
    "    Y = []\n",
    "    print(\"predicting on features by moved window frame by:{} ms\".format(index))\n",
    "    \n",
    "    for inner_index in range(1,7):\n",
    "        feature = pd.read_csv(\"./Features/\"+str(index)+\"_\"+str(inner_index)+ \".csv\")\n",
    "        X.append(feature[['min_acc','max_acc']])\n",
    "        Y.append(feature[['fall_value']])\n",
    "    tprs,mean_fpr,aucs = trail_roc_outer_cross_val(X, Y, groups, split_model, model, params)\n",
    "    mean_tpr = np.mean(tprs, axis=0)\n",
    "    mean_tpr[-1] = 1.0\n",
    "    mean_auc = auc(mean_fpr, mean_tpr)\n",
    "    std_auc = np.std(aucs)\n",
    "    plt.plot(mean_fpr, mean_tpr,\n",
    "             label=str(index)+' ms ROC (AUC = %0.2f $\\pm$ %0.2f)' % (mean_auc, std_auc),\n",
    "             lw=2, alpha=.9)\n",
    "    \n",
    "plt.plot([0, 1], [0, 1], linestyle='--', lw=2, color='r',\n",
    "     label='Chance', alpha=.8) \n",
    "plt.title('ROC Curve for different lead time ms')\n",
    "plt.xlim([-0.05, 1.05])\n",
    "plt.ylim([-0.05, 1.05])\n",
    "plt.xlabel('False Positive Rate')\n",
    "plt.ylabel('True Positive Rate')\n",
    "plt.legend(loc=\"lower right\")\n",
    "img_name = 'ROC_curve'+' ms.png'\n",
    "plt.savefig(img_name)\n",
    "plt.show()"
   ]
  },
  {
   "cell_type": "code",
   "execution_count": null,
   "metadata": {},
   "outputs": [],
   "source": []
  }
 ],
 "metadata": {
  "kernelspec": {
   "display_name": "Python 3",
   "language": "python",
   "name": "python3"
  },
  "language_info": {
   "codemirror_mode": {
    "name": "ipython",
    "version": 3
   },
   "file_extension": ".py",
   "mimetype": "text/x-python",
   "name": "python",
   "nbconvert_exporter": "python",
   "pygments_lexer": "ipython3",
   "version": "3.5.6"
  },
  "toc": {
   "base_numbering": 1,
   "nav_menu": {},
   "number_sections": true,
   "sideBar": true,
   "skip_h1_title": false,
   "title_cell": "Table of Contents",
   "title_sidebar": "Contents",
   "toc_cell": false,
   "toc_position": {
    "height": "calc(100% - 180px)",
    "left": "10px",
    "top": "150px",
    "width": "174.188px"
   },
   "toc_section_display": true,
   "toc_window_display": true
  },
  "widgets": {
   "state": {},
   "version": "1.1.2"
  }
 },
 "nbformat": 4,
 "nbformat_minor": 2
}
